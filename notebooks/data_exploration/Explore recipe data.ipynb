{
 "cells": [
  {
   "cell_type": "markdown",
   "metadata": {},
   "source": [
    "# Recipe data from https://www.kaggle.com/hugodarwood/epirecipes"
   ]
  },
  {
   "cell_type": "code",
   "execution_count": 1,
   "metadata": {},
   "outputs": [],
   "source": [
    "from collections import Counter\n",
    "import json\n",
    "\n",
    "import pandas as pd\n",
    "import matplotlib.pyplot as plt\n",
    "import seaborn as sns\n",
    "\n",
    "%matplotlib inline"
   ]
  },
  {
   "cell_type": "markdown",
   "metadata": {},
   "source": [
    "## Open recipe json as dataframe"
   ]
  },
  {
   "cell_type": "code",
   "execution_count": 6,
   "metadata": {},
   "outputs": [],
   "source": [
    "recipe_file = \"/Users/Carol/Dropbox/epicurious-recipes-with-rating-and-nutrition/full_format_recipes.json\""
   ]
  },
  {
   "cell_type": "code",
   "execution_count": 7,
   "metadata": {},
   "outputs": [
    {
     "data": {
      "text/html": [
       "<div>\n",
       "<style scoped>\n",
       "    .dataframe tbody tr th:only-of-type {\n",
       "        vertical-align: middle;\n",
       "    }\n",
       "\n",
       "    .dataframe tbody tr th {\n",
       "        vertical-align: top;\n",
       "    }\n",
       "\n",
       "    .dataframe thead th {\n",
       "        text-align: right;\n",
       "    }\n",
       "</style>\n",
       "<table border=\"1\" class=\"dataframe\">\n",
       "  <thead>\n",
       "    <tr style=\"text-align: right;\">\n",
       "      <th></th>\n",
       "      <th>calories</th>\n",
       "      <th>categories</th>\n",
       "      <th>date</th>\n",
       "      <th>desc</th>\n",
       "      <th>directions</th>\n",
       "      <th>fat</th>\n",
       "      <th>ingredients</th>\n",
       "      <th>protein</th>\n",
       "      <th>rating</th>\n",
       "      <th>sodium</th>\n",
       "      <th>title</th>\n",
       "    </tr>\n",
       "  </thead>\n",
       "  <tbody>\n",
       "    <tr>\n",
       "      <th>0</th>\n",
       "      <td>426.0</td>\n",
       "      <td>[Sandwich, Bean, Fruit, Tomato, turkey, Vegeta...</td>\n",
       "      <td>2006-09-01 04:00:00</td>\n",
       "      <td>None</td>\n",
       "      <td>[1. Place the stock, lentils, celery, carrot, ...</td>\n",
       "      <td>7.0</td>\n",
       "      <td>[4 cups low-sodium vegetable or chicken stock,...</td>\n",
       "      <td>30.0</td>\n",
       "      <td>2.500</td>\n",
       "      <td>559.0</td>\n",
       "      <td>Lentil, Apple, and Turkey Wrap</td>\n",
       "    </tr>\n",
       "    <tr>\n",
       "      <th>1</th>\n",
       "      <td>403.0</td>\n",
       "      <td>[Food Processor, Onion, Pork, Bake, Bastille D...</td>\n",
       "      <td>2004-08-20 04:00:00</td>\n",
       "      <td>This uses the same ingredients found in boudin...</td>\n",
       "      <td>[Combine first 9 ingredients in heavy medium s...</td>\n",
       "      <td>23.0</td>\n",
       "      <td>[1 1/2 cups whipping cream, 2 medium onions, c...</td>\n",
       "      <td>18.0</td>\n",
       "      <td>4.375</td>\n",
       "      <td>1439.0</td>\n",
       "      <td>Boudin Blanc Terrine with Red Onion Confit</td>\n",
       "    </tr>\n",
       "  </tbody>\n",
       "</table>\n",
       "</div>"
      ],
      "text/plain": [
       "   calories                                         categories  \\\n",
       "0     426.0  [Sandwich, Bean, Fruit, Tomato, turkey, Vegeta...   \n",
       "1     403.0  [Food Processor, Onion, Pork, Bake, Bastille D...   \n",
       "\n",
       "                 date                                               desc  \\\n",
       "0 2006-09-01 04:00:00                                               None   \n",
       "1 2004-08-20 04:00:00  This uses the same ingredients found in boudin...   \n",
       "\n",
       "                                          directions   fat  \\\n",
       "0  [1. Place the stock, lentils, celery, carrot, ...   7.0   \n",
       "1  [Combine first 9 ingredients in heavy medium s...  23.0   \n",
       "\n",
       "                                         ingredients  protein  rating  sodium  \\\n",
       "0  [4 cups low-sodium vegetable or chicken stock,...     30.0   2.500   559.0   \n",
       "1  [1 1/2 cups whipping cream, 2 medium onions, c...     18.0   4.375  1439.0   \n",
       "\n",
       "                                         title  \n",
       "0              Lentil, Apple, and Turkey Wrap   \n",
       "1  Boudin Blanc Terrine with Red Onion Confit   "
      ]
     },
     "execution_count": 7,
     "metadata": {},
     "output_type": "execute_result"
    }
   ],
   "source": [
    "recipe_df = pd.read_json(recipe_file, orient='records')\n",
    "recipe_df.head(2)"
   ]
  },
  {
   "cell_type": "markdown",
   "metadata": {},
   "source": [
    "## Summary stats"
   ]
  },
  {
   "cell_type": "code",
   "execution_count": 4,
   "metadata": {},
   "outputs": [
    {
     "name": "stdout",
     "output_type": "stream",
     "text": [
      "<class 'pandas.core.frame.DataFrame'>\n",
      "RangeIndex: 20130 entries, 0 to 20129\n",
      "Data columns (total 11 columns):\n",
      "calories       15976 non-null float64\n",
      "categories     20111 non-null object\n",
      "date           20111 non-null datetime64[ns]\n",
      "desc           13495 non-null object\n",
      "directions     20111 non-null object\n",
      "fat            15908 non-null float64\n",
      "ingredients    20111 non-null object\n",
      "protein        15929 non-null float64\n",
      "rating         20100 non-null float64\n",
      "sodium         15974 non-null float64\n",
      "title          20111 non-null object\n",
      "dtypes: datetime64[ns](1), float64(5), object(5)\n",
      "memory usage: 1.7+ MB\n"
     ]
    }
   ],
   "source": [
    "recipe_df.info()"
   ]
  },
  {
   "cell_type": "code",
   "execution_count": 5,
   "metadata": {},
   "outputs": [
    {
     "data": {
      "text/html": [
       "<div>\n",
       "<style scoped>\n",
       "    .dataframe tbody tr th:only-of-type {\n",
       "        vertical-align: middle;\n",
       "    }\n",
       "\n",
       "    .dataframe tbody tr th {\n",
       "        vertical-align: top;\n",
       "    }\n",
       "\n",
       "    .dataframe thead th {\n",
       "        text-align: right;\n",
       "    }\n",
       "</style>\n",
       "<table border=\"1\" class=\"dataframe\">\n",
       "  <thead>\n",
       "    <tr style=\"text-align: right;\">\n",
       "      <th></th>\n",
       "      <th>calories</th>\n",
       "      <th>fat</th>\n",
       "      <th>protein</th>\n",
       "      <th>rating</th>\n",
       "      <th>sodium</th>\n",
       "    </tr>\n",
       "  </thead>\n",
       "  <tbody>\n",
       "    <tr>\n",
       "      <th>count</th>\n",
       "      <td>1.597600e+04</td>\n",
       "      <td>1.590800e+04</td>\n",
       "      <td>15929.000000</td>\n",
       "      <td>20100.000000</td>\n",
       "      <td>1.597400e+04</td>\n",
       "    </tr>\n",
       "    <tr>\n",
       "      <th>mean</th>\n",
       "      <td>6.307857e+03</td>\n",
       "      <td>3.460975e+02</td>\n",
       "      <td>99.946199</td>\n",
       "      <td>3.713060</td>\n",
       "      <td>6.211474e+03</td>\n",
       "    </tr>\n",
       "    <tr>\n",
       "      <th>std</th>\n",
       "      <td>3.585851e+05</td>\n",
       "      <td>2.043102e+04</td>\n",
       "      <td>3835.616663</td>\n",
       "      <td>1.343144</td>\n",
       "      <td>3.328903e+05</td>\n",
       "    </tr>\n",
       "    <tr>\n",
       "      <th>min</th>\n",
       "      <td>0.000000e+00</td>\n",
       "      <td>0.000000e+00</td>\n",
       "      <td>0.000000</td>\n",
       "      <td>0.000000</td>\n",
       "      <td>0.000000e+00</td>\n",
       "    </tr>\n",
       "    <tr>\n",
       "      <th>25%</th>\n",
       "      <td>1.980000e+02</td>\n",
       "      <td>7.000000e+00</td>\n",
       "      <td>3.000000</td>\n",
       "      <td>3.750000</td>\n",
       "      <td>8.000000e+01</td>\n",
       "    </tr>\n",
       "    <tr>\n",
       "      <th>50%</th>\n",
       "      <td>3.310000e+02</td>\n",
       "      <td>1.700000e+01</td>\n",
       "      <td>8.000000</td>\n",
       "      <td>4.375000</td>\n",
       "      <td>2.940000e+02</td>\n",
       "    </tr>\n",
       "    <tr>\n",
       "      <th>75%</th>\n",
       "      <td>5.860000e+02</td>\n",
       "      <td>3.300000e+01</td>\n",
       "      <td>27.000000</td>\n",
       "      <td>4.375000</td>\n",
       "      <td>7.110000e+02</td>\n",
       "    </tr>\n",
       "    <tr>\n",
       "      <th>max</th>\n",
       "      <td>3.011122e+07</td>\n",
       "      <td>1.722763e+06</td>\n",
       "      <td>236489.000000</td>\n",
       "      <td>5.000000</td>\n",
       "      <td>2.767511e+07</td>\n",
       "    </tr>\n",
       "  </tbody>\n",
       "</table>\n",
       "</div>"
      ],
      "text/plain": [
       "           calories           fat        protein        rating        sodium\n",
       "count  1.597600e+04  1.590800e+04   15929.000000  20100.000000  1.597400e+04\n",
       "mean   6.307857e+03  3.460975e+02      99.946199      3.713060  6.211474e+03\n",
       "std    3.585851e+05  2.043102e+04    3835.616663      1.343144  3.328903e+05\n",
       "min    0.000000e+00  0.000000e+00       0.000000      0.000000  0.000000e+00\n",
       "25%    1.980000e+02  7.000000e+00       3.000000      3.750000  8.000000e+01\n",
       "50%    3.310000e+02  1.700000e+01       8.000000      4.375000  2.940000e+02\n",
       "75%    5.860000e+02  3.300000e+01      27.000000      4.375000  7.110000e+02\n",
       "max    3.011122e+07  1.722763e+06  236489.000000      5.000000  2.767511e+07"
      ]
     },
     "execution_count": 5,
     "metadata": {},
     "output_type": "execute_result"
    }
   ],
   "source": [
    "recipe_df.describe()"
   ]
  },
  {
   "cell_type": "code",
   "execution_count": 6,
   "metadata": {},
   "outputs": [
    {
     "data": {
      "text/plain": [
       "Text(0, 0.5, 'Counts')"
      ]
     },
     "execution_count": 6,
     "metadata": {},
     "output_type": "execute_result"
    },
    {
     "data": {
      "image/png": "[encoded data removed]",
      "text/plain": [
       "<Figure size 432x288 with 1 Axes>"
      ]
     },
     "metadata": {
      "needs_background": "light"
     },
     "output_type": "display_data"
    }
   ],
   "source": [
    "sns.distplot(recipe_df['rating'].dropna(),bins=6, kde=False)\n",
    "plt.xlabel('Rating')\n",
    "plt.ylabel('Counts')"
   ]
  },
  {
   "cell_type": "code",
   "execution_count": 8,
   "metadata": {},
   "outputs": [
    {
     "data": {
      "text/plain": [
       "Text(0, 0.5, 'Counts')"
      ]
     },
     "execution_count": 8,
     "metadata": {},
     "output_type": "execute_result"
    },
    {
     "data": {
      "image/png": "[encoded data removed]",
      "text/plain": [
       "<Figure size 432x288 with 1 Axes>"
      ]
     },
     "metadata": {
      "needs_background": "light"
     },
     "output_type": "display_data"
    }
   ],
   "source": [
    "sns.distplot(recipe_df['calories'].dropna(), kde=False)\n",
    "plt.xlabel('Calories')\n",
    "plt.ylabel('Counts')"
   ]
  },
  {
   "cell_type": "code",
   "execution_count": 12,
   "metadata": {},
   "outputs": [
    {
     "data": {
      "image/png": "[encoded data removed]",
      "text/plain": [
       "<Figure size 432x288 with 1 Axes>"
      ]
     },
     "metadata": {
      "needs_background": "light"
     },
     "output_type": "display_data"
    }
   ],
   "source": [
    "# There are some outliers making the plot above look ridiculous.\n",
    "# just plot the range below 2000 calories\n",
    "reasonable_cals = recipe_df[recipe_df['calories']<2000]\n",
    "sns.distplot(reasonable_cals['calories'].dropna(),  kde=False)\n",
    "plt.xlabel('Calories')\n",
    "plt.ylabel('Counts')\n",
    "plt.title(\"Recipe calorie counts\")\n",
    "plt.xlim()\n",
    "plt.savefig(\"/Users/Carol/Dropbox/epicurious-recipes-with-rating-and-nutrition/plots/calories.jpg\")"
   ]
  },
  {
   "cell_type": "code",
   "execution_count": 9,
   "metadata": {},
   "outputs": [
    {
     "data": {
      "text/plain": [
       "Text(0, 0.5, 'Counts')"
      ]
     },
     "execution_count": 9,
     "metadata": {},
     "output_type": "execute_result"
    },
    {
     "data": {
      "image/png": "[encoded data removed]",
      "text/plain": [
       "<Figure size 432x288 with 1 Axes>"
      ]
     },
     "metadata": {
      "needs_background": "light"
     },
     "output_type": "display_data"
    }
   ],
   "source": [
    "sns.distplot(recipe_df['fat'].dropna(), kde=False)\n",
    "plt.xlabel('Fat')\n",
    "plt.ylabel('Counts')"
   ]
  },
  {
   "cell_type": "code",
   "execution_count": 10,
   "metadata": {},
   "outputs": [
    {
     "data": {
      "text/plain": [
       "(-9.95, 208.94999999999996)"
      ]
     },
     "execution_count": 10,
     "metadata": {},
     "output_type": "execute_result"
    },
    {
     "data": {
      "image/png": "[encoded data removed]",
      "text/plain": [
       "<Figure size 432x288 with 1 Axes>"
      ]
     },
     "metadata": {
      "needs_background": "light"
     },
     "output_type": "display_data"
    }
   ],
   "source": [
    "# fat outliers are also ruining the fat plot\n",
    "reasonable_fat = recipe_df[recipe_df['fat']<200]\n",
    "sns.distplot(reasonable_fat['fat'].dropna(), kde=False)\n",
    "plt.xlabel('Fat')\n",
    "plt.ylabel('Counts')\n",
    "plt.xlim()"
   ]
  },
  {
   "cell_type": "code",
   "execution_count": 11,
   "metadata": {},
   "outputs": [
    {
     "data": {
      "text/plain": [
       "Text(0, 0.5, 'Counts')"
      ]
     },
     "execution_count": 11,
     "metadata": {},
     "output_type": "execute_result"
    },
    {
     "data": {
      "image/png": "[encoded data removed]",
      "text/plain": [
       "<Figure size 432x288 with 1 Axes>"
      ]
     },
     "metadata": {
      "needs_background": "light"
     },
     "output_type": "display_data"
    }
   ],
   "source": [
    "sns.distplot(recipe_df['sodium'].dropna(), kde=False)\n",
    "plt.xlabel('Sodium')\n",
    "plt.ylabel('Counts')"
   ]
  },
  {
   "cell_type": "code",
   "execution_count": 13,
   "metadata": {},
   "outputs": [
    {
     "data": {
      "image/png": "[encoded data removed]",
      "text/plain": [
       "<Figure size 432x288 with 1 Axes>"
      ]
     },
     "metadata": {
      "needs_background": "light"
     },
     "output_type": "display_data"
    }
   ],
   "source": [
    "# same deal with the sodium. plot without outliers.\n",
    "reasonable_sodium = recipe_df[recipe_df['sodium']<3000]\n",
    "sns.distplot(reasonable_sodium['sodium'].dropna(), kde=False)\n",
    "plt.xlabel('Sodium')\n",
    "plt.ylabel('Counts')\n",
    "plt.xlim()\n",
    "plt.title(\"Sodium Quantity\")\n",
    "plt.savefig(\"/Users/Carol/Dropbox/epicurious-recipes-with-rating-and-nutrition/plots/sodium.jpg\")"
   ]
  },
  {
   "cell_type": "code",
   "execution_count": 13,
   "metadata": {},
   "outputs": [
    {
     "data": {
      "text/plain": [
       "Text(0, 0.5, 'Counts')"
      ]
     },
     "execution_count": 13,
     "metadata": {},
     "output_type": "execute_result"
    },
    {
     "data": {
      "image/png": "[encoded data removed]",
      "text/plain": [
       "<Figure size 432x288 with 1 Axes>"
      ]
     },
     "metadata": {
      "needs_background": "light"
     },
     "output_type": "display_data"
    }
   ],
   "source": [
    "sns.distplot(recipe_df['protein'].dropna(), kde=False)\n",
    "plt.xlabel('Protein')\n",
    "plt.ylabel('Counts')"
   ]
  },
  {
   "cell_type": "code",
   "execution_count": 14,
   "metadata": {},
   "outputs": [
    {
     "data": {
      "text/plain": [
       "Text(0, 0.5, 'Counts')"
      ]
     },
     "execution_count": 14,
     "metadata": {},
     "output_type": "execute_result"
    },
    {
     "data": {
      "image/png": "[encoded data removed]",
      "text/plain": [
       "<Figure size 432x288 with 1 Axes>"
      ]
     },
     "metadata": {
      "needs_background": "light"
     },
     "output_type": "display_data"
    }
   ],
   "source": [
    "# plot protein without outliers \n",
    "reasonable_protein = recipe_df[recipe_df['protein']<100]\n",
    "sns.distplot(reasonable_protein['protein'].dropna(),kde=False)\n",
    "plt.xlabel('Protein')\n",
    "plt.ylabel('Counts')"
   ]
  },
  {
   "cell_type": "markdown",
   "metadata": {},
   "source": [
    "## There are some insanely high numbers for calories, fat, etc.  Take a look at some outliers.\n",
    "\n",
    "### Findings:   \n",
    "In general, the nutrition info is hard to interpet. I can't tell here whether calorie counts are supposed to be per serving, or in total. Also, what are the units for each nutrient? For calories, are the units Kcal or Cal? What about sodium? If we assume mg, the lamb rice pilaf contains 3 kilos of sodium, which doesn't seem possible. The numbers may be corrupted."
   ]
  },
  {
   "cell_type": "code",
   "execution_count": 15,
   "metadata": {},
   "outputs": [
    {
     "data": {
      "text/plain": [
       "(21, 11)"
      ]
     },
     "execution_count": 15,
     "metadata": {},
     "output_type": "execute_result"
    }
   ],
   "source": [
    "high_cal = recipe_df[recipe_df.calories > 10000]\n",
    "high_cal.shape"
   ]
  },
  {
   "cell_type": "code",
   "execution_count": 16,
   "metadata": {},
   "outputs": [
    {
     "data": {
      "text/html": [
       "<div>\n",
       "<style scoped>\n",
       "    .dataframe tbody tr th:only-of-type {\n",
       "        vertical-align: middle;\n",
       "    }\n",
       "\n",
       "    .dataframe tbody tr th {\n",
       "        vertical-align: top;\n",
       "    }\n",
       "\n",
       "    .dataframe thead th {\n",
       "        text-align: right;\n",
       "    }\n",
       "</style>\n",
       "<table border=\"1\" class=\"dataframe\">\n",
       "  <thead>\n",
       "    <tr style=\"text-align: right;\">\n",
       "      <th></th>\n",
       "      <th>calories</th>\n",
       "      <th>categories</th>\n",
       "      <th>date</th>\n",
       "      <th>desc</th>\n",
       "      <th>directions</th>\n",
       "      <th>fat</th>\n",
       "      <th>ingredients</th>\n",
       "      <th>protein</th>\n",
       "      <th>rating</th>\n",
       "      <th>sodium</th>\n",
       "      <th>title</th>\n",
       "    </tr>\n",
       "  </thead>\n",
       "  <tbody>\n",
       "    <tr>\n",
       "      <th>1308</th>\n",
       "      <td>4157357.0</td>\n",
       "      <td>[Lamb, Rice, Vegetable, Braise, Dinner, Raisin...</td>\n",
       "      <td>2007-08-24 18:04:29.000</td>\n",
       "      <td>This lamb-rich, Uzbek-style pilaf is typical o...</td>\n",
       "      <td>[Wash rice in several changes of cold water in...</td>\n",
       "      <td>221495.0</td>\n",
       "      <td>[3 cups basmati rice (7 ounces), 1 medium onio...</td>\n",
       "      <td>236489.0</td>\n",
       "      <td>5.000</td>\n",
       "      <td>3134853.0</td>\n",
       "      <td>Rice Pilaf with Lamb, Carrots, and Raisins</td>\n",
       "    </tr>\n",
       "    <tr>\n",
       "      <th>1843</th>\n",
       "      <td>12010.0</td>\n",
       "      <td>[Milk/Cream, Beef, Fish, Onion, Bake, Vinegar,...</td>\n",
       "      <td>2004-08-20 04:00:00.000</td>\n",
       "      <td>None</td>\n",
       "      <td>[In a heavy saucepan boil vinegar, water, onio...</td>\n",
       "      <td>1115.0</td>\n",
       "      <td>[3/4 cup balsamic vinegar, 1 1/2 cups water, 2...</td>\n",
       "      <td>403.0</td>\n",
       "      <td>4.375</td>\n",
       "      <td>18212.0</td>\n",
       "      <td>Bacon-Wrapped Trout Stuffed with Balsamic Onio...</td>\n",
       "    </tr>\n",
       "    <tr>\n",
       "      <th>2985</th>\n",
       "      <td>4518216.0</td>\n",
       "      <td>[Food Processor, Backyard BBQ, Ground Lamb, Sp...</td>\n",
       "      <td>2008-05-12 21:04:07.000</td>\n",
       "      <td>Köfte are a street-food favorite in the Middle...</td>\n",
       "      <td>[Soak bread in water to cover 30 minutes, then...</td>\n",
       "      <td>44198.0</td>\n",
       "      <td>[3 slices firm white sandwich bread, torn into...</td>\n",
       "      <td>166471.0</td>\n",
       "      <td>5.000</td>\n",
       "      <td>7540990.0</td>\n",
       "      <td>Lamb Köfte with Tarator Sauce</td>\n",
       "    </tr>\n",
       "    <tr>\n",
       "      <th>3290</th>\n",
       "      <td>19576.0</td>\n",
       "      <td>[Beef, Braise, Beef Rib, Red Wine, Fall, Bon A...</td>\n",
       "      <td>2004-08-20 04:00:00.000</td>\n",
       "      <td>Tiring of the ultra-refined nouvelle cuisine t...</td>\n",
       "      <td>[Stir flour and allspice in medium bowl to ble...</td>\n",
       "      <td>1818.0</td>\n",
       "      <td>[1/4 cup all-purpose flour, 1 teaspoon (genero...</td>\n",
       "      <td>723.0</td>\n",
       "      <td>3.750</td>\n",
       "      <td>2950.0</td>\n",
       "      <td>Braised Short Ribs with Red Wine Gravy</td>\n",
       "    </tr>\n",
       "    <tr>\n",
       "      <th>5165</th>\n",
       "      <td>3358029.0</td>\n",
       "      <td>[Fruit, Dessert, Bake, Christmas, Thanksgiving...</td>\n",
       "      <td>2004-08-20 04:00:00.000</td>\n",
       "      <td>None</td>\n",
       "      <td>[Position rack in center of oven and preheat t...</td>\n",
       "      <td>186642.0</td>\n",
       "      <td>[1/2 cup applejack brandy or brandy, 1/2 cup d...</td>\n",
       "      <td>58324.0</td>\n",
       "      <td>3.125</td>\n",
       "      <td>3449373.0</td>\n",
       "      <td>Caramelized Apple and Pear Pie</td>\n",
       "    </tr>\n",
       "    <tr>\n",
       "      <th>6400</th>\n",
       "      <td>29997918.0</td>\n",
       "      <td>[Egg, Fruit, Bake, Blueberry, Summer, Tapioca,...</td>\n",
       "      <td>2006-07-20 20:48:24.000</td>\n",
       "      <td>If you've never had pie made from wild blueber...</td>\n",
       "      <td>[Put a large baking sheet on oven rack in midd...</td>\n",
       "      <td>1716279.0</td>\n",
       "      <td>[1 1/4 cups packed light brown sugar, 5 tables...</td>\n",
       "      <td>200210.0</td>\n",
       "      <td>4.375</td>\n",
       "      <td>27570999.0</td>\n",
       "      <td>Deep-Dish Wild Blueberry Pie</td>\n",
       "    </tr>\n",
       "    <tr>\n",
       "      <th>6678</th>\n",
       "      <td>16050.0</td>\n",
       "      <td>[Beef, Citrus, Fruit, Ginger, Braise, Super Bo...</td>\n",
       "      <td>2004-08-20 04:00:00.000</td>\n",
       "      <td>Hoisin sauce is sold at Asian markets and in t...</td>\n",
       "      <td>[Preheat oven to 300°F. Using vegetable peeler...</td>\n",
       "      <td>1480.0</td>\n",
       "      <td>[4 large oranges, 3/4 cup hoisin sauce, 1/3 cu...</td>\n",
       "      <td>592.0</td>\n",
       "      <td>4.375</td>\n",
       "      <td>2629.0</td>\n",
       "      <td>Braised Orange-Ginger Short Ribs with Dried Ap...</td>\n",
       "    </tr>\n",
       "    <tr>\n",
       "      <th>6945</th>\n",
       "      <td>3358273.0</td>\n",
       "      <td>[Chocolate, Nut, Dessert, Bake, Christmas, Tha...</td>\n",
       "      <td>2004-08-20 04:00:00.000</td>\n",
       "      <td>None</td>\n",
       "      <td>[Position rack in center of oven and preheat t...</td>\n",
       "      <td>186660.0</td>\n",
       "      <td>[4 ounces bittersweet (not unsweetened) or sem...</td>\n",
       "      <td>58334.0</td>\n",
       "      <td>3.125</td>\n",
       "      <td>3449512.0</td>\n",
       "      <td>Chocolate-Almond Pie</td>\n",
       "    </tr>\n",
       "    <tr>\n",
       "      <th>8232</th>\n",
       "      <td>24117.0</td>\n",
       "      <td>[Lamb, Mushroom, Mustard, Quick &amp; Easy, Father...</td>\n",
       "      <td>2009-04-14 04:00:00.000</td>\n",
       "      <td>Rubbed all over with a mixture of garlic, fres...</td>\n",
       "      <td>[Prepare grill for direct-heat cooking over me...</td>\n",
       "      <td>2228.0</td>\n",
       "      <td>[2 ounces dried porcini mushrooms, 2 cups boil...</td>\n",
       "      <td>940.0</td>\n",
       "      <td>5.000</td>\n",
       "      <td>4382.0</td>\n",
       "      <td>Grilled Lamb Chops with Porcini Mustard</td>\n",
       "    </tr>\n",
       "    <tr>\n",
       "      <th>8917</th>\n",
       "      <td>22312.0</td>\n",
       "      <td>[Chicken, Quick &amp; Easy, Backyard BBQ, Spice, G...</td>\n",
       "      <td>2004-08-20 04:00:00.000</td>\n",
       "      <td>Can be prepared in 45 minutes or less.</td>\n",
       "      <td>[Make salsa., Prepare grill., Pat chicken dry ...</td>\n",
       "      <td>1007.0</td>\n",
       "      <td>[3 whole boneless chicken breasts with skin (a...</td>\n",
       "      <td>332.0</td>\n",
       "      <td>3.750</td>\n",
       "      <td>13820.0</td>\n",
       "      <td>Grilled Cumin Chicken Breasts with Avocado Salsa</td>\n",
       "    </tr>\n",
       "    <tr>\n",
       "      <th>8978</th>\n",
       "      <td>12824.0</td>\n",
       "      <td>[Chicken, Poultry, Bake, Super Bowl, Kid-Frien...</td>\n",
       "      <td>2004-08-20 04:00:00.000</td>\n",
       "      <td>(Spicy Baked Chicken Wings)</td>\n",
       "      <td>[In a food processor or blender purée the onio...</td>\n",
       "      <td>887.0</td>\n",
       "      <td>[1 onion, chopped, 2/3 cup finely chopped scal...</td>\n",
       "      <td>1164.0</td>\n",
       "      <td>4.375</td>\n",
       "      <td>6890.0</td>\n",
       "      <td>Jamaican \"Jerk\" Chicken Wings</td>\n",
       "    </tr>\n",
       "    <tr>\n",
       "      <th>9778</th>\n",
       "      <td>4157357.0</td>\n",
       "      <td>[Lamb, Rice, Vegetable, Braise, Dinner, Raisin...</td>\n",
       "      <td>2007-08-24 18:04:29.000</td>\n",
       "      <td>This lamb-rich, Uzbek-style pilaf is typical o...</td>\n",
       "      <td>[Wash rice in several changes of cold water in...</td>\n",
       "      <td>221495.0</td>\n",
       "      <td>[3 cups basmati rice (7 ounces), 1 medium onio...</td>\n",
       "      <td>236489.0</td>\n",
       "      <td>5.000</td>\n",
       "      <td>3134853.0</td>\n",
       "      <td>Rice Pilaf with Lamb, Carrots, and Raisins</td>\n",
       "    </tr>\n",
       "    <tr>\n",
       "      <th>10557</th>\n",
       "      <td>16761.0</td>\n",
       "      <td>[Duck, Onion, Poultry, Braise, Roast, Christma...</td>\n",
       "      <td>2004-08-20 04:00:00.000</td>\n",
       "      <td>We used chef Fergus Henderson's technique for ...</td>\n",
       "      <td>[Put oven racks in upper and lower thirds of o...</td>\n",
       "      <td>1610.0</td>\n",
       "      <td>[12 fresh duck legs (7 to 11 lb depending on a...</td>\n",
       "      <td>477.0</td>\n",
       "      <td>4.375</td>\n",
       "      <td>3097.0</td>\n",
       "      <td>Braised Duck Legs with Shallots and Parsnips</td>\n",
       "    </tr>\n",
       "    <tr>\n",
       "      <th>10901</th>\n",
       "      <td>12213.0</td>\n",
       "      <td>[Chicken, Bake, Low Fat, Kid-Friendly, Yogurt,...</td>\n",
       "      <td>2015-06-17 04:00:00.000</td>\n",
       "      <td>Yogurt gets used in two ways in this simple di...</td>\n",
       "      <td>[Mix garlic, oil, curry powder, 1 cup yogurt, ...</td>\n",
       "      <td>919.0</td>\n",
       "      <td>[1 head of garlic (about 12 cloves), peeled, f...</td>\n",
       "      <td>907.0</td>\n",
       "      <td>4.375</td>\n",
       "      <td>5252.0</td>\n",
       "      <td>Garlic-Curry Chicken Thighs With Yogurt Sauce</td>\n",
       "    </tr>\n",
       "    <tr>\n",
       "      <th>11444</th>\n",
       "      <td>30111218.0</td>\n",
       "      <td>[Berry, Fruit, Nut, Dessert, Bake, Christmas, ...</td>\n",
       "      <td>2006-10-20 15:17:12.000</td>\n",
       "      <td>Don't be nervous about making meatless minceme...</td>\n",
       "      <td>[Stir together all ingredients except pastry d...</td>\n",
       "      <td>1722763.0</td>\n",
       "      <td>[2 firm-ripe Anjou pears, peeled, cored, and f...</td>\n",
       "      <td>200968.0</td>\n",
       "      <td>4.375</td>\n",
       "      <td>27675110.0</td>\n",
       "      <td>Pear-Cranberry Mincemeat Lattice Pie</td>\n",
       "    </tr>\n",
       "    <tr>\n",
       "      <th>12178</th>\n",
       "      <td>22312.0</td>\n",
       "      <td>[Chicken, Quick &amp; Easy, Backyard BBQ, Spice, G...</td>\n",
       "      <td>2004-08-20 04:00:00.000</td>\n",
       "      <td>Can be prepared in 45 minutes or less.</td>\n",
       "      <td>[Make salsa., Prepare grill., Pat chicken dry ...</td>\n",
       "      <td>1007.0</td>\n",
       "      <td>[3 whole boneless chicken breasts with skin (a...</td>\n",
       "      <td>332.0</td>\n",
       "      <td>3.750</td>\n",
       "      <td>13820.0</td>\n",
       "      <td>Grilled Cumin Chicken Breasts with Avocado Salsa</td>\n",
       "    </tr>\n",
       "    <tr>\n",
       "      <th>14694</th>\n",
       "      <td>11453.0</td>\n",
       "      <td>[Bon Appétit, Lamb, Grill, Tomato, Garlic, Ros...</td>\n",
       "      <td>2016-06-16 21:32:20.174</td>\n",
       "      <td>Rib chops can be pricey. This same preparation...</td>\n",
       "      <td>[Combine garlic, rosemary, and 1/4 cup oil in ...</td>\n",
       "      <td>1054.0</td>\n",
       "      <td>[4 garlic cloves, finely chopped, 1/2 cup fine...</td>\n",
       "      <td>447.0</td>\n",
       "      <td>0.000</td>\n",
       "      <td>1749.0</td>\n",
       "      <td>Lamb Chops Scottadito\\n                With Ch...</td>\n",
       "    </tr>\n",
       "    <tr>\n",
       "      <th>16074</th>\n",
       "      <td>22312.0</td>\n",
       "      <td>[Chicken, Quick &amp; Easy, Backyard BBQ, Spice, G...</td>\n",
       "      <td>2004-08-20 04:00:00.000</td>\n",
       "      <td>Can be prepared in 45 minutes or less.</td>\n",
       "      <td>[Make salsa., Prepare grill., Pat chicken dry ...</td>\n",
       "      <td>1007.0</td>\n",
       "      <td>[3 whole boneless chicken breasts with skin (a...</td>\n",
       "      <td>332.0</td>\n",
       "      <td>3.750</td>\n",
       "      <td>13820.0</td>\n",
       "      <td>Grilled Cumin Chicken Breasts with Avocado Salsa</td>\n",
       "    </tr>\n",
       "    <tr>\n",
       "      <th>16276</th>\n",
       "      <td>54512.0</td>\n",
       "      <td>[Lamb, Quick &amp; Easy, Raisin, Ground Lamb, Pan-...</td>\n",
       "      <td>2008-02-07 15:44:51.000</td>\n",
       "      <td>Merguez, the spicy lamb sausages of North Afri...</td>\n",
       "      <td>[Toast fennel seeds in a small heavy skillet o...</td>\n",
       "      <td>595.0</td>\n",
       "      <td>[1 1/4 teaspoons fennel seeds, 1 1/4 pounds gr...</td>\n",
       "      <td>2074.0</td>\n",
       "      <td>4.375</td>\n",
       "      <td>3983.0</td>\n",
       "      <td>Merguez Lamb Patties with Golden Raisin Couscous</td>\n",
       "    </tr>\n",
       "    <tr>\n",
       "      <th>19270</th>\n",
       "      <td>24117.0</td>\n",
       "      <td>[Lamb, Mushroom, Mustard, Quick &amp; Easy, Father...</td>\n",
       "      <td>2009-04-14 04:00:00.000</td>\n",
       "      <td>Rubbed all over with a mixture of garlic, fres...</td>\n",
       "      <td>[Prepare grill for direct-heat cooking over me...</td>\n",
       "      <td>2228.0</td>\n",
       "      <td>[2 ounces dried porcini mushrooms, 2 cups boil...</td>\n",
       "      <td>940.0</td>\n",
       "      <td>5.000</td>\n",
       "      <td>4382.0</td>\n",
       "      <td>Grilled Lamb Chops with Porcini Mustard</td>\n",
       "    </tr>\n",
       "    <tr>\n",
       "      <th>19749</th>\n",
       "      <td>13062948.0</td>\n",
       "      <td>[Berry, Fruit, Nut, Dessert, Bake, Thanksgivin...</td>\n",
       "      <td>2004-08-20 04:00:00.000</td>\n",
       "      <td>None</td>\n",
       "      <td>[Position rack in center of oven and preheat t...</td>\n",
       "      <td>747374.0</td>\n",
       "      <td>[1 cup (packed) golden brown sugar, 2 large eg...</td>\n",
       "      <td>87188.0</td>\n",
       "      <td>4.375</td>\n",
       "      <td>12005810.0</td>\n",
       "      <td>Apricot, Cranberry and Walnut Pie</td>\n",
       "    </tr>\n",
       "  </tbody>\n",
       "</table>\n",
       "</div>"
      ],
      "text/plain": [
       "         calories                                         categories  \\\n",
       "1308    4157357.0  [Lamb, Rice, Vegetable, Braise, Dinner, Raisin...   \n",
       "1843      12010.0  [Milk/Cream, Beef, Fish, Onion, Bake, Vinegar,...   \n",
       "2985    4518216.0  [Food Processor, Backyard BBQ, Ground Lamb, Sp...   \n",
       "3290      19576.0  [Beef, Braise, Beef Rib, Red Wine, Fall, Bon A...   \n",
       "5165    3358029.0  [Fruit, Dessert, Bake, Christmas, Thanksgiving...   \n",
       "6400   29997918.0  [Egg, Fruit, Bake, Blueberry, Summer, Tapioca,...   \n",
       "6678      16050.0  [Beef, Citrus, Fruit, Ginger, Braise, Super Bo...   \n",
       "6945    3358273.0  [Chocolate, Nut, Dessert, Bake, Christmas, Tha...   \n",
       "8232      24117.0  [Lamb, Mushroom, Mustard, Quick & Easy, Father...   \n",
       "8917      22312.0  [Chicken, Quick & Easy, Backyard BBQ, Spice, G...   \n",
       "8978      12824.0  [Chicken, Poultry, Bake, Super Bowl, Kid-Frien...   \n",
       "9778    4157357.0  [Lamb, Rice, Vegetable, Braise, Dinner, Raisin...   \n",
       "10557     16761.0  [Duck, Onion, Poultry, Braise, Roast, Christma...   \n",
       "10901     12213.0  [Chicken, Bake, Low Fat, Kid-Friendly, Yogurt,...   \n",
       "11444  30111218.0  [Berry, Fruit, Nut, Dessert, Bake, Christmas, ...   \n",
       "12178     22312.0  [Chicken, Quick & Easy, Backyard BBQ, Spice, G...   \n",
       "14694     11453.0  [Bon Appétit, Lamb, Grill, Tomato, Garlic, Ros...   \n",
       "16074     22312.0  [Chicken, Quick & Easy, Backyard BBQ, Spice, G...   \n",
       "16276     54512.0  [Lamb, Quick & Easy, Raisin, Ground Lamb, Pan-...   \n",
       "19270     24117.0  [Lamb, Mushroom, Mustard, Quick & Easy, Father...   \n",
       "19749  13062948.0  [Berry, Fruit, Nut, Dessert, Bake, Thanksgivin...   \n",
       "\n",
       "                         date  \\\n",
       "1308  2007-08-24 18:04:29.000   \n",
       "1843  2004-08-20 04:00:00.000   \n",
       "2985  2008-05-12 21:04:07.000   \n",
       "3290  2004-08-20 04:00:00.000   \n",
       "5165  2004-08-20 04:00:00.000   \n",
       "6400  2006-07-20 20:48:24.000   \n",
       "6678  2004-08-20 04:00:00.000   \n",
       "6945  2004-08-20 04:00:00.000   \n",
       "8232  2009-04-14 04:00:00.000   \n",
       "8917  2004-08-20 04:00:00.000   \n",
       "8978  2004-08-20 04:00:00.000   \n",
       "9778  2007-08-24 18:04:29.000   \n",
       "10557 2004-08-20 04:00:00.000   \n",
       "10901 2015-06-17 04:00:00.000   \n",
       "11444 2006-10-20 15:17:12.000   \n",
       "12178 2004-08-20 04:00:00.000   \n",
       "14694 2016-06-16 21:32:20.174   \n",
       "16074 2004-08-20 04:00:00.000   \n",
       "16276 2008-02-07 15:44:51.000   \n",
       "19270 2009-04-14 04:00:00.000   \n",
       "19749 2004-08-20 04:00:00.000   \n",
       "\n",
       "                                                    desc  \\\n",
       "1308   This lamb-rich, Uzbek-style pilaf is typical o...   \n",
       "1843                                                None   \n",
       "2985   Köfte are a street-food favorite in the Middle...   \n",
       "3290   Tiring of the ultra-refined nouvelle cuisine t...   \n",
       "5165                                                None   \n",
       "6400   If you've never had pie made from wild blueber...   \n",
       "6678   Hoisin sauce is sold at Asian markets and in t...   \n",
       "6945                                                None   \n",
       "8232   Rubbed all over with a mixture of garlic, fres...   \n",
       "8917              Can be prepared in 45 minutes or less.   \n",
       "8978                         (Spicy Baked Chicken Wings)   \n",
       "9778   This lamb-rich, Uzbek-style pilaf is typical o...   \n",
       "10557  We used chef Fergus Henderson's technique for ...   \n",
       "10901  Yogurt gets used in two ways in this simple di...   \n",
       "11444  Don't be nervous about making meatless minceme...   \n",
       "12178             Can be prepared in 45 minutes or less.   \n",
       "14694  Rib chops can be pricey. This same preparation...   \n",
       "16074             Can be prepared in 45 minutes or less.   \n",
       "16276  Merguez, the spicy lamb sausages of North Afri...   \n",
       "19270  Rubbed all over with a mixture of garlic, fres...   \n",
       "19749                                               None   \n",
       "\n",
       "                                              directions        fat  \\\n",
       "1308   [Wash rice in several changes of cold water in...   221495.0   \n",
       "1843   [In a heavy saucepan boil vinegar, water, onio...     1115.0   \n",
       "2985   [Soak bread in water to cover 30 minutes, then...    44198.0   \n",
       "3290   [Stir flour and allspice in medium bowl to ble...     1818.0   \n",
       "5165   [Position rack in center of oven and preheat t...   186642.0   \n",
       "6400   [Put a large baking sheet on oven rack in midd...  1716279.0   \n",
       "6678   [Preheat oven to 300°F. Using vegetable peeler...     1480.0   \n",
       "6945   [Position rack in center of oven and preheat t...   186660.0   \n",
       "8232   [Prepare grill for direct-heat cooking over me...     2228.0   \n",
       "8917   [Make salsa., Prepare grill., Pat chicken dry ...     1007.0   \n",
       "8978   [In a food processor or blender purée the onio...      887.0   \n",
       "9778   [Wash rice in several changes of cold water in...   221495.0   \n",
       "10557  [Put oven racks in upper and lower thirds of o...     1610.0   \n",
       "10901  [Mix garlic, oil, curry powder, 1 cup yogurt, ...      919.0   \n",
       "11444  [Stir together all ingredients except pastry d...  1722763.0   \n",
       "12178  [Make salsa., Prepare grill., Pat chicken dry ...     1007.0   \n",
       "14694  [Combine garlic, rosemary, and 1/4 cup oil in ...     1054.0   \n",
       "16074  [Make salsa., Prepare grill., Pat chicken dry ...     1007.0   \n",
       "16276  [Toast fennel seeds in a small heavy skillet o...      595.0   \n",
       "19270  [Prepare grill for direct-heat cooking over me...     2228.0   \n",
       "19749  [Position rack in center of oven and preheat t...   747374.0   \n",
       "\n",
       "                                             ingredients   protein  rating  \\\n",
       "1308   [3 cups basmati rice (7 ounces), 1 medium onio...  236489.0   5.000   \n",
       "1843   [3/4 cup balsamic vinegar, 1 1/2 cups water, 2...     403.0   4.375   \n",
       "2985   [3 slices firm white sandwich bread, torn into...  166471.0   5.000   \n",
       "3290   [1/4 cup all-purpose flour, 1 teaspoon (genero...     723.0   3.750   \n",
       "5165   [1/2 cup applejack brandy or brandy, 1/2 cup d...   58324.0   3.125   \n",
       "6400   [1 1/4 cups packed light brown sugar, 5 tables...  200210.0   4.375   \n",
       "6678   [4 large oranges, 3/4 cup hoisin sauce, 1/3 cu...     592.0   4.375   \n",
       "6945   [4 ounces bittersweet (not unsweetened) or sem...   58334.0   3.125   \n",
       "8232   [2 ounces dried porcini mushrooms, 2 cups boil...     940.0   5.000   \n",
       "8917   [3 whole boneless chicken breasts with skin (a...     332.0   3.750   \n",
       "8978   [1 onion, chopped, 2/3 cup finely chopped scal...    1164.0   4.375   \n",
       "9778   [3 cups basmati rice (7 ounces), 1 medium onio...  236489.0   5.000   \n",
       "10557  [12 fresh duck legs (7 to 11 lb depending on a...     477.0   4.375   \n",
       "10901  [1 head of garlic (about 12 cloves), peeled, f...     907.0   4.375   \n",
       "11444  [2 firm-ripe Anjou pears, peeled, cored, and f...  200968.0   4.375   \n",
       "12178  [3 whole boneless chicken breasts with skin (a...     332.0   3.750   \n",
       "14694  [4 garlic cloves, finely chopped, 1/2 cup fine...     447.0   0.000   \n",
       "16074  [3 whole boneless chicken breasts with skin (a...     332.0   3.750   \n",
       "16276  [1 1/4 teaspoons fennel seeds, 1 1/4 pounds gr...    2074.0   4.375   \n",
       "19270  [2 ounces dried porcini mushrooms, 2 cups boil...     940.0   5.000   \n",
       "19749  [1 cup (packed) golden brown sugar, 2 large eg...   87188.0   4.375   \n",
       "\n",
       "           sodium                                              title  \n",
       "1308    3134853.0        Rice Pilaf with Lamb, Carrots, and Raisins   \n",
       "1843      18212.0  Bacon-Wrapped Trout Stuffed with Balsamic Onio...  \n",
       "2985    7540990.0                     Lamb Köfte with Tarator Sauce   \n",
       "3290       2950.0            Braised Short Ribs with Red Wine Gravy   \n",
       "5165    3449373.0                    Caramelized Apple and Pear Pie   \n",
       "6400   27570999.0                      Deep-Dish Wild Blueberry Pie   \n",
       "6678       2629.0  Braised Orange-Ginger Short Ribs with Dried Ap...  \n",
       "6945    3449512.0                              Chocolate-Almond Pie   \n",
       "8232       4382.0           Grilled Lamb Chops with Porcini Mustard   \n",
       "8917      13820.0  Grilled Cumin Chicken Breasts with Avocado Salsa   \n",
       "8978       6890.0                     Jamaican \"Jerk\" Chicken Wings   \n",
       "9778    3134853.0        Rice Pilaf with Lamb, Carrots, and Raisins   \n",
       "10557      3097.0      Braised Duck Legs with Shallots and Parsnips   \n",
       "10901      5252.0     Garlic-Curry Chicken Thighs With Yogurt Sauce   \n",
       "11444  27675110.0              Pear-Cranberry Mincemeat Lattice Pie   \n",
       "12178     13820.0  Grilled Cumin Chicken Breasts with Avocado Salsa   \n",
       "14694      1749.0  Lamb Chops Scottadito\\n                With Ch...  \n",
       "16074     13820.0  Grilled Cumin Chicken Breasts with Avocado Salsa   \n",
       "16276      3983.0  Merguez Lamb Patties with Golden Raisin Couscous   \n",
       "19270      4382.0           Grilled Lamb Chops with Porcini Mustard   \n",
       "19749  12005810.0                 Apricot, Cranberry and Walnut Pie   "
      ]
     },
     "execution_count": 16,
     "metadata": {},
     "output_type": "execute_result"
    }
   ],
   "source": [
    "high_cal"
   ]
  },
  {
   "cell_type": "code",
   "execution_count": 17,
   "metadata": {},
   "outputs": [
    {
     "data": {
      "text/plain": [
       "['3 cups basmati rice (7 ounces)',\n",
       " '1 medium onion, chopped',\n",
       " '3 tablespoons olive oil',\n",
       " '1 1/2 pounds boneless lamb shank (from 2 1/4 pounds bone-in shanks), cut into 1 1/2- to 2-inch pieces',\n",
       " '4 1/2 to 5 cups water, divided',\n",
       " '2 large carrots, cut into 1/8-inch-thick matchsticks',\n",
       " '1 cup raisins (6 ounces)',\n",
       " 'Accompaniments: chicken kebabs and cilantro garlic yogurt sauce']"
      ]
     },
     "execution_count": 17,
     "metadata": {},
     "output_type": "execute_result"
    }
   ],
   "source": [
    "high_cal.iloc[0, 6]"
   ]
  },
  {
   "cell_type": "markdown",
   "metadata": {},
   "source": [
    "## Example directions\n",
    "\n",
    "Directions have been split into lists of strings, with one step per list item."
   ]
  },
  {
   "cell_type": "code",
   "execution_count": 28,
   "metadata": {},
   "outputs": [
    {
     "data": {
      "text/plain": [
       "['1. Place the stock, lentils, celery, carrot, thyme, and salt in a medium saucepan and bring to a boil. Reduce heat to low and simmer until the lentils are tender, about 30 minutes, depending on the lentils. (If they begin to dry out, add water as needed.) Remove and discard the thyme. Drain and transfer the mixture to a bowl; let cool.',\n",
       " '2. Fold in the tomato, apple, lemon juice, and olive oil. Season with the pepper.',\n",
       " '3. To assemble a wrap, place 1 lavash sheet on a clean work surface. Spread some of the lentil mixture on the end nearest you, leaving a 1-inch border. Top with several slices of turkey, then some of the lettuce. Roll up the lavash, slice crosswise, and serve. If using tortillas, spread the lentils in the center, top with the turkey and lettuce, and fold up the bottom, left side, and right side before rolling away from you.']"
      ]
     },
     "execution_count": 28,
     "metadata": {},
     "output_type": "execute_result"
    }
   ],
   "source": [
    "recipe_df.loc[0, 'directions']"
   ]
  },
  {
   "cell_type": "code",
   "execution_count": 30,
   "metadata": {},
   "outputs": [
    {
     "data": {
      "text/plain": [
       "['4 cups low-sodium vegetable or chicken stock',\n",
       " '1 cup dried brown lentils',\n",
       " '1/2 cup dried French green lentils',\n",
       " '2 stalks celery, chopped',\n",
       " '1 large carrot, peeled and chopped',\n",
       " '1 sprig fresh thyme',\n",
       " '1 teaspoon kosher salt',\n",
       " '1 medium tomato, cored, seeded, and diced',\n",
       " '1 small Fuji apple, cored and diced',\n",
       " '1 tablespoon freshly squeezed lemon juice',\n",
       " '2 teaspoons extra-virgin olive oil',\n",
       " 'Freshly ground black pepper to taste',\n",
       " '3 sheets whole-wheat lavash, cut in half crosswise, or 6 (12-inch) flour tortillas',\n",
       " '3/4 pound turkey breast, thinly sliced',\n",
       " '1/2 head Bibb lettuce']"
      ]
     },
     "execution_count": 30,
     "metadata": {},
     "output_type": "execute_result"
    }
   ],
   "source": [
    "recipe_df.loc[0, 'ingredients']"
   ]
  },
  {
   "cell_type": "code",
   "execution_count": 31,
   "metadata": {},
   "outputs": [
    {
     "data": {
      "text/plain": [
       "['Heat oil in heavy large skillet over medium-high heat. Add onion; sauté until translucent and beginning to brown, about 4 minutes. Add wine and anchovy paste. Boil until reduced to 3/4 cup, about 3 minutes. Add tomatoes with juice; bring to boil.',\n",
       " 'Sprinkle fish with salt and pepper. Add fish to skillet atop tomato mixture. Reduce heat to low, cover, and simmer until fish is cooked through, about 9 minutes. Using slotted metal spatula, transfer fish to plate and tent with foil to keep warm. Mix olives, 2 teaspoons oregano, and orange peel into sauce in skillet. Increase heat to high and boil until sauce is reduced and thickened, about 6 minutes. Season to taste with salt and pepper. Place 1 fish fillet on each of 4 plates. Pour sauce over and around fish, sprinkle with remaining 1 teaspoon oregano, and serve with warm toasted bread.']"
      ]
     },
     "execution_count": 31,
     "metadata": {},
     "output_type": "execute_result"
    }
   ],
   "source": [
    "recipe_df.loc[3, 'directions']"
   ]
  },
  {
   "cell_type": "code",
   "execution_count": 33,
   "metadata": {},
   "outputs": [
    {
     "data": {
      "text/plain": [
       "'The Sicilian-style tomato sauce has tons of Mediterranean flavor, thanks to the orange peel, olives, and oregano.'"
      ]
     },
     "execution_count": 33,
     "metadata": {},
     "output_type": "execute_result"
    }
   ],
   "source": [
    "recipe_df.loc[3, 'desc']"
   ]
  },
  {
   "cell_type": "code",
   "execution_count": 38,
   "metadata": {},
   "outputs": [
    {
     "data": {
      "text/plain": [
       "['1 12-ounce package frozen spinach soufflé, thawed',\n",
       " '1/2 pound extra-wide egg noodles, freshly cooked',\n",
       " '1 cup sour cream',\n",
       " '2 tablespoons purchased pesto sauce',\n",
       " '1/4 teaspoon ground nutmeg',\n",
       " '1 cup grated sharp cheddar cheese']"
      ]
     },
     "execution_count": 38,
     "metadata": {},
     "output_type": "execute_result"
    }
   ],
   "source": [
    "recipe_df.loc[4, 'ingredients']"
   ]
  },
  {
   "cell_type": "markdown",
   "metadata": {},
   "source": [
    "# Explore labeled data set"
   ]
  },
  {
   "cell_type": "code",
   "execution_count": 14,
   "metadata": {},
   "outputs": [],
   "source": [
    "conll_file = \"/Users/Carol/Documents/epicurious-recipes-with-rating-and-nutrition/food_gold.conll\"\n",
    "entities = []\n",
    "current_ent = \"\"\n",
    "with open(conll_file, 'r') as infile:\n",
    "    for line in infile:\n",
    "        if len(line.split()) != 5:\n",
    "            continue\n",
    "        token, *items, label = line.split()\n",
    "        if label == 'B-FOOD':\n",
    "            if current_ent:\n",
    "                entities.append(current_ent)\n",
    "                current_ent = token\n",
    "            else:\n",
    "                current_ent = token\n",
    "        elif label == \"I-FOOD\":\n",
    "            current_ent += \" {}\".format(token)              "
   ]
  },
  {
   "cell_type": "code",
   "execution_count": 20,
   "metadata": {},
   "outputs": [],
   "source": [
    "# break up multitoken entities to extract all tokens\n",
    "tokens = []\n",
    "for e in entities:\n",
    "    tokens.extend(e.split())"
   ]
  },
  {
   "cell_type": "code",
   "execution_count": 27,
   "metadata": {},
   "outputs": [
    {
     "name": "stdout",
     "output_type": "stream",
     "text": [
      "('salt', 315)\n",
      "('pepper', 232)\n",
      "('oil', 169)\n",
      "('mixture', 167)\n",
      "('sugar', 150)\n",
      "('butter', 145)\n",
      "('sauce', 132)\n",
      "('chicken', 113)\n",
      "('cream', 109)\n",
      "('juice', 99)\n",
      "('garlic', 93)\n",
      "('onion', 90)\n",
      "('lemon', 77)\n",
      "('flour', 76)\n",
      "('dough', 76)\n",
      "('onions', 75)\n",
      "('cheese', 74)\n",
      "('water', 69)\n",
      "('cake', 68)\n",
      "('potatoes', 67)\n"
     ]
    }
   ],
   "source": [
    "token_counts = Counter(tokens)\n",
    "for token in token_counts.most_common(20):\n",
    "    print(token)"
   ]
  },
  {
   "cell_type": "code",
   "execution_count": 28,
   "metadata": {},
   "outputs": [
    {
     "name": "stdout",
     "output_type": "stream",
     "text": [
      "('salt', 301)\n",
      "('pepper', 202)\n",
      "('oil', 122)\n",
      "('butter', 122)\n",
      "('sugar', 114)\n",
      "('sauce', 100)\n",
      "('chicken', 89)\n",
      "('garlic', 78)\n",
      "('dough', 69)\n",
      "('onion', 66)\n",
      "('flour', 63)\n",
      "('onions', 62)\n",
      "('water', 59)\n",
      "('cream', 56)\n",
      "('tomatoes', 55)\n",
      "('eggs', 51)\n",
      "('cake', 50)\n",
      "('potatoes', 50)\n",
      "('vegetables', 48)\n",
      "('lemon juice', 47)\n"
     ]
    }
   ],
   "source": [
    "food_counts = Counter(entities)\n",
    "for food in food_counts.most_common(20):\n",
    "    print(food)"
   ]
  },
  {
   "cell_type": "code",
   "execution_count": 30,
   "metadata": {},
   "outputs": [
    {
     "name": "stdout",
     "output_type": "stream",
     "text": [
      "('lemon juice', 47)\n",
      "('olive oil', 29)\n",
      "('lime juice', 16)\n",
      "('flour mixture', 12)\n",
      "('sesame seeds', 11)\n",
      "('egg mixture', 10)\n",
      "('pan juices', 10)\n",
      "('baking powder', 10)\n",
      "('cream cheese', 10)\n",
      "('green onions', 10)\n"
     ]
    }
   ],
   "source": [
    "# find the most common two-word foods\n",
    "bigrams = [e for e in entities if len(e.split())==2]\n",
    "b_counter = Counter(bigrams)\n",
    "for b in b_counter.most_common(10):\n",
    "    print(b)"
   ]
  },
  {
   "cell_type": "code",
   "execution_count": 31,
   "metadata": {},
   "outputs": [
    {
     "name": "stdout",
     "output_type": "stream",
     "text": [
      "('red pepper flakes', 7)\n",
      "('half and half', 3)\n",
      "('wild rice mixture', 3)\n",
      "('orange juice mixture', 3)\n",
      "('candied lemon peels', 2)\n",
      "('chopped green onions', 2)\n",
      "('vegetable oil spray', 2)\n",
      "('celery root slices', 2)\n",
      "('hot cream mixture', 2)\n",
      "('pasta cooking liquid', 2)\n"
     ]
    }
   ],
   "source": [
    "# find the most common three-word foods\n",
    "trigrams = [e for e in entities if len(e.split())==3]\n",
    "t_counter = Counter(trigrams)\n",
    "for t in t_counter.most_common(10):\n",
    "    print(t)"
   ]
  },
  {
   "cell_type": "code",
   "execution_count": null,
   "metadata": {},
   "outputs": [],
   "source": []
  }
 ],
 "metadata": {
  "kernelspec": {
   "display_name": "nlp",
   "language": "python",
   "name": "nlp"
  },
  "language_info": {
   "codemirror_mode": {
    "name": "ipython",
    "version": 3
   },
   "file_extension": ".py",
   "mimetype": "text/x-python",
   "name": "python",
   "nbconvert_exporter": "python",
   "pygments_lexer": "ipython3",
   "version": "3.6.5"
  }
 },
 "nbformat": 4,
 "nbformat_minor": 2
}
