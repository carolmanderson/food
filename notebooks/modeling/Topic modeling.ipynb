{
 "cells": [
  {
   "cell_type": "code",
   "execution_count": 1,
   "metadata": {},
   "outputs": [],
   "source": [
    "import pandas as pd\n",
    "import numpy as np\n",
    "from sklearn.feature_extraction.text import CountVectorizer, TfidfVectorizer\n",
    "\n",
    "import matplotlib.pyplot as plt\n",
    "%matplotlib inline"
   ]
  },
  {
   "cell_type": "markdown",
   "metadata": {},
   "source": [
    "## Load recipe data"
   ]
  },
  {
   "cell_type": "code",
   "execution_count": 111,
   "metadata": {},
   "outputs": [],
   "source": [
    "recipe_file = \"/Users/Carol/Dropbox/epicurious-recipes-with-rating-and-nutrition/full_format_recipes.json\""
   ]
  },
  {
   "cell_type": "code",
   "execution_count": 112,
   "metadata": {},
   "outputs": [
    {
     "data": {
      "text/html": [
       "<div>\n",
       "<style scoped>\n",
       "    .dataframe tbody tr th:only-of-type {\n",
       "        vertical-align: middle;\n",
       "    }\n",
       "\n",
       "    .dataframe tbody tr th {\n",
       "        vertical-align: top;\n",
       "    }\n",
       "\n",
       "    .dataframe thead th {\n",
       "        text-align: right;\n",
       "    }\n",
       "</style>\n",
       "<table border=\"1\" class=\"dataframe\">\n",
       "  <thead>\n",
       "    <tr style=\"text-align: right;\">\n",
       "      <th></th>\n",
       "      <th>directions</th>\n",
       "      <th>fat</th>\n",
       "      <th>date</th>\n",
       "      <th>categories</th>\n",
       "      <th>calories</th>\n",
       "      <th>desc</th>\n",
       "      <th>protein</th>\n",
       "      <th>rating</th>\n",
       "      <th>title</th>\n",
       "      <th>ingredients</th>\n",
       "      <th>sodium</th>\n",
       "    </tr>\n",
       "  </thead>\n",
       "  <tbody>\n",
       "    <tr>\n",
       "      <th>0</th>\n",
       "      <td>[1. Place the stock, lentils, celery, carrot, ...</td>\n",
       "      <td>7.0</td>\n",
       "      <td>2006-09-01 04:00:00+00:00</td>\n",
       "      <td>[Sandwich, Bean, Fruit, Tomato, turkey, Vegeta...</td>\n",
       "      <td>426.0</td>\n",
       "      <td>None</td>\n",
       "      <td>30.0</td>\n",
       "      <td>2.500</td>\n",
       "      <td>Lentil, Apple, and Turkey Wrap</td>\n",
       "      <td>[4 cups low-sodium vegetable or chicken stock,...</td>\n",
       "      <td>559.0</td>\n",
       "    </tr>\n",
       "    <tr>\n",
       "      <th>1</th>\n",
       "      <td>[Combine first 9 ingredients in heavy medium s...</td>\n",
       "      <td>23.0</td>\n",
       "      <td>2004-08-20 04:00:00+00:00</td>\n",
       "      <td>[Food Processor, Onion, Pork, Bake, Bastille D...</td>\n",
       "      <td>403.0</td>\n",
       "      <td>This uses the same ingredients found in boudin...</td>\n",
       "      <td>18.0</td>\n",
       "      <td>4.375</td>\n",
       "      <td>Boudin Blanc Terrine with Red Onion Confit</td>\n",
       "      <td>[1 1/2 cups whipping cream, 2 medium onions, c...</td>\n",
       "      <td>1439.0</td>\n",
       "    </tr>\n",
       "  </tbody>\n",
       "</table>\n",
       "</div>"
      ],
      "text/plain": [
       "                                          directions   fat  \\\n",
       "0  [1. Place the stock, lentils, celery, carrot, ...   7.0   \n",
       "1  [Combine first 9 ingredients in heavy medium s...  23.0   \n",
       "\n",
       "                       date  \\\n",
       "0 2006-09-01 04:00:00+00:00   \n",
       "1 2004-08-20 04:00:00+00:00   \n",
       "\n",
       "                                          categories  calories  \\\n",
       "0  [Sandwich, Bean, Fruit, Tomato, turkey, Vegeta...     426.0   \n",
       "1  [Food Processor, Onion, Pork, Bake, Bastille D...     403.0   \n",
       "\n",
       "                                                desc  protein  rating  \\\n",
       "0                                               None     30.0   2.500   \n",
       "1  This uses the same ingredients found in boudin...     18.0   4.375   \n",
       "\n",
       "                                         title  \\\n",
       "0              Lentil, Apple, and Turkey Wrap    \n",
       "1  Boudin Blanc Terrine with Red Onion Confit    \n",
       "\n",
       "                                         ingredients  sodium  \n",
       "0  [4 cups low-sodium vegetable or chicken stock,...   559.0  \n",
       "1  [1 1/2 cups whipping cream, 2 medium onions, c...  1439.0  "
      ]
     },
     "execution_count": 112,
     "metadata": {},
     "output_type": "execute_result"
    }
   ],
   "source": [
    "recipe_df = pd.read_json(recipe_file, orient='records')\n",
    "recipe_df.head(2)"
   ]
  },
  {
   "cell_type": "markdown",
   "metadata": {},
   "source": [
    "## Preprocess recipes"
   ]
  },
  {
   "cell_type": "code",
   "execution_count": 117,
   "metadata": {},
   "outputs": [
    {
     "name": "stdout",
     "output_type": "stream",
     "text": [
      "(18097, 12)\n"
     ]
    }
   ],
   "source": [
    "recipe_df = recipe_df.dropna(subset=['directions'])\n",
    "recipe_df['joined_directions'] = [\" \".join(steps) for steps in recipe_df.directions.tolist()]\n",
    "recipe_df = recipe_df.drop_duplicates(subset=\"joined_directions\", keep=\"first\")\n",
    "print(recipe_df.shape)"
   ]
  },
  {
   "cell_type": "code",
   "execution_count": 120,
   "metadata": {},
   "outputs": [],
   "source": [
    "recipes = recipe_df.joined_directions.tolist()"
   ]
  },
  {
   "cell_type": "code",
   "execution_count": 203,
   "metadata": {},
   "outputs": [],
   "source": [
    "vectorizer = TfidfVectorizer(stop_words='english')\n",
    "count_vectorizer = CountVectorizer(stop_words='english')"
   ]
  },
  {
   "cell_type": "code",
   "execution_count": 122,
   "metadata": {},
   "outputs": [
    {
     "data": {
      "text/plain": [
       "(18097, 10190)"
      ]
     },
     "execution_count": 122,
     "metadata": {},
     "output_type": "execute_result"
    }
   ],
   "source": [
    "vectors = vectorizer.fit_transform(recipes).todense() # (documents, vocab)\n",
    "vectors.shape"
   ]
  },
  {
   "cell_type": "code",
   "execution_count": 204,
   "metadata": {},
   "outputs": [],
   "source": [
    "count_vectors = count_vectorizer.fit_transform(recipes).todense()"
   ]
  },
  {
   "cell_type": "code",
   "execution_count": 206,
   "metadata": {},
   "outputs": [
    {
     "data": {
      "text/plain": [
       "(18097, 10190)"
      ]
     },
     "execution_count": 206,
     "metadata": {},
     "output_type": "execute_result"
    }
   ],
   "source": [
    "count_vectors.shape"
   ]
  },
  {
   "cell_type": "code",
   "execution_count": 123,
   "metadata": {},
   "outputs": [],
   "source": [
    "vocab = np.array(vectorizer.get_feature_names())"
   ]
  },
  {
   "cell_type": "code",
   "execution_count": 187,
   "metadata": {},
   "outputs": [],
   "source": [
    "terms = vectorizer.get_feature_names()"
   ]
  },
  {
   "cell_type": "code",
   "execution_count": 201,
   "metadata": {},
   "outputs": [],
   "source": [
    "vocab_dict = vectorizer.vocabulary_"
   ]
  },
  {
   "cell_type": "code",
   "execution_count": 190,
   "metadata": {},
   "outputs": [
    {
     "data": {
      "text/plain": [
       "10190"
      ]
     },
     "execution_count": 190,
     "metadata": {},
     "output_type": "execute_result"
    }
   ],
   "source": [
    "len(terms)"
   ]
  },
  {
   "cell_type": "code",
   "execution_count": 192,
   "metadata": {},
   "outputs": [
    {
     "data": {
      "text/plain": [
       "10190"
      ]
     },
     "execution_count": 192,
     "metadata": {},
     "output_type": "execute_result"
    }
   ],
   "source": [
    "len(vocab_2)"
   ]
  },
  {
   "cell_type": "code",
   "execution_count": 199,
   "metadata": {},
   "outputs": [
    {
     "data": {
      "text/plain": [
       "'cake'"
      ]
     },
     "execution_count": 199,
     "metadata": {},
     "output_type": "execute_result"
    }
   ],
   "source": [
    "terms[1631]"
   ]
  },
  {
   "cell_type": "code",
   "execution_count": 124,
   "metadata": {},
   "outputs": [
    {
     "data": {
      "text/plain": [
       "(10190,)"
      ]
     },
     "execution_count": 124,
     "metadata": {},
     "output_type": "execute_result"
    }
   ],
   "source": [
    "vocab.shape"
   ]
  },
  {
   "cell_type": "code",
   "execution_count": 125,
   "metadata": {},
   "outputs": [
    {
     "data": {
      "text/plain": [
       "array(['bakeware', 'baking', 'baklava', 'balance', 'balanced',\n",
       "       'balancing', 'balinese', 'ball', 'baller', 'balloon'], dtype='<U26')"
      ]
     },
     "execution_count": 125,
     "metadata": {},
     "output_type": "execute_result"
    }
   ],
   "source": [
    "vocab[1000:1010]"
   ]
  },
  {
   "cell_type": "markdown",
   "metadata": {},
   "source": [
    "# Non-negative matrix factorization in sklearn"
   ]
  },
  {
   "cell_type": "code",
   "execution_count": 126,
   "metadata": {},
   "outputs": [],
   "source": [
    "clf = decomposition.NMF(n_components=10, random_state=1)\n",
    "\n",
    "W1 = clf.fit_transform(vectors)\n",
    "H1 = clf.components_"
   ]
  },
  {
   "cell_type": "code",
   "execution_count": 165,
   "metadata": {},
   "outputs": [],
   "source": [
    "def show_topics(a, num_top_words, vocab):\n",
    "    # return a list of the top words for each topic\n",
    "    top_words = lambda t: [vocab[i] for i in np.argsort(t)[:-num_top_words-1:-1]]\n",
    "    topic_words = ([top_words(t) for t in a])\n",
    "    return [' '.join(t) for t in topic_words]\n",
    "\n",
    "def show_docs_by_topic(a, num_top_docs, topics, docs):\n",
    "    # return a DataFrame with num_top_docs rows; each column\n",
    "    # contains the top documents from a topic\n",
    "    num_top_docs = 3\n",
    "    top_docs = np.argsort(a, axis=0)[:-num_top_docs-1:-1]\n",
    "    top_docs_text = [[docs[i] for i in rank] for rank in top_docs]\n",
    "    topics = [i for i in topics]\n",
    "    doc_df = pd.DataFrame(top_docs_text)\n",
    "    doc_df.columns = topics\n",
    "    return doc_df"
   ]
  },
  {
   "cell_type": "code",
   "execution_count": 149,
   "metadata": {},
   "outputs": [
    {
     "data": {
      "text/plain": [
       "(10, 10190)"
      ]
     },
     "execution_count": 149,
     "metadata": {},
     "output_type": "execute_result"
    }
   ],
   "source": [
    "H1.shape"
   ]
  },
  {
   "cell_type": "code",
   "execution_count": 137,
   "metadata": {},
   "outputs": [
    {
     "data": {
      "text/plain": [
       "['skillet heat add minutes cook sauce oil sauté',\n",
       " 'cake pan beat batter butter flour bowl oven',\n",
       " 'chicken cooked skin sauce minutes breast marinade skillet',\n",
       " 'dressing bowl toss pepper salad season whisk salt',\n",
       " 'sugar ice cream mixture syrup saucepan juice stir',\n",
       " 'dough crust inch baking sheet oven pie bake',\n",
       " 'pasta water pot cooking boiling salted drain cook',\n",
       " 'potatoes potato tender oven drain minutes dish sweet',\n",
       " 'simmer add heat minutes soup pot broth rice',\n",
       " 'grill pork lamb marinade pan minutes turning meat']"
      ]
     },
     "execution_count": 137,
     "metadata": {},
     "output_type": "execute_result"
    }
   ],
   "source": [
    "topics = show_topics(H1, 8, vocab)\n",
    "topics"
   ]
  },
  {
   "cell_type": "code",
   "execution_count": 134,
   "metadata": {},
   "outputs": [
    {
     "data": {
      "text/html": [
       "<div>\n",
       "<style scoped>\n",
       "    .dataframe tbody tr th:only-of-type {\n",
       "        vertical-align: middle;\n",
       "    }\n",
       "\n",
       "    .dataframe tbody tr th {\n",
       "        vertical-align: top;\n",
       "    }\n",
       "\n",
       "    .dataframe thead th {\n",
       "        text-align: right;\n",
       "    }\n",
       "</style>\n",
       "<table border=\"1\" class=\"dataframe\">\n",
       "  <thead>\n",
       "    <tr style=\"text-align: right;\">\n",
       "      <th></th>\n",
       "      <th>skillet heat add minutes cook sauce oil sauté</th>\n",
       "      <th>cake pan beat batter butter flour bowl oven</th>\n",
       "      <th>chicken cooked skin sauce minutes breast marinade skillet</th>\n",
       "      <th>dressing bowl toss pepper salad season whisk salt</th>\n",
       "      <th>sugar ice cream mixture syrup saucepan juice stir</th>\n",
       "      <th>dough crust inch baking sheet oven pie bake</th>\n",
       "      <th>pasta water pot cooking boiling salted drain cook</th>\n",
       "      <th>potatoes potato tender oven drain minutes dish sweet</th>\n",
       "      <th>simmer add heat minutes soup pot broth rice</th>\n",
       "      <th>grill pork lamb marinade pan minutes turning meat</th>\n",
       "    </tr>\n",
       "  </thead>\n",
       "  <tbody>\n",
       "    <tr>\n",
       "      <th>0</th>\n",
       "      <td>Pat halibut dry and season with salt and peppe...</td>\n",
       "      <td>Preheat oven to 350°F. Butter and flour 10-inc...</td>\n",
       "      <td>Melt butter with olive oil in heavy medium ski...</td>\n",
       "      <td>Whisk first 4 ingredients in medium bowl to bl...</td>\n",
       "      <td>Boil berries, 1/4 cup sugar, 1 tablespoon lemo...</td>\n",
       "      <td>Whisk flour, sugar, and salt in large bowl to ...</td>\n",
       "      <td>Cook pasta in large pot of boiling salted wate...</td>\n",
       "      <td>In a kettle combine potatoes with enough salte...</td>\n",
       "      <td>Bring broth and 1 cup water to simmer in mediu...</td>\n",
       "      <td>Stir together yogurt, garlic, rosemary, and pe...</td>\n",
       "    </tr>\n",
       "    <tr>\n",
       "      <th>1</th>\n",
       "      <td>Pat scallops dry and sprinkle with pepper and ...</td>\n",
       "      <td>Preheat oven to 375°F with rack in middle. But...</td>\n",
       "      <td>Combine first 6 ingredients in heavy medium ov...</td>\n",
       "      <td>Whisk first 5 ingredients in small bowl to ble...</td>\n",
       "      <td>Combine heavy whipping cream, whole milk, 1 cu...</td>\n",
       "      <td>Cut butter into bits and in a bowl with a past...</td>\n",
       "      <td>Cook pasta in an 8-quart pot of boiling salted...</td>\n",
       "      <td>Peel potatoes and cut into 2-inch pieces. (If ...</td>\n",
       "      <td>Heat oil in heavy large pot over medium heat. ...</td>\n",
       "      <td>Combine oil, lemon juice, garlic, oregano, sal...</td>\n",
       "    </tr>\n",
       "    <tr>\n",
       "      <th>2</th>\n",
       "      <td>Season fish with salt and pepper. Dust lightly...</td>\n",
       "      <td>Preheat oven to 350°F. Butter 8-inch-diameter ...</td>\n",
       "      <td>Sprinkle chicken with salt and pepper. Heat oi...</td>\n",
       "      <td>Whisk first 3 ingredients in small bowl to ble...</td>\n",
       "      <td>In a small saucepan boil the water with the su...</td>\n",
       "      <td>Combine flour, sugar and salt in processor. Us...</td>\n",
       "      <td>Cook pasta in a 6- to 8-quart pot of boiling s...</td>\n",
       "      <td>Peel potatoes and cut into 1/2-inch cubes. In ...</td>\n",
       "      <td>Heat oil in heavy large pot over medium-high h...</td>\n",
       "      <td>Season lamb with salt and pepper and place eac...</td>\n",
       "    </tr>\n",
       "  </tbody>\n",
       "</table>\n",
       "</div>"
      ],
      "text/plain": [
       "       skillet heat add minutes cook sauce oil sauté  \\\n",
       "0  Pat halibut dry and season with salt and peppe...   \n",
       "1  Pat scallops dry and sprinkle with pepper and ...   \n",
       "2  Season fish with salt and pepper. Dust lightly...   \n",
       "\n",
       "         cake pan beat batter butter flour bowl oven  \\\n",
       "0  Preheat oven to 350°F. Butter and flour 10-inc...   \n",
       "1  Preheat oven to 375°F with rack in middle. But...   \n",
       "2  Preheat oven to 350°F. Butter 8-inch-diameter ...   \n",
       "\n",
       "  chicken cooked skin sauce minutes breast marinade skillet  \\\n",
       "0  Melt butter with olive oil in heavy medium ski...          \n",
       "1  Combine first 6 ingredients in heavy medium ov...          \n",
       "2  Sprinkle chicken with salt and pepper. Heat oi...          \n",
       "\n",
       "   dressing bowl toss pepper salad season whisk salt  \\\n",
       "0  Whisk first 4 ingredients in medium bowl to bl...   \n",
       "1  Whisk first 5 ingredients in small bowl to ble...   \n",
       "2  Whisk first 3 ingredients in small bowl to ble...   \n",
       "\n",
       "   sugar ice cream mixture syrup saucepan juice stir  \\\n",
       "0  Boil berries, 1/4 cup sugar, 1 tablespoon lemo...   \n",
       "1  Combine heavy whipping cream, whole milk, 1 cu...   \n",
       "2  In a small saucepan boil the water with the su...   \n",
       "\n",
       "         dough crust inch baking sheet oven pie bake  \\\n",
       "0  Whisk flour, sugar, and salt in large bowl to ...   \n",
       "1  Cut butter into bits and in a bowl with a past...   \n",
       "2  Combine flour, sugar and salt in processor. Us...   \n",
       "\n",
       "   pasta water pot cooking boiling salted drain cook  \\\n",
       "0  Cook pasta in large pot of boiling salted wate...   \n",
       "1  Cook pasta in an 8-quart pot of boiling salted...   \n",
       "2  Cook pasta in a 6- to 8-quart pot of boiling s...   \n",
       "\n",
       "  potatoes potato tender oven drain minutes dish sweet  \\\n",
       "0  In a kettle combine potatoes with enough salte...     \n",
       "1  Peel potatoes and cut into 2-inch pieces. (If ...     \n",
       "2  Peel potatoes and cut into 1/2-inch cubes. In ...     \n",
       "\n",
       "         simmer add heat minutes soup pot broth rice  \\\n",
       "0  Bring broth and 1 cup water to simmer in mediu...   \n",
       "1  Heat oil in heavy large pot over medium heat. ...   \n",
       "2  Heat oil in heavy large pot over medium-high h...   \n",
       "\n",
       "   grill pork lamb marinade pan minutes turning meat  \n",
       "0  Stir together yogurt, garlic, rosemary, and pe...  \n",
       "1  Combine oil, lemon juice, garlic, oregano, sal...  \n",
       "2  Season lamb with salt and pepper and place eac...  "
      ]
     },
     "execution_count": 134,
     "metadata": {},
     "output_type": "execute_result"
    }
   ],
   "source": [
    "show_docs_by_topic(W1, 3, topics, recipes)"
   ]
  },
  {
   "cell_type": "markdown",
   "metadata": {},
   "source": [
    "# LDA in scikit learn"
   ]
  },
  {
   "cell_type": "code",
   "execution_count": 207,
   "metadata": {},
   "outputs": [],
   "source": [
    "lda_model = decomposition.LatentDirichletAllocation(n_components=10, # Number of topics\n",
    "                                      learning_method='online',\n",
    "                                      random_state=0,       \n",
    "                                      n_jobs = -1  # Use all available CPUs\n",
    "                                     )\n",
    "doc_matrix = lda_model.fit_transform(count_vectors)\n",
    "topic_matrix = lda_model.components_"
   ]
  },
  {
   "cell_type": "code",
   "execution_count": 208,
   "metadata": {},
   "outputs": [],
   "source": [
    "lda_topics = show_topics(topic_matrix, 8, vocab)"
   ]
  },
  {
   "cell_type": "code",
   "execution_count": 209,
   "metadata": {},
   "outputs": [
    {
     "data": {
      "text/html": [
       "<div>\n",
       "<style scoped>\n",
       "    .dataframe tbody tr th:only-of-type {\n",
       "        vertical-align: middle;\n",
       "    }\n",
       "\n",
       "    .dataframe tbody tr th {\n",
       "        vertical-align: top;\n",
       "    }\n",
       "\n",
       "    .dataframe thead th {\n",
       "        text-align: right;\n",
       "    }\n",
       "</style>\n",
       "<table border=\"1\" class=\"dataframe\">\n",
       "  <thead>\n",
       "    <tr style=\"text-align: right;\">\n",
       "      <th></th>\n",
       "      <th>beat cake bowl cream chocolate mixer sugar egg</th>\n",
       "      <th>minutes grill heat fish oil medium pepper lamb</th>\n",
       "      <th>cut water knife fennel noodles lengthwise beets use</th>\n",
       "      <th>minutes oven pan mixture butter baking bake bowl</th>\n",
       "      <th>sugar ice juice mixture water saucepan stir bowl</th>\n",
       "      <th>dough inch minutes sheet baking oven roll surface</th>\n",
       "      <th>bowl salt oil pepper season large toss add</th>\n",
       "      <th>heat minutes add cook skillet stirring salt medium</th>\n",
       "      <th>chicken pan oven roast minutes turkey roasting juices</th>\n",
       "      <th>leaves sweet artichokes goat place make artichoke little</th>\n",
       "    </tr>\n",
       "  </thead>\n",
       "  <tbody>\n",
       "    <tr>\n",
       "      <th>0</th>\n",
       "      <td>Beat cream, sugar and peppermint extract in la...</td>\n",
       "      <td>Stir together all ingredients for beef with 1 ...</td>\n",
       "      <td>In large stockpot, bring 4 gallons water to ro...</td>\n",
       "      <td>Preheat oven to 300°F. Lightly butter four 3/4...</td>\n",
       "      <td>Combine tea bags, 3 lemon verbena sprigs, and ...</td>\n",
       "      <td>Stir yeast and sugar into warm water in measur...</td>\n",
       "      <td>Whisk mayonnaise, oil, lemon zest, and lemon j...</td>\n",
       "      <td>Combine all broth ingredients in a 4- to 6-qua...</td>\n",
       "      <td>Position rack in bottom third of oven and preh...</td>\n",
       "      <td>Stir together all ingredients in a small bowl....</td>\n",
       "    </tr>\n",
       "    <tr>\n",
       "      <th>1</th>\n",
       "      <td>In large bowl of a standing electric mixer bea...</td>\n",
       "      <td>Whisk together first 6 ingredients in shallow ...</td>\n",
       "      <td>Whisk together all ingredients except coarse s...</td>\n",
       "      <td>Pulse together flour, almonds, brown sugar, an...</td>\n",
       "      <td>Combine cherries, kirsch, and sugar in medium ...</td>\n",
       "      <td>Blend together butter, cheese, and yolk in a f...</td>\n",
       "      <td>Combine cucumber and buttermilk in blender. Ch...</td>\n",
       "      <td>Cook bacon in heavy 8-quart Dutch oven over hi...</td>\n",
       "      <td>Preheat oven to 425°F. Gently loosen skin from...</td>\n",
       "      <td>A matter of preference, naturally. A ratio of ...</td>\n",
       "    </tr>\n",
       "    <tr>\n",
       "      <th>2</th>\n",
       "      <td>In a large bowl with an electric mixer, beat t...</td>\n",
       "      <td>Combine first 4 ingredients in shallow baking ...</td>\n",
       "      <td>Preheat the oven to 250°F. Line the bottom of ...</td>\n",
       "      <td>Preheat oven to 350°F. Lightly butter 10-inch-...</td>\n",
       "      <td>Combine 1/4 cup clover honey and 2 tablespoon ...</td>\n",
       "      <td>Sift together flour, baking powder, and salt i...</td>\n",
       "      <td>Mix first 4 ingredients in small bowl. Season ...</td>\n",
       "      <td>Heat oil in a large heavy pot over medium-high...</td>\n",
       "      <td>Set a rack inside a large heavy roasting pan. ...</td>\n",
       "      <td>Pour in the order listed so that each ingredie...</td>\n",
       "    </tr>\n",
       "  </tbody>\n",
       "</table>\n",
       "</div>"
      ],
      "text/plain": [
       "      beat cake bowl cream chocolate mixer sugar egg  \\\n",
       "0  Beat cream, sugar and peppermint extract in la...   \n",
       "1  In large bowl of a standing electric mixer bea...   \n",
       "2  In a large bowl with an electric mixer, beat t...   \n",
       "\n",
       "      minutes grill heat fish oil medium pepper lamb  \\\n",
       "0  Stir together all ingredients for beef with 1 ...   \n",
       "1  Whisk together first 6 ingredients in shallow ...   \n",
       "2  Combine first 4 ingredients in shallow baking ...   \n",
       "\n",
       "  cut water knife fennel noodles lengthwise beets use  \\\n",
       "0  In large stockpot, bring 4 gallons water to ro...    \n",
       "1  Whisk together all ingredients except coarse s...    \n",
       "2  Preheat the oven to 250°F. Line the bottom of ...    \n",
       "\n",
       "    minutes oven pan mixture butter baking bake bowl  \\\n",
       "0  Preheat oven to 300°F. Lightly butter four 3/4...   \n",
       "1  Pulse together flour, almonds, brown sugar, an...   \n",
       "2  Preheat oven to 350°F. Lightly butter 10-inch-...   \n",
       "\n",
       "    sugar ice juice mixture water saucepan stir bowl  \\\n",
       "0  Combine tea bags, 3 lemon verbena sprigs, and ...   \n",
       "1  Combine cherries, kirsch, and sugar in medium ...   \n",
       "2  Combine 1/4 cup clover honey and 2 tablespoon ...   \n",
       "\n",
       "   dough inch minutes sheet baking oven roll surface  \\\n",
       "0  Stir yeast and sugar into warm water in measur...   \n",
       "1  Blend together butter, cheese, and yolk in a f...   \n",
       "2  Sift together flour, baking powder, and salt i...   \n",
       "\n",
       "          bowl salt oil pepper season large toss add  \\\n",
       "0  Whisk mayonnaise, oil, lemon zest, and lemon j...   \n",
       "1  Combine cucumber and buttermilk in blender. Ch...   \n",
       "2  Mix first 4 ingredients in small bowl. Season ...   \n",
       "\n",
       "  heat minutes add cook skillet stirring salt medium  \\\n",
       "0  Combine all broth ingredients in a 4- to 6-qua...   \n",
       "1  Cook bacon in heavy 8-quart Dutch oven over hi...   \n",
       "2  Heat oil in a large heavy pot over medium-high...   \n",
       "\n",
       "  chicken pan oven roast minutes turkey roasting juices  \\\n",
       "0  Position rack in bottom third of oven and preh...      \n",
       "1  Preheat oven to 425°F. Gently loosen skin from...      \n",
       "2  Set a rack inside a large heavy roasting pan. ...      \n",
       "\n",
       "  leaves sweet artichokes goat place make artichoke little  \n",
       "0  Stir together all ingredients in a small bowl....        \n",
       "1  A matter of preference, naturally. A ratio of ...        \n",
       "2  Pour in the order listed so that each ingredie...        "
      ]
     },
     "execution_count": 209,
     "metadata": {},
     "output_type": "execute_result"
    }
   ],
   "source": [
    "df = show_docs_by_topic(doc_matrix, 3, lda_topics, recipes)\n",
    "df"
   ]
  },
  {
   "cell_type": "code",
   "execution_count": 210,
   "metadata": {},
   "outputs": [
    {
     "name": "stdout",
     "output_type": "stream",
     "text": [
      "======beat cake bowl cream chocolate mixer sugar egg=========\n",
      "Beat cream, sugar and peppermint extract in large bowl until stiff peaks form.\n",
      "-----------\n",
      "In large bowl of a standing electric mixer beat together butter, sugar, and salt until light and fluffy. Beat in yolks, 1 at a time, and vanilla and beat until smooth. Beat in flour gradually, beating dough until just combined well.\n",
      "-----------\n",
      "In a large bowl with an electric mixer, beat the egg yolks with the sugar until the mixture is thick and pale with ribbons when the beaters are lifted. In another large bowl, beat two thirds of the egg whites until they hold soft peaks. In another large bowl beat the cream until it holds soft peaks. Fold the whites into the yolk mixture until the mixture is combined well and fold in the whipped cream gently but thoroughly. Pour the mixture into a large punch bowl, whisk in the bourbon, the rum, the vanilla, the milk, and the salt. Chill the eggnog, covered, for at least four hours, or until it is cold. Just before serving, in a bowl, beat the remaining three egg whites until they hold soft peaks, fold them into the eggnog, and sprinkle the eggnog with the nutmeg and the cinnamon.\n",
      "-----------\n",
      "======minutes grill heat fish oil medium pepper lamb=========\n",
      "Stir together all ingredients for beef with 1 1/2 teaspoons each of salt and pepper. Marinate, covered and chilled, 4 hours. Meanwhile, stir together all chimichurri ingredients with 3/4 teaspoon salt and 1/2 teaspoon pepper and let stand at least 2 hours. Prepare a grill for direct-heat cooking over medium-hot charcoal (medium-high heat for gas); see grilling procedure. Remove beef from marinade and rub off excess (discard marinade). Skewer beef, leaving about 1/2 inch between pieces. Oil grill rack, then grill (covered if using a gas grill), turning occasionally, 4 to 5 minutes for medium-rare. Serve beef with chimichurri sauce.\n",
      "-----------\n",
      "Whisk together first 6 ingredients in shallow dish for marinade. Place mayonnaise in separate small bowl. Whisk in 1 1/2 tablespoons marinade. Set aioli aside. Sprinkle fish with salt and pepper. Place fish in marinade in dish, turning to coat evenly. Marinate 1 hour at room temperature, turning fish occasionally. Oil grill rack. Prepare barbecue (medium-high heat). Grill fish to desired doneness, about 3 minutes per side for medium. Top fish with aioli and serve.\n",
      "-----------\n",
      "Combine first 4 ingredients in shallow baking dish. Add steak and turn to coat with marinade. Cover and refrigerate 3 to 6 hours. Prepare barbecue (high heat) or preheat broiler. Season steak generously with additional pepper. Grill or broil steak to desired doneness, brushing occasionally with marinade, about 4 minutes per side for medium rare. thinly slice steak across grain and serve.\n",
      "-----------\n",
      "======cut water knife fennel noodles lengthwise beets use=========\n",
      "In large stockpot, bring 4 gallons water to rolling boil. (Note: Even small quantities of noodles need to be cooked a lot of water.) Add noodles and begin timing after water has returned to boil. If cooking semidried udon, boil 8 to 9 minutes before testing; if cooking dried, boil 10 to 12 minutes. Test by plucking a noodle from pot, plunging it into cold water, then biting. Noodle should be tender with no hard core; outer surface should be slippery but not overly soft. (This condition is what the Japanese refer to as koshi, or \"substance,\" just as the Italians enjoy their pasta al dente.) If necessary, cook for another minute and check again. If you will be serving noodles hot, scoop them up into a strainer and lift from pot to drain. (Do not pour off cooking liquid; boiling water in pot can be used both to re-heat noodles, and to warm bowls in which they will be served.) If you will be serving noodles cold, drain them. Whether serving noodles hot or cold, rinse them well under cold running water to remove surface starch that would otherwise make them gummy. Then drain. Set noodles aside until ready to eat — they can be held for up to several hours (refrigerate if holding for more than 20 minutes). When ready to use, rinse noodles in boiling hot water if serving them in hot soup, or cold water if serving chilled as a salad. Other dried wheat noodles similar to udon include flat kishimen or thinner hiyamugi. Boil these dried noodles for 5 to 6 minutes before checking for doneness.\n",
      "-----------\n",
      "Whisk together all ingredients except coarse salt and clams (to make mignonnette sauce). Prepare grill for cooking. If using a charcoal grill, open vents in bottom of grill. Cover a large platter with a 1/2-inch layer of coarse salt to hold clams in place for serving. Grip 1 clam in a kitchen towel with its \"hinge\" facing toward you. Working over a bowl to catch any clam liquor, slide knife in between the 2 shells at a point opposite hinge and rotate clam, sliding knife between shells, until knife reaches hinge. Cut through hinge, being careful to avoid hitting center of clam. Open shells, sliding knife along underside of top shell to detach it from clam. Pull top shell off and discard, keeping clam in bottom shell, and slide knife under clam to loosen, preserving as much clam liquor as possible in bowl. When fire is moderately hot (you can hold your hand 5 inches above rack for 3 to 4 seconds), set rack on grill. Using tongs, arrange clams on the half shell in 1 layer on rack and spoon some reserved liquor on them. Once clam liquor reaches a boil, allow clams to grill, uncovered, until just cooked through, 3 to 4 minutes. Carefully transfer clams with tongs to platter and drizzle with mignonnette.\n",
      "-----------\n",
      "Preheat the oven to 250°F. Line the bottom of a broiler pan with foil for easy cleanup. Cut the bacon slices in half lengthwise and then crosswire to create 4 long strips. Arrange the crackers on a work surface and wrap a bacon strip around each cracker, overlapping the ends on top. If making Herbed Bacon Crackers, tuck a base of rosemary tips under overlapping ends of bacon. If making Brown Sugar Bacon Crackers, carefully sprinkle 1/8 teaspoon brown sugar on the top side of each cracker, pressing to help it adhere (avoid getting sugar on the cracker or it will burn.) Set a perforated rack on top of the foil-lined broiler pan and arrange the crackers seam-side down 1/2 apart in a single layer and bake for 1 to 1 1/2 hours, until the bacon is at your desired level of crispness. Transfer the crackers to a cooling rack and cool completely before serving.\n",
      "-----------\n",
      "======minutes oven pan mixture butter baking bake bowl=========\n",
      "Preheat oven to 300°F. Lightly butter four 3/4-cup soufflé dishes or custard cups. Combine sugar and water in heavy small saucepan. Stir over low heat until sugar melts. Increase heat; boil without stirring until deep amber color, brushing down sides of pan with wet pastry brush and swirling pan occasionally, about 10 minutes. Immediately pour caramel into prepared dishes. Using oven mitts as aid, quickly rotate dishes to coat sides with some of caramel. Set aside. Whisk maple syrup, yolks and egg in medium bowl to blend. Combine cream and milk in heavy medium saucepan and bring to boil. Gradually whisk hot cream mixture into yolk mixture. Divide custard among prepared dishes. Set dishes into 13 x 9 x 2-inch baking pan. Add enough hot water to pan to come halfway up sides of dishes. Cover baking pan with foil. Bake custards until set in center, about 55 minutes. Chill custard uncovered until cold, at least 5 hours. (Can be made 1 day ahead. Cover; keep refrigerated.) To serve, run knife around dish sides to loosen custards. Invert onto plates.\n",
      "-----------\n",
      "Pulse together flour, almonds, brown sugar, and salt in a food processor until nuts are finely chopped. Add butter and pulse just until blended. Coarsely crumble in a shallow baking pan and chill at least 1 hour. Preheat oven to 425°F with rack in middle. Scrape seeds from vanilla bean into a small heavy saucepan, then add pod and butter and cook over medium-low heat, swirling pan occasionally, until butter is browned and fragrant, about 4 minutes. While butter browns, stir together sugars, flour, and a pinch of salt in a large bowl. Add pears and brandy and toss to combine. Discard vanilla pod, then toss butter with pear mixture. Spoon filling into gratin dishes and sprinkle with topping, mounding it slightly in centers. Put in a shallow baking pan and bake 30 minutes, then rotate baking sheet and bake until topping is golden brown and filling is bubbling, 10 to 15 minutes more. Cool to warm or room temperature on a rack.\n",
      "-----------\n",
      "Preheat oven to 350°F. Lightly butter 10-inch-diameter glass pie dish. Mix crumbs and melted butter in small bowl. Press crumb mixture evenly over bottom and up sides (but not onto rim) of prepared dish. Refrigerate while preparing filling. Blend cream cheese, 1/2 cup sugar and flour in processor until smooth. Add vanilla. Gradually pour in milk and process until smooth, occasionally scraping down sides of bowl. Add eggs; process until blended. Transfer batter to prepared crust. Mix remaining 2 tablespoons sugar with cinnamon in small bowl; sprinkle over filling. Carefully place raisins atop filling (some may sink). Bake pie until set in center, about 1 hour. Transfer to rack and cool 1 hour. Refrigerate uncovered until cold, about 2 hours; cover and chill overnight.\n",
      "-----------\n",
      "======sugar ice juice mixture water saucepan stir bowl=========\n",
      "Combine tea bags, 3 lemon verbena sprigs, and 8 cups cold water in a large pitcher. Cover and chill at least 8 hours and up to 12 hours. Meanwhile, bring sugar and 1 cup water to a boil in a medium saucepan. Add plums and reduce heat; simmer 10 minutes. Remove from heat and let steep 30 minutes. Strain plum syrup into a small bowl; stir in lemon juice. Cover and chill until cold, at least 30 minutes. Remove tea bags and lemon verbena sprigs from tea and stir in 3/4 cup plum syrup and 4 cups ice. Serve in ice-filled glasses garnished with more lemon verbena. Plum syrup can be made 1 day ahead. Keep chilled.\n",
      "-----------\n",
      "Combine cherries, kirsch, and sugar in medium bowl; stir to blend. Let stand at room temperature 24 hours, stirring occasionally. (Brandied cherries can be made 2 weeks ahead. Cover and chill.) Place 2 Martini glasses in freezer and chill at least 2 hours. Place 3 brandied cherries in each of 2 chilled glasses; crush cherries with back of spoon. Combine ice cubes, Cognac, orange curaçao, lemon juice, and cherry liqueur in cocktail shaker. Shake well, strain into Martini glasses with cherries, and serve.\n",
      "-----------\n",
      "Combine 1/4 cup clover honey and 2 tablespoon hot water in a small jar; cover and shake to dissolve honey. Combine 6 tablespoons gin, 3 tablespoons fresh lime juice, 2 tablespoons Aperol or Capelletti, 1 tablespoon honey syrup, and 2 dashes of Angostura bitters in a cocktail shaker; fill shaker with ice. Cover and shake until outside of shaker is frosty, about 30 seconds. Strain into 2 chilled coupe glasses. Top off with Champagne or sparkling wine and garnish each with a lime wheel. Repeat three more times.\n",
      "-----------\n",
      "======dough inch minutes sheet baking oven roll surface=========\n",
      "Stir yeast and sugar into warm water in measuring cup and let stand until foamy, about 5 minutes. (If mixture doesn't foam, discard and start over with new yeast.) Stir together 1 1/4 cups flour, thyme, salt, and cayenne, then make a well in center and add yeast mixture and oil, stirring to form a dough. Turn out dough onto a lightly floured surface and knead in 2 to 3 tablespoons flour (dough should be moist but not sticky). Knead until smooth and elastic, about 6 minutes, then transfer to a lightly oiled large bowl and let rise, covered with plastic wrap, in a draft-free place at warm room temperature until doubled in bulk, 1 1/2 to 2 hours. Preheat oven to 450°F. Roll out dough as thin as possible (into an 18-inch square) with a lightly floured rolling pin on a lightly floured surface. Sprinkle with kosher salt and gently press salt to help adhere. Cut dough into 1-inch squares with a pizza wheel or large sharp knife. Transfer with a lightly floured metal spatula to 3 lightly oiled baking sheets, placing squares close together. Bake in batches in middle of oven, rotating sheets halfway through baking, until bottoms are golden (tops will remain pale), 6 to 7 minutes. Transfer to a rack to cool completely. (Crackers will crisp as they cool.)\n",
      "-----------\n",
      "Blend together butter, cheese, and yolk in a food processor until smooth. Add remaining ingredients and pulse until just combined. (If you have a small processor, divide butter mixture after blending and pulse with remaining ingredients in 2 batches.) Transfer dough (it will be very soft) to a bowl and chill, covered, 15 minutes. Halve dough, then shape each half into a 12-inch log on a lightly floured surface. Wrap logs in wax paper and foil, then chill until firm, at least 4 hours. Put oven racks in upper and lower thirds of oven and preheat oven to 350°F. Line 2 large baking sheets with parchment paper. Unwrap logs and cut into 1/8-inch-thick slices with a sharp thin knife, then arrange slices about 1 inch apart on baking sheets. Bake in batches, switching position of sheets halfway through baking, until pale golden, 12 to 15 minutes. Transfer crackers to racks to cool, about 5 minutes. Line sheets with clean parchment between batches.\n",
      "-----------\n",
      "Sift together flour, baking powder, and salt in a large bowl. Cut butter into bits and, with your fingertips or a pastry blender, blend into flour mixture until it resembles coarse meal. Using a fork, stir raisins and milk until just combined. Transfer to a lightly floured surface and, with floured hands, knead until it forms a dough. Roll out dough into a 9-inch round (about 1/2 inch thick) and cut out scones with a 2 1/2-inch round cutter. Arrange scones 1 inch apart on a buttered large baking sheet and gently reroll and cut out scraps. Bake scones in middle of a 425°F oven until pale golden, about 15 minutes, and transfer to a rack to cool.\n",
      "-----------\n",
      "======bowl salt oil pepper season large toss add=========\n",
      "Whisk mayonnaise, oil, lemon zest, and lemon juice in a medium bowl until smooth. Add carrots, radishes, cilantro, parsley, almonds, salt, and pepper and stir to combine. Whisk mayonnaise, oil, salsa verde, lemon zest, and lemon juice in another medium bowl until smooth. Pulse shallot and garlic in a food processor until very finely chopped. Add chickpeas and pulse just until coarsely chopped, about 20 seconds. Transfer to bowl with salsa verde mixture. Fold in cucumber, feta, cilantro, and parsley; season with salt and pepper. Layer 4 slices of avocado on each bottom bun. Top with a heaping 3/4 cup chickpea mixture and 2 Tbsp. spinach. Top with top bun and serve with carrot-radish slaw alongside. Chickpea salad can be made 2 days ahead. Chill in a resealable container.\n",
      "-----------\n",
      "Combine cucumber and buttermilk in blender. Chop 1/4 of avocado; set aside for salad. Cut remaining avocado into chunks. Add avocado to blender; then add 2 tablespoons red onion and 1 tablespoon basil. Blend until very smooth. Season with salt and pepper. Cover; refrigerate until chilled, about 1 hour. Mix reserved avocado, remaining 2 tablespoons onion and 1 tablespoon basil, tomato and lime juice in small bowl. (Can be prepared 1 day ahead. Cover soup and tomato salad separately and refrigerate.) Ladle cucumber soup into 4 bowls. Dollop each with 1 tablespoon yogurt; top with tomato salad and serve.\n",
      "-----------\n",
      "Mix first 4 ingredients in small bowl. Season tuna mixture with salt and pepper. Mix bell pepper, onion, and apple in medium bowl. Add half of vegetable mixture to tuna mixture and stir to blend. Add vinegar to remaining vegetable mixture; toss to combine. Season vegetable mixture to taste with salt and pepper. Place 1/4 cup lettuce in each pita half. Spoon 1/8 of tuna mixture, then 1/8 of vegetable mixture into each pita half. Place 2 pita halves on each of 4 plates and serve.\n",
      "-----------\n",
      "======heat minutes add cook skillet stirring salt medium=========\n",
      "Combine all broth ingredients in a 4- to 6-quart heavy pot and simmer, partially covered, 30 minutes. Pour through a fine-mesh sieve, then discard solids. Transfer broth to a 3-quart heavy saucepan and cover. Wash quinoa in 3 changes of cold water in a bowl, draining in fine-mesh sieve between changes of water. Return quinoa to bowl. Pat shrimp dry and sprinkle with teaspoon salt. Heat vegetable oil and achiote seeds in a 1 1/2- to 2-quart heavy saucepan over low heat until oil is bright yellow, about 10 minutes. Pour oil through sieve into cleaned 4- to 6-quart heavy pot, discarding seeds. Add 1 tablespoon butter to oil in pot and heat over moderately high heat until foam subsides, then cook shrimp and 1/4 teaspoon pepper, stirring, until shrimp are almost cooked through, 3 to 5 minutes. Transfer to a large bowl using a slotted spoon. (Do not clean pot.) Heat 2 tablespoons butter in pot over moderate heat until foam subsides, then cook mushrooms with 1/2 teaspoon salt and remaining 1/4 teaspoon pepper, stirring and scraping up any brown bits from bottom of pot, until mushrooms are softened and exude liquid, about 5 minutes. (If mushrooms do not exude liquid, add 1/2 cup water to help scrape up any brown bits.) Add mushrooms with liquid to shrimp. (Do not clean pot.) Heat olive oil and remaining tablespoon butter in pot over moderate heat until foam subsides, then cook onion, garlic, and remaining 1/2 teaspoon salt, stirring occasionally, until onion is softened, about 5 minutes. Add quinoa and aj amarillo and cook, stirring, 5 minutes. Add wine and saffron, then simmer briskly, stirring constantly, until wine is absorbed, about 5 minutes. Meanwhile, bring clam broth to a simmer and stir, then keep at a bare simmer. Add 1/2 cup broth to quinoa and simmer briskly, stirring constantly, until broth is absorbed. Continue simmering and adding hot broth, about 1/2 cup at a time, stirring quinoa frequently and letting each addition be absorbed before adding the next, until quinoa is tender and its germs separate from grains, about 30 minutes total. (There will be some broth left over.) Stir cream into risotto and bring to a simmer over moderate heat, then add shrimp mixture with any juices and cook, stirring, until shrimp are just cooked through, 1 to 2 minutes. Remove from heat and stir in cheese and 2 tablespoons basil, then season with salt and pepper. Serve sprinkled with remaining tablespoon basil.\n",
      "-----------\n",
      "Cook bacon in heavy 8-quart Dutch oven over high heat until fat is rendered, about 4 minutes. Using slotted spoon, transfer bacon to medium bowl. Pour off all but 2 tablespoons fat from pot and reserve. Heat fat in pot over high heat. Working in batches, add pork, sprinkle with salt and pepper and brown lightly on all sides. Transfer each batch to bowl with bacon. Add onions to pot. Reduce heat to medium; cook until tender, about 8 minutes. Return pork and bacon to pot. Add broth, wine and bay leaves. Cover; simmer 1 hour. Cut cabbage, carrots, turnips and potatoes into 3/4- to 1-inch pieces. Heat reserved bacon fat in heavy large skillet over medium-high heat. Add cabbage and cook until wilted, stirring often, about 5 minutes. Add carrots, turnips and potatoes and stir 5 minutes. Add vegetables to pork. Cover and simmer until pork is tender, about 45 minutes. Add cannellini to stew. Simmer uncovered until stew thickens, stirring occasionally, about 15 minutes. Add cloves. Season to taste with salt and pepper. (Can be prepared 1 day ahead. Cover and refrigerate. Rewarm over medium heat, stirring frequently.) Cook green beans in large pot of boiling salted water until crisp-tender, about 5 minutes. Drain and mix into stew. Ladle into shallow bowls and serve.\n",
      "-----------\n",
      "Heat oil in a large heavy pot over medium-high heat. Add onions, celery, and carrots. Saute until soft, 8-10 minutes. Add beef, veal, and pancetta; saute, breaking up with the back of a spoon, until browned, about 15 minutes. Add wine; boil 1 minute, stirring often and scraping up browned bits. Add 2 1/2 cups stock and tomato paste; stir to blend. Reduce heat to very low and gently simmer, stirring occasionally, until flavors meld, 1 1/2 hours. Season with salt and pepper. Bring milk to a simmer in a small saucepan; gradually add to sauce. Cover sauce with lid slightly ajar and simmer over low heat, stirring occasionally, until milk is absorbed, about 45 minutes, adding more stock by 1/4-cupfuls to thin if needed. DO AHEAD: Ragu can be made 2 days ahead. Chill uncovered until cold, then cover and keep chilled. Rewarm before continuing. Bring a large pot of water to a boil. Season with salt; add pasta and cook, stirring occasionally, until 1 minute before al dente. Drain, reserving 1/2 cup pasta water. Transfer ragu to a large skillet over medium-high heat. Add pasta and toss to coat. Stir in some of the reserved pasta water by tablespoonfuls if sauce seems dry. Divide pasta among warm plates. Serve with Parmesan.\n",
      "-----------\n",
      "======chicken pan oven roast minutes turkey roasting juices=========\n",
      "Position rack in bottom third of oven and preheat to 325°F. Pat turkey dry with paper towels. Turn turkey breast side down; fold wing tips under. Pull out excess fat from neck cavity and reserve. Spoon 3 cups stuffing into neck cavity. Pin down neck-skin flap with skewers to enclose stuffing. Rub back of turkey with 2 tablespoons butter; sprinkle with salt and pepper. Place turkey, breast side up, on rack in roasting pan. Spoon remaining 6 cups stuffing into main cavity. Pin with skewers to enclose stuffing. Tie legs together to hold shape. Rub 4 tablespoons butter over turkey. Sprinkle with salt and pepper. Add reserved turkey fat and 2 cups Turkey Stock to pan. Cover breast with heavy-duty foil. Roast turkey 3 1/2 hours, basting turkey, including breast under foil, every 30 minutes with pan juices and adding stock to pan, 1/2 cup at a time, if liquid evaporates. Remove foil. Roast turkey until meat thermometer inserted into thickest part of thigh registers 180°F, basting occasionally with pan juices, about 1 hour longer. Transfer turkey to platter and let stand 20 minutes. Strain juices from roasting pan into 8-cup glass measuring cup; spoon off fat. Return 1/2 cup fat to roasting pan. Add enough Turkey Stock to pan juices in measuring cup to measure 5 cups. Heat fat in roasting pan atop 2 burners over medium heat. Whisk in flour. Cook until mixture is smooth and golden, whisking constantly, about 4 minutes. Pour in wine, then whisk in stock mixture. Simmer until gravy thickens, whisking often, about 5 minutes. Season with salt and pepper. Serve turkey with gravy.\n",
      "-----------\n",
      "Preheat oven to 425°F. Gently loosen skin from turkey breasts and rub butter under skin and all over outside of breasts; season with salt and pepper. Scatter thyme sprigs, rosemary sprigs, and garlic over a large rimmed baking sheet and arrange turkey breasts, skin side up, on top. Roast turkey breasts, turning halfway through, until skin is crisp and golden brown and an instant-read thermometer inserted into the thickest part of breasts registers 160°F (for optimal moistness, you will want to cook the white meat of the turkey breasts to a lower internal temperature than you would if cooking a whole bird), 45–55 minutes. Transfer turkey breasts to a platter and let rest 10 minutes before carving. Serve turkey breasts with pan drippings alongside.\n",
      "-----------\n",
      "Set a rack inside a large heavy roasting pan. Mash 1/2 cup butter, sage, lemon zest, and paprika in a bowl to combine. Starting at neck end of turkey, loosen the skin of the breast by gently sliding your fingers underneath. Work half of lemon-sage butter under skin. Loosen skin around legs and thighs; work remaining lemonsage butter under skin. Season turkey inside and out with salt and pepper and stuff with lemons. Transfer turkey, breast side down, to prepared pan and refrigerate, uncovered, overnight. Let turkey stand at room temperature for 1 hour. Preheat oven to 375°F. Pour hot water into pan to a depth of 1/4\". Roast turkey, basting occasionally with remaining 1/4 cup butter, for 1 hour. Using paper towels, flip turkey; roast, basting occasionally, until an instant-read thermometer inserted into thickest part of thigh registers 165°, 1-1 1/2 hours longer. Transfer to a platter. Let rest for at least 20 minutes before carving.\n",
      "-----------\n",
      "======leaves sweet artichokes goat place make artichoke little=========\n",
      "Stir together all ingredients in a small bowl. Available at Middle Eastern markets and by mail order from Kalustyan's (212-685-3451).\n",
      "-----------\n",
      "A matter of preference, naturally. A ratio of 2 ounces spirit to 2 ounces soda is a good place to start if you truly want to savor the base spirit in all its glory. If it's too much, add soda 1 ounce at a time until it suits your taste. Measure along the way and make a note of your preference so that you'll always know just how much to pour.\n",
      "-----------\n",
      "Pour in the order listed so that each ingredient floats on top of the one before it. Chill before serving.\n",
      "-----------\n"
     ]
    }
   ],
   "source": [
    "for t in lda_topics:\n",
    "    print(\"======{}=========\".format(t))\n",
    "    t_recipes = df[t].tolist()\n",
    "    for r in t_recipes:\n",
    "        print(r)\n",
    "        print(\"-----------\")"
   ]
  },
  {
   "cell_type": "markdown",
   "metadata": {},
   "source": [
    "# LSA, a.k.a. truncated SVD, in scikit learn"
   ]
  },
  {
   "cell_type": "code",
   "execution_count": 175,
   "metadata": {},
   "outputs": [],
   "source": [
    "lsa_model = decomposition.TruncatedSVD(n_components=100)\n",
    "lsa_doc_matrix = lsa_model.fit_transform(vectors)\n",
    "lsa_topic_matrix = lsa_model.components_"
   ]
  },
  {
   "cell_type": "code",
   "execution_count": 180,
   "metadata": {},
   "outputs": [
    {
     "data": {
      "text/plain": [
       "array([36.93578438, 18.77197347, 14.31073601, 13.96327485, 13.17321857,\n",
       "       12.09472998, 11.72729893, 11.37863432, 11.06909287, 10.51728921,\n",
       "       10.26305928,  9.97901522,  9.83926985,  9.62415371,  9.54220295,\n",
       "        9.29550904,  9.13215189,  9.01091991,  8.90056216,  8.88657433,\n",
       "        8.71396525,  8.60052358,  8.55362881,  8.50312302,  8.30273489,\n",
       "        8.08804098,  7.97735891,  7.93193665,  7.78289947,  7.64980216,\n",
       "        7.51535926,  7.4887354 ,  7.36281693,  7.34825746,  7.25074456,\n",
       "        7.21793358,  7.15974012,  7.12235371,  7.04567302,  7.03064274,\n",
       "        6.89794457,  6.83198432,  6.82136576,  6.78753477,  6.7655953 ,\n",
       "        6.73150518,  6.68594192,  6.6564103 ,  6.5981569 ,  6.5607608 ,\n",
       "        6.53372885,  6.51350405,  6.45988773,  6.44297395,  6.41993884,\n",
       "        6.35595586,  6.29680796,  6.23625118,  6.21734277,  6.18539489,\n",
       "        6.1658299 ,  6.1565343 ,  6.14583207,  6.07212394,  6.01423112,\n",
       "        5.98756475,  5.94594301,  5.90504102,  5.88044914,  5.8648013 ,\n",
       "        5.85116199,  5.83038186,  5.77604689,  5.74116837,  5.72073385,\n",
       "        5.70882071,  5.68495381,  5.64642826,  5.59259807,  5.57119985,\n",
       "        5.56475442,  5.53876555,  5.52728475,  5.50089256,  5.49104027,\n",
       "        5.4636357 ,  5.43817202,  5.42321895,  5.38745941,  5.36081863,\n",
       "        5.34352311,  5.33285329,  5.30583316,  5.28530463,  5.25757942,\n",
       "        5.23726592,  5.19006686,  5.18867345,  5.16275787,  5.14877976])"
      ]
     },
     "execution_count": 180,
     "metadata": {},
     "output_type": "execute_result"
    }
   ],
   "source": [
    "svs = lsa_model.singular_values_\n",
    "svs"
   ]
  },
  {
   "cell_type": "code",
   "execution_count": 182,
   "metadata": {},
   "outputs": [
    {
     "data": {
      "text/plain": [
       "['minutes heat add medium bowl salt pepper cook',\n",
       " 'dough cake sugar beat pan baking cream flour',\n",
       " 'chicken grill dressing oil pepper marinade baking toss',\n",
       " 'dressing toss bowl salad ingredients season whisk pepper',\n",
       " 'chicken cake sugar ingredients cream saucepan syrup ice',\n",
       " 'dough chicken crust ice water floured pie soup',\n",
       " 'pasta chicken cake potatoes toss dressing salted drain',\n",
       " 'potatoes soup oven tender cover vegetables potato roast',\n",
       " 'medium sauté ahead add cover mix skillet ingredients',\n",
       " 'pasta lamb grill pork pot cake pan turkey']"
      ]
     },
     "execution_count": 182,
     "metadata": {},
     "output_type": "execute_result"
    }
   ],
   "source": [
    "lsa_topics = show_topics(lsa_topic_matrix[:10], 8, vocab)\n",
    "lsa_topics"
   ]
  },
  {
   "cell_type": "code",
   "execution_count": 186,
   "metadata": {},
   "outputs": [
    {
     "data": {
      "text/html": [
       "<div>\n",
       "<style scoped>\n",
       "    .dataframe tbody tr th:only-of-type {\n",
       "        vertical-align: middle;\n",
       "    }\n",
       "\n",
       "    .dataframe tbody tr th {\n",
       "        vertical-align: top;\n",
       "    }\n",
       "\n",
       "    .dataframe thead th {\n",
       "        text-align: right;\n",
       "    }\n",
       "</style>\n",
       "<table border=\"1\" class=\"dataframe\">\n",
       "  <thead>\n",
       "    <tr style=\"text-align: right;\">\n",
       "      <th></th>\n",
       "      <th>minutes heat add medium bowl salt pepper cook</th>\n",
       "      <th>dough cake sugar beat pan baking cream flour</th>\n",
       "      <th>chicken grill dressing oil pepper marinade baking toss</th>\n",
       "      <th>dressing toss bowl salad ingredients season whisk pepper</th>\n",
       "      <th>chicken cake sugar ingredients cream saucepan syrup ice</th>\n",
       "      <th>dough chicken crust ice water floured pie soup</th>\n",
       "      <th>pasta chicken cake potatoes toss dressing salted drain</th>\n",
       "      <th>potatoes soup oven tender cover vegetables potato roast</th>\n",
       "      <th>medium sauté ahead add cover mix skillet ingredients</th>\n",
       "      <th>pasta lamb grill pork pot cake pan turkey</th>\n",
       "    </tr>\n",
       "  </thead>\n",
       "  <tbody>\n",
       "    <tr>\n",
       "      <th>0</th>\n",
       "      <td>Boil broth in small saucepan until reduced to ...</td>\n",
       "      <td>Spray 9-inch-diameter springform pan with 3-in...</td>\n",
       "      <td>Preheat oven to 450°F. Whisk oil, vinegar, and...</td>\n",
       "      <td>Whisk first 4 ingredients in medium bowl to bl...</td>\n",
       "      <td>Combine first 4 ingredients in a small bowl; w...</td>\n",
       "      <td>Mix flour, sugar and salt in processor. Add bu...</td>\n",
       "      <td>Cook pasta in large pot of boiling salted wate...</td>\n",
       "      <td>In a kettle combine potatoes with enough salte...</td>\n",
       "      <td>Combine all ingredients in heavy large saucepa...</td>\n",
       "      <td>Preheat oven to 325°F. Heat oil in heavy large...</td>\n",
       "    </tr>\n",
       "    <tr>\n",
       "      <th>1</th>\n",
       "      <td>Heat 2 tablespoons oil in heavy large pot over...</td>\n",
       "      <td>Mix flour, cake flour, 1 tablespoon sugar and ...</td>\n",
       "      <td>Combine chicken and 1/4 cup oil in large bowl....</td>\n",
       "      <td>Whisk first 5 ingredients in small bowl to ble...</td>\n",
       "      <td>Mix first 5 ingredients in large bowl. Add chi...</td>\n",
       "      <td>Cut butter into bits and in a bowl with a past...</td>\n",
       "      <td>Cook pasta in large pot of boiling salted wate...</td>\n",
       "      <td>Preheat oven to 450°F. and line a baking sheet...</td>\n",
       "      <td>Mix all ingredients in medium bowl. Season wit...</td>\n",
       "      <td>Heat olive oil in heavy large skillet over med...</td>\n",
       "    </tr>\n",
       "    <tr>\n",
       "      <th>2</th>\n",
       "      <td>Melt butter with oil in heavy large skillet ov...</td>\n",
       "      <td>Preheat oven to 350°F. Butter 10-inch-diameter...</td>\n",
       "      <td>Combine first 5 ingredients in processor. Proc...</td>\n",
       "      <td>Whisk first 3 ingredients in small bowl to ble...</td>\n",
       "      <td>Bring 4 cups water to a simmer with chicken br...</td>\n",
       "      <td>Blend first 4 ingredients in processor. Add bu...</td>\n",
       "      <td>Cook pasta in an 8-quart pot of boiling salted...</td>\n",
       "      <td>Butter 6- to 8-cup ovenproof dish. Cook potato...</td>\n",
       "      <td>Mix all ingredients in medium bowl. DO AHEAD: ...</td>\n",
       "      <td>Cook pasta in an 8-quart pot of boiling salted...</td>\n",
       "    </tr>\n",
       "  </tbody>\n",
       "</table>\n",
       "</div>"
      ],
      "text/plain": [
       "       minutes heat add medium bowl salt pepper cook  \\\n",
       "0  Boil broth in small saucepan until reduced to ...   \n",
       "1  Heat 2 tablespoons oil in heavy large pot over...   \n",
       "2  Melt butter with oil in heavy large skillet ov...   \n",
       "\n",
       "        dough cake sugar beat pan baking cream flour  \\\n",
       "0  Spray 9-inch-diameter springform pan with 3-in...   \n",
       "1  Mix flour, cake flour, 1 tablespoon sugar and ...   \n",
       "2  Preheat oven to 350°F. Butter 10-inch-diameter...   \n",
       "\n",
       "  chicken grill dressing oil pepper marinade baking toss  \\\n",
       "0  Preheat oven to 450°F. Whisk oil, vinegar, and...       \n",
       "1  Combine chicken and 1/4 cup oil in large bowl....       \n",
       "2  Combine first 5 ingredients in processor. Proc...       \n",
       "\n",
       "  dressing toss bowl salad ingredients season whisk pepper  \\\n",
       "0  Whisk first 4 ingredients in medium bowl to bl...         \n",
       "1  Whisk first 5 ingredients in small bowl to ble...         \n",
       "2  Whisk first 3 ingredients in small bowl to ble...         \n",
       "\n",
       "  chicken cake sugar ingredients cream saucepan syrup ice  \\\n",
       "0  Combine first 4 ingredients in a small bowl; w...        \n",
       "1  Mix first 5 ingredients in large bowl. Add chi...        \n",
       "2  Bring 4 cups water to a simmer with chicken br...        \n",
       "\n",
       "      dough chicken crust ice water floured pie soup  \\\n",
       "0  Mix flour, sugar and salt in processor. Add bu...   \n",
       "1  Cut butter into bits and in a bowl with a past...   \n",
       "2  Blend first 4 ingredients in processor. Add bu...   \n",
       "\n",
       "  pasta chicken cake potatoes toss dressing salted drain  \\\n",
       "0  Cook pasta in large pot of boiling salted wate...       \n",
       "1  Cook pasta in large pot of boiling salted wate...       \n",
       "2  Cook pasta in an 8-quart pot of boiling salted...       \n",
       "\n",
       "  potatoes soup oven tender cover vegetables potato roast  \\\n",
       "0  In a kettle combine potatoes with enough salte...        \n",
       "1  Preheat oven to 450°F. and line a baking sheet...        \n",
       "2  Butter 6- to 8-cup ovenproof dish. Cook potato...        \n",
       "\n",
       "  medium sauté ahead add cover mix skillet ingredients  \\\n",
       "0  Combine all ingredients in heavy large saucepa...     \n",
       "1  Mix all ingredients in medium bowl. Season wit...     \n",
       "2  Mix all ingredients in medium bowl. DO AHEAD: ...     \n",
       "\n",
       "           pasta lamb grill pork pot cake pan turkey  \n",
       "0  Preheat oven to 325°F. Heat oil in heavy large...  \n",
       "1  Heat olive oil in heavy large skillet over med...  \n",
       "2  Cook pasta in an 8-quart pot of boiling salted...  "
      ]
     },
     "execution_count": 186,
     "metadata": {},
     "output_type": "execute_result"
    }
   ],
   "source": [
    "show_docs_by_topic(lsa_doc_matrix[:, :10], 3, lsa_topics, recipes)"
   ]
  }
 ],
 "metadata": {
  "kernelspec": {
   "display_name": "Python [conda env:food] *",
   "language": "python",
   "name": "conda-env-food-py"
  },
  "language_info": {
   "codemirror_mode": {
    "name": "ipython",
    "version": 3
   },
   "file_extension": ".py",
   "mimetype": "text/x-python",
   "name": "python",
   "nbconvert_exporter": "python",
   "pygments_lexer": "ipython3",
   "version": "3.6.10"
  }
 },
 "nbformat": 4,
 "nbformat_minor": 4
}
