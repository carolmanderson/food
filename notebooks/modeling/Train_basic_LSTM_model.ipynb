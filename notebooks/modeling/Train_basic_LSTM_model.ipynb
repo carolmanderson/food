{
 "cells": [
  {
   "cell_type": "markdown",
   "metadata": {
    "colab_type": "text",
    "id": "view-in-github"
   },
   "source": [
    "<a href=\"https://colab.research.google.com/github/carolmanderson/food/blob/master/notebooks/modeling/Train_basic_LSTM_model.ipynb\" target=\"_parent\"><img src=\"https://colab.research.google.com/assets/colab-badge.svg\" alt=\"Open In Colab\"/></a>"
   ]
  },
  {
   "cell_type": "code",
   "execution_count": 1,
   "metadata": {
    "colab": {},
    "colab_type": "code",
    "id": "eMqeE7CmSGdm"
   },
   "outputs": [],
   "source": [
    "import json\n",
    "import os\n",
    "import pickle\n",
    "import sys\n",
    "\n",
    "import tensorflow as tf\n",
    "from tensorflow.keras.layers import Input, Embedding, LSTM, Bidirectional, TimeDistributed, Dense\n",
    "from tensorflow.keras.models import Model"
   ]
  },
  {
   "cell_type": "code",
   "execution_count": 19,
   "metadata": {},
   "outputs": [],
   "source": [
    "LOCAL = True   # training on local vs. in Colab\n",
    "\n",
    "if LOCAL:\n",
    "    base_path = \"/Users/Carol/Google Drive/\"\n",
    "    sys.path.append(\"../..\")\n",
    "    from src.training.dataset_utils import read_conll_file, compile_vocabulary, make_label_map, get_token_embeddings, examples_to_indices, tokens_to_indices\n",
    "    from src.training.train_utils import get_current_time, form_ner_train_matrices\n",
    "    from src.evaluation.calc_metrics import evaluate_ner\n",
    "else:\n",
    "    from google.colab import drive\n",
    "    drive.mount('/content/drive')\n",
    "    base_path = \"/content/drive/My Drive/\"\n",
    "    ! python -m pip install 'git+https://github.com/carolmanderson/food.git#egg=food_tools-0.3'\n",
    "    from food_tools.training.dataset_utils import read_conll_file, compile_vocabulary, make_label_map, get_token_embeddings, examples_to_indices, tokens_to_indices\n",
    "    from food_tools.training.train_utils import get_current_time, form_ner_train_matrices"
   ]
  },
  {
   "cell_type": "code",
   "execution_count": 3,
   "metadata": {},
   "outputs": [],
   "source": [
    "# input files\n",
    "train_datafile = os.path.join(base_path, \"nlp_data/recipe_data/food_gold_train.conll\")\n",
    "dev_file = os.path.join(base_path, \"nlp_data/recipe_data/food_gold_dev.conll\")\n",
    "embeddings_file = os.path.join(base_path,\"nlp_data/glove.6B.100d.txt\")"
   ]
  },
  {
   "cell_type": "code",
   "execution_count": 9,
   "metadata": {},
   "outputs": [],
   "source": [
    "# set output paths\n",
    "experiment_id = \"20200502_\" + get_current_time()\n",
    "outpath = os.path.join(base_path, \"nlp_data/output/{}\".format(experiment_id))\n",
    "if not os.path.exists(outpath):\n",
    "    os.makedirs(outpath)\n",
    "    \n",
    "model_base_name = os.path.join(outpath, experiment_id + '_food_ner_epoch_{}_dev_f1_{}.h5')\n",
    "metrics_file = os.path.join(outpath,'{}_food_ner_metrics.json'.format(experiment_id))\n",
    "mapping_file = os.path.join(outpath,'{}_food_ner_mappings.pkl'.format(experiment_id))"
   ]
  },
  {
   "cell_type": "code",
   "execution_count": 12,
   "metadata": {
    "colab": {},
    "colab_type": "code",
    "id": "Q6swvZvySGed"
   },
   "outputs": [],
   "source": [
    "# load data\n",
    "train_dataset = read_conll_file(train_datafile)\n",
    "dev_dataset = read_conll_file(dev_file)\n",
    "vocabulary = compile_vocabulary(train_dataset + dev_dataset)"
   ]
  },
  {
   "cell_type": "code",
   "execution_count": 13,
   "metadata": {
    "colab": {},
    "colab_type": "code",
    "id": "SQSqsAIGSGep"
   },
   "outputs": [],
   "source": [
    "# create mappings from token to index and label to index\n",
    "embedding_dim = 100\n",
    "token_frequency_threshold = 5\n",
    "token_to_index, embeddings = get_token_embeddings(embeddings_file, embedding_dim, vocabulary, token_frequency_threshold)\n",
    "index_to_tokens = {v:k for k, v in token_to_index.items()}\n",
    "label_to_index = make_label_map(train_dataset)\n",
    "index_to_label = {v:k for k, v in label_to_index.items()}"
   ]
  },
  {
   "cell_type": "code",
   "execution_count": 14,
   "metadata": {},
   "outputs": [],
   "source": [
    "# save the mappings\n",
    "mappings = {\"label_to_index\" : label_to_index, \"token_to_index\" : token_to_index}\n",
    "with open(mapping_file, \"wb\") as out:\n",
    "    pickle.dump(mappings, out)"
   ]
  },
  {
   "cell_type": "code",
   "execution_count": 15,
   "metadata": {
    "colab": {},
    "colab_type": "code",
    "id": "4KsJs-0vSGex"
   },
   "outputs": [],
   "source": [
    "# map tokens and labels in the data set to their indices\n",
    "train_sentences = examples_to_indices(train_dataset, label_to_index, token_to_index)\n",
    "dev_sentences = examples_to_indices(dev_dataset, label_to_index, token_to_index)"
   ]
  },
  {
   "cell_type": "code",
   "execution_count": 16,
   "metadata": {
    "colab": {},
    "colab_type": "code",
    "id": "oSP9eMGLSGe6"
   },
   "outputs": [
    {
     "name": "stderr",
     "output_type": "stream",
     "text": [
      "WARNING: Logging before flag parsing goes to stderr.\n",
      "W0502 19:26:25.030225 140736447558592 deprecation.py:506] From /Users/Carol/anaconda/envs/nlp/lib/python3.6/site-packages/tensorflow_core/python/keras/initializers.py:119: calling RandomUniform.__init__ (from tensorflow.python.ops.init_ops) with dtype is deprecated and will be removed in a future version.\n",
      "Instructions for updating:\n",
      "Call initializer instance with the dtype argument instead of passing it to the constructor\n",
      "W0502 19:26:25.076221 140736447558592 deprecation.py:506] From /Users/Carol/anaconda/envs/nlp/lib/python3.6/site-packages/tensorflow_core/python/ops/resource_variable_ops.py:1630: calling BaseResourceVariable.__init__ (from tensorflow.python.ops.resource_variable_ops) with constraint is deprecated and will be removed in a future version.\n",
      "Instructions for updating:\n",
      "If using Keras pass *_constraint arguments to layers.\n",
      "W0502 19:27:11.836698 140736447558592 deprecation.py:506] From /Users/Carol/anaconda/envs/nlp/lib/python3.6/site-packages/tensorflow_core/python/ops/init_ops.py:97: calling GlorotUniform.__init__ (from tensorflow.python.ops.init_ops) with dtype is deprecated and will be removed in a future version.\n",
      "Instructions for updating:\n",
      "Call initializer instance with the dtype argument instead of passing it to the constructor\n",
      "W0502 19:27:11.846590 140736447558592 deprecation.py:506] From /Users/Carol/anaconda/envs/nlp/lib/python3.6/site-packages/tensorflow_core/python/ops/init_ops.py:97: calling Orthogonal.__init__ (from tensorflow.python.ops.init_ops) with dtype is deprecated and will be removed in a future version.\n",
      "Instructions for updating:\n",
      "Call initializer instance with the dtype argument instead of passing it to the constructor\n",
      "W0502 19:27:11.852729 140736447558592 deprecation.py:506] From /Users/Carol/anaconda/envs/nlp/lib/python3.6/site-packages/tensorflow_core/python/ops/init_ops.py:97: calling Zeros.__init__ (from tensorflow.python.ops.init_ops) with dtype is deprecated and will be removed in a future version.\n",
      "Instructions for updating:\n",
      "Call initializer instance with the dtype argument instead of passing it to the constructor\n"
     ]
    }
   ],
   "source": [
    "# define model\n",
    "sentence_length = None\n",
    "lstm_size = 100\n",
    "n_class_labels = len(label_to_index)\n",
    "\n",
    "token_input = Input(shape=(None,), dtype='int32', name='token_input')\n",
    "token_embeddings = Embedding(input_length=sentence_length, weights = [embeddings], input_dim=embeddings.shape[0], output_dim=embeddings.shape[1], name=\"word_embeddings\")(token_input)\n",
    "lstm_layer = Bidirectional(LSTM(lstm_size, return_sequences=True), name='BiLSTM')(token_embeddings)\n",
    "output = TimeDistributed(Dense(n_class_labels, activation='softmax'), name='output_softmax')(lstm_layer)\n",
    "model = Model(inputs=token_input, outputs=output)\n",
    "opt = tf.keras.optimizers.Nadam(lr=0.002, beta_1=0.9, beta_2=0.999, epsilon=None, schedule_decay=0.004)\n",
    "model.compile(loss='sparse_categorical_crossentropy', optimizer=opt)"
   ]
  },
  {
   "cell_type": "code",
   "execution_count": 17,
   "metadata": {
    "colab": {},
    "colab_type": "code",
    "id": "iGiyTatoSGfI"
   },
   "outputs": [
    {
     "name": "stderr",
     "output_type": "stream",
     "text": [
      "W0502 19:27:16.700583 140736447558592 deprecation.py:323] From /Users/Carol/anaconda/envs/nlp/lib/python3.6/site-packages/tensorflow_core/python/ops/math_grad.py:1424: where (from tensorflow.python.ops.array_ops) is deprecated and will be removed in a future version.\n",
      "Instructions for updating:\n",
      "Use tf.where in 2.0, which has the same broadcast rule as np.where\n",
      "/Users/Carol/anaconda/envs/nlp/lib/python3.6/site-packages/sklearn/metrics/classification.py:1437: UndefinedMetricWarning: Precision and F-score are ill-defined and being set to 0.0 in labels with no predicted samples.\n",
      "  'precision', 'predicted', average, warn_for)\n"
     ]
    },
    {
     "name": "stdout",
     "output_type": "stream",
     "text": [
      "epoch 0\n",
      "train F1: 0.7858033573141486\n",
      "dev F1: 0.7975727069053246\n",
      "epoch 1\n",
      "train F1: 0.7858033573141486\n",
      "dev F1: 0.7975727069053246\n"
     ]
    }
   ],
   "source": [
    "# training loop\n",
    "max_epochs = 2\n",
    "all_metrics = {}  # epoch as key, [train_metrics, dev_metrics] as value\n",
    "max_f1 = 0\n",
    "epochs_without_improvement = 0\n",
    "for epoch in range(max_epochs):\n",
    "    for sentence in train_sentences[:5]:\n",
    "        features, labels = form_ner_train_matrices(sentence)\n",
    "        loss = model.train_on_batch(features, labels)\n",
    "    dev_metrics = evaluate_ner(model, dev_sentences[:50], index_to_label)\n",
    "    dev_f1 = dev_metrics['weighted avg']['f1-score']\n",
    "    train_metrics = evaluate_ner(model, train_sentences[:50], index_to_label)\n",
    "    train_f1 = train_metrics['weighted avg']['f1-score']\n",
    "    print(\"epoch {}\".format(epoch))\n",
    "    print(\"train F1: {}\".format(train_f1))\n",
    "    print(\"dev F1: {}\".format(dev_f1))\n",
    "    all_metrics[epoch] = [train_metrics, dev_metrics]\n",
    "    if dev_f1 > max_f1:\n",
    "        max_f1 = dev_f1\n",
    "        epochs_without_improvement = 0\n",
    "        model_path = model_base_name.format(epoch, dev_f1)\n",
    "        model.save(model_path)\n",
    "    else:\n",
    "        epochs_without_improvement += 1\n",
    "    if epochs_without_improvement >= 10:\n",
    "        break\n"
   ]
  },
  {
   "cell_type": "code",
   "execution_count": 18,
   "metadata": {},
   "outputs": [],
   "source": [
    "with open(metrics_file, \"w\") as out:\n",
    "    out.write(json.dumps(all_metrics))"
   ]
  }
 ],
 "metadata": {
  "accelerator": "GPU",
  "colab": {
   "collapsed_sections": [],
   "include_colab_link": true,
   "name": "Copy of Train basic LSTM  model.ipynb",
   "private_outputs": true,
   "provenance": []
  },
  "kernelspec": {
   "display_name": "nlp",
   "language": "python",
   "name": "nlp"
  },
  "language_info": {
   "codemirror_mode": {
    "name": "ipython",
    "version": 3
   },
   "file_extension": ".py",
   "mimetype": "text/x-python",
   "name": "python",
   "nbconvert_exporter": "python",
   "pygments_lexer": "ipython3",
   "version": "3.6.5"
  }
 },
 "nbformat": 4,
 "nbformat_minor": 1
}
