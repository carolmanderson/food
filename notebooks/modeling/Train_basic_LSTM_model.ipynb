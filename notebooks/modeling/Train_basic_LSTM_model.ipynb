{
  "nbformat": 4,
  "nbformat_minor": 0,
  "metadata": {
    "accelerator": "GPU",
    "colab": {
      "name": "Copy of Copy of Train basic LSTM  model.ipynb",
      "provenance": [],
      "private_outputs": true,
      "collapsed_sections": [],
      "machine_shape": "hm",
      "include_colab_link": true
    },
    "kernelspec": {
      "display_name": "nlp",
      "language": "python",
      "name": "nlp"
    },
    "language_info": {
      "codemirror_mode": {
        "name": "ipython",
        "version": 3
      },
      "file_extension": ".py",
      "mimetype": "text/x-python",
      "name": "python",
      "nbconvert_exporter": "python",
      "pygments_lexer": "ipython3",
      "version": "3.6.5"
    }
  },
  "cells": [
    {
      "cell_type": "markdown",
      "metadata": {
        "id": "view-in-github",
        "colab_type": "text"
      },
      "source": [
        "<a href=\"https://colab.research.google.com/github/carolmanderson/food/blob/master/notebooks/modeling/Train_basic_LSTM_model.ipynb\" target=\"_parent\"><img src=\"https://colab.research.google.com/assets/colab-badge.svg\" alt=\"Open In Colab\"/></a>"
      ]
    },
    {
      "cell_type": "code",
      "metadata": {
        "colab_type": "code",
        "id": "eMqeE7CmSGdm",
        "colab": {}
      },
      "source": [
        "import json\n",
        "import os\n",
        "import pickle\n",
        "import sys\n",
        "\n",
        "import tensorflow as tf\n",
        "from tensorflow.keras.layers import Input, Embedding, LSTM, Bidirectional, TimeDistributed, Dense\n",
        "from tensorflow.keras.models import Model"
      ],
      "execution_count": 0,
      "outputs": []
    },
    {
      "cell_type": "code",
      "metadata": {
        "id": "jTBrTPSkYMcl",
        "colab_type": "code",
        "colab": {}
      },
      "source": [
        "LOCAL = False   # training on local vs. in Colab\n",
        "\n",
        "if LOCAL:\n",
        "    sys.path.append(\"../..\")\n",
        "    from src.training.dataset_utils import read_conll_file, compile_vocabulary, make_label_map, get_token_embeddings, examples_to_indices, tokens_to_indices\n",
        "    from src.training.train_utils import get_current_time, form_ner_train_matrices, evaluate_ner\n",
        "else:\n",
        "  ! python -m pip install git+https://github.com/carolmanderson/food.git#egg=food_tools-0.5\n"
      ],
      "execution_count": 0,
      "outputs": []
    },
    {
      "cell_type": "code",
      "metadata": {
        "id": "FFRGS661opHf",
        "colab_type": "code",
        "colab": {}
      },
      "source": [
        "\n",
        "if LOCAL:\n",
        "    base_path = \"/Users/Carol/Google Drive/\"\n",
        "else:\n",
        "    from google.colab import drive\n",
        "    drive.mount('/content/drive')\n",
        "    base_path = \"/content/drive/My Drive/\"\n"
      ],
      "execution_count": 0,
      "outputs": []
    },
    {
      "cell_type": "code",
      "metadata": {
        "id": "howfS4Z2UeC9",
        "colab_type": "code",
        "colab": {}
      },
      "source": [
        "if not LOCAL:\n",
        "    from food_tools.training.dataset_utils import read_conll_file, compile_vocabulary, make_label_map, get_token_embeddings, examples_to_indices, tokens_to_indices\n",
        "    from food_tools.training.train_utils import get_current_time, form_ner_train_matrices, evaluate_ner\n"
      ],
      "execution_count": 0,
      "outputs": []
    },
    {
      "cell_type": "code",
      "metadata": {
        "id": "n8PEmiOLopH1",
        "colab_type": "code",
        "colab": {}
      },
      "source": [
        "# input files\n",
        "train_datafile = os.path.join(base_path, \"nlp_data/recipe_data/food_gold_train.conll\")\n",
        "dev_file = os.path.join(base_path, \"nlp_data/recipe_data/food_gold_dev.conll\")\n",
        "embeddings_file = os.path.join(base_path,\"nlp_data/glove.6B.100d.txt\")"
      ],
      "execution_count": 0,
      "outputs": []
    },
    {
      "cell_type": "code",
      "metadata": {
        "id": "urGEoUIZopIC",
        "colab_type": "code",
        "colab": {}
      },
      "source": [
        "# set output paths\n",
        "experiment_id = \"20200503_\" + get_current_time()\n",
        "outpath = os.path.join(base_path, \"nlp_data/output/{}\".format(experiment_id))\n",
        "if not os.path.exists(outpath):\n",
        "    os.makedirs(outpath)\n",
        "    \n",
        "model_base_name = os.path.join(outpath, experiment_id + '_food_ner_epoch_{}_dev_f1_{}.h5')\n",
        "metrics_file = os.path.join(outpath,'{}_food_ner_metrics.json'.format(experiment_id))\n",
        "mapping_file = os.path.join(outpath,'{}_food_ner_mappings.pkl'.format(experiment_id))"
      ],
      "execution_count": 0,
      "outputs": []
    },
    {
      "cell_type": "code",
      "metadata": {
        "colab_type": "code",
        "id": "Q6swvZvySGed",
        "colab": {}
      },
      "source": [
        "# load data\n",
        "train_dataset = read_conll_file(train_datafile)\n",
        "dev_dataset = read_conll_file(dev_file)\n",
        "vocabulary = compile_vocabulary(train_dataset + dev_dataset)"
      ],
      "execution_count": 0,
      "outputs": []
    },
    {
      "cell_type": "code",
      "metadata": {
        "colab_type": "code",
        "id": "SQSqsAIGSGep",
        "colab": {}
      },
      "source": [
        "# create mappings from token to index and label to index\n",
        "embedding_dim = 100\n",
        "token_frequency_threshold = 5\n",
        "token_to_index, embeddings = get_token_embeddings(embeddings_file, embedding_dim, vocabulary, token_frequency_threshold)\n",
        "index_to_tokens = {v:k for k, v in token_to_index.items()}\n",
        "label_to_index = make_label_map(train_dataset)\n",
        "index_to_label = {v:k for k, v in label_to_index.items()}"
      ],
      "execution_count": 0,
      "outputs": []
    },
    {
      "cell_type": "code",
      "metadata": {
        "id": "sdgpXSLxopIc",
        "colab_type": "code",
        "colab": {}
      },
      "source": [
        "# save the mappings\n",
        "mappings = {\"label_to_index\" : label_to_index, \"token_to_index\" : token_to_index}\n",
        "with open(mapping_file, \"wb\") as out:\n",
        "    pickle.dump(mappings, out)"
      ],
      "execution_count": 0,
      "outputs": []
    },
    {
      "cell_type": "code",
      "metadata": {
        "colab_type": "code",
        "id": "4KsJs-0vSGex",
        "colab": {}
      },
      "source": [
        "# map tokens and labels in the data set to their indices\n",
        "train_sentences = examples_to_indices(train_dataset, label_to_index, token_to_index)\n",
        "dev_sentences = examples_to_indices(dev_dataset, label_to_index, token_to_index)"
      ],
      "execution_count": 0,
      "outputs": []
    },
    {
      "cell_type": "code",
      "metadata": {
        "colab_type": "code",
        "id": "oSP9eMGLSGe6",
        "colab": {}
      },
      "source": [
        "# define model\n",
        "sentence_length = None\n",
        "lstm_size = 100\n",
        "n_class_labels = len(label_to_index)\n",
        "\n",
        "token_input = Input(shape=(None,), dtype='int32', name='token_input')\n",
        "token_embeddings = Embedding(input_length=sentence_length, weights = [embeddings], input_dim=embeddings.shape[0], output_dim=embeddings.shape[1], name=\"word_embeddings\")(token_input)\n",
        "lstm_layer = Bidirectional(LSTM(lstm_size, return_sequences=True), name='BiLSTM')(token_embeddings)\n",
        "output = TimeDistributed(Dense(n_class_labels, activation='softmax'), name='output_softmax')(lstm_layer)\n",
        "model = Model(inputs=token_input, outputs=output)\n",
        "opt = tf.keras.optimizers.Nadam(lr=0.002, beta_1=0.9, beta_2=0.999, epsilon=None, schedule_decay=0.004)\n",
        "model.compile(loss='sparse_categorical_crossentropy', optimizer=opt)"
      ],
      "execution_count": 0,
      "outputs": []
    },
    {
      "cell_type": "code",
      "metadata": {
        "colab_type": "code",
        "id": "iGiyTatoSGfI",
        "colab": {}
      },
      "source": [
        "# training loop\n",
        "max_epochs = 50\n",
        "all_metrics = {}  # epoch as key, [train_metrics, dev_metrics] as value\n",
        "max_f1 = 0\n",
        "epochs_without_improvement = 0\n",
        "for epoch in range(max_epochs):\n",
        "    for sentence in train_sentences:\n",
        "        features, labels = form_ner_train_matrices(sentence)\n",
        "        loss = model.train_on_batch(features, labels)\n",
        "    dev_metrics = evaluate_ner(model, dev_sentences, index_to_label)\n",
        "    dev_f1 = dev_metrics['weighted avg']['f1-score']\n",
        "    train_metrics = evaluate_ner(model, train_sentences, index_to_label)\n",
        "    train_f1 = train_metrics['weighted avg']['f1-score']\n",
        "    print(\"epoch {}\".format(epoch))\n",
        "    print(\"train F1: {}\".format(train_f1))\n",
        "    print(\"dev F1: {}\".format(dev_f1))\n",
        "    all_metrics[epoch] = [train_metrics, dev_metrics]\n",
        "    if dev_f1 > max_f1:\n",
        "        max_f1 = dev_f1\n",
        "        epochs_without_improvement = 0\n",
        "        model_path = model_base_name.format(epoch, dev_f1)\n",
        "        model.save(model_path)\n",
        "    else:\n",
        "        epochs_without_improvement += 1\n",
        "    if epochs_without_improvement >= 10:\n",
        "        break\n"
      ],
      "execution_count": 0,
      "outputs": []
    },
    {
      "cell_type": "code",
      "metadata": {
        "id": "LZ5zkYc2opI9",
        "colab_type": "code",
        "colab": {}
      },
      "source": [
        "# log metrics\n",
        "with open(metrics_file, \"w\") as out:\n",
        "    out.write(json.dumps(all_metrics))"
      ],
      "execution_count": 0,
      "outputs": []
    }
  ]
}