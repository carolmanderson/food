{
 "cells": [
  {
   "cell_type": "markdown",
   "metadata": {
    "colab_type": "text",
    "id": "view-in-github"
   },
   "source": [
    "<a href=\"https://colab.research.google.com/github/carolmanderson/food/blob/master/notebooks/modeling/Train_basic_LSTM_model.ipynb\" target=\"_parent\"><img src=\"https://colab.research.google.com/assets/colab-badge.svg\" alt=\"Open In Colab\"/></a>"
   ]
  },
  {
   "cell_type": "code",
   "execution_count": 66,
   "metadata": {},
   "outputs": [],
   "source": [
    "import sys\n",
    "\n",
    "LOCAL = True   # training on local vs. in Colab\n",
    "\n",
    "if LOCAL:\n",
    "    sys.path.append(\"../..\")\n",
    "    from src.training.dataset_utils import read_conll_file, compile_vocabulary, make_label_map, get_token_embeddings, examples_to_indices, tokens_to_indices\n",
    "    from src.training.train_utils import generate_batch_indices, get_current_time, form_ner_train_matrices, evaluate_ner\n",
    "else:\n",
    "  ! python -m pip install git+https://github.com/carolmanderson/food.git#egg=food_tools-0.8"
   ]
  },
  {
   "cell_type": "code",
   "execution_count": 67,
   "metadata": {
    "colab": {},
    "colab_type": "code",
    "id": "howfS4Z2UeC9"
   },
   "outputs": [],
   "source": [
    "if not LOCAL:\n",
    "    from food_tools.training.dataset_utils import read_conll_file, compile_vocabulary, make_label_map, get_token_embeddings, examples_to_indices, tokens_to_indices\n",
    "    from food_tools.training.train_utils import generate_batch_indices, get_current_time, form_ner_train_matrices, evaluate_ner"
   ]
  },
  {
   "cell_type": "code",
   "execution_count": 68,
   "metadata": {
    "colab": {},
    "colab_type": "code",
    "id": "eMqeE7CmSGdm"
   },
   "outputs": [],
   "source": [
    "import json\n",
    "import os\n",
    "import pickle\n",
    "\n",
    "import numpy as np\n",
    "import tensorflow as tf\n",
    "from tensorflow.keras.layers import Input, Embedding, LSTM, Bidirectional, TimeDistributed, Dense\n",
    "from tensorflow.keras.models import Model"
   ]
  },
  {
   "cell_type": "code",
   "execution_count": 69,
   "metadata": {
    "colab": {},
    "colab_type": "code",
    "id": "FFRGS661opHf"
   },
   "outputs": [],
   "source": [
    "if LOCAL:\n",
    "    base_path = \"/Users/Carol/Google Drive/\"\n",
    "else:\n",
    "    from google.colab import drive\n",
    "    drive.mount('/content/drive')\n",
    "    base_path = \"/content/drive/My Drive/\""
   ]
  },
  {
   "cell_type": "code",
   "execution_count": 70,
   "metadata": {
    "colab": {},
    "colab_type": "code",
    "id": "n8PEmiOLopH1"
   },
   "outputs": [],
   "source": [
    "# input files\n",
    "train_datafile = os.path.join(base_path, \"nlp_data/recipe_data/20200523_food_gold_train.conll\")\n",
    "dev_file = os.path.join(base_path, \"nlp_data/recipe_data/20200523_food_gold_dev.conll\")\n",
    "embeddings_file = os.path.join(base_path,\"nlp_data/glove.6B.100d.txt\")"
   ]
  },
  {
   "cell_type": "code",
   "execution_count": 71,
   "metadata": {
    "colab": {},
    "colab_type": "code",
    "id": "urGEoUIZopIC"
   },
   "outputs": [],
   "source": [
    "# set output paths\n",
    "experiment_id = \"20200523_\" + get_current_time()\n",
    "outpath = os.path.join(base_path, \"nlp_data/output/{}\".format(experiment_id))\n",
    "if not os.path.exists(outpath):\n",
    "    os.makedirs(outpath)\n",
    "    \n",
    "model_base_name = os.path.join(outpath, experiment_id + '_food_ner_epoch_{}_dev_f1_{}.h5')\n",
    "metrics_file = os.path.join(outpath,'{}_food_ner_metrics.json'.format(experiment_id))\n",
    "mapping_file = os.path.join(outpath,'{}_food_ner_mappings.pkl'.format(experiment_id))"
   ]
  },
  {
   "cell_type": "code",
   "execution_count": 72,
   "metadata": {
    "colab": {},
    "colab_type": "code",
    "id": "Q6swvZvySGed"
   },
   "outputs": [],
   "source": [
    "# load data\n",
    "train_dataset = read_conll_file(train_datafile)\n",
    "dev_dataset = read_conll_file(dev_file)\n",
    "vocabulary = compile_vocabulary(train_dataset + dev_dataset)"
   ]
  },
  {
   "cell_type": "code",
   "execution_count": 73,
   "metadata": {
    "colab": {},
    "colab_type": "code",
    "id": "SQSqsAIGSGep"
   },
   "outputs": [],
   "source": [
    "# create mappings from token to index and label to index\n",
    "embedding_dim = 100\n",
    "token_frequency_threshold = 5\n",
    "token_to_index, embeddings = get_token_embeddings(embeddings_file, embedding_dim, vocabulary, token_frequency_threshold)\n",
    "index_to_tokens = {v:k for k, v in token_to_index.items()}\n",
    "label_to_index = make_label_map(train_dataset)\n",
    "index_to_label = {v:k for k, v in label_to_index.items()}"
   ]
  },
  {
   "cell_type": "code",
   "execution_count": 74,
   "metadata": {
    "colab": {},
    "colab_type": "code",
    "id": "sdgpXSLxopIc"
   },
   "outputs": [],
   "source": [
    "# save the mappings\n",
    "mappings = {\"label_to_index\" : label_to_index, \"token_to_index\" : token_to_index}\n",
    "with open(mapping_file, \"wb\") as out:\n",
    "    pickle.dump(mappings, out)"
   ]
  },
  {
   "cell_type": "code",
   "execution_count": 75,
   "metadata": {
    "colab": {},
    "colab_type": "code",
    "id": "4KsJs-0vSGex"
   },
   "outputs": [],
   "source": [
    "# map tokens and labels in the data set to their indices\n",
    "train_sentences = examples_to_indices(train_dataset, label_to_index, token_to_index)\n",
    "dev_sentences = examples_to_indices(dev_dataset, label_to_index, token_to_index)"
   ]
  },
  {
   "cell_type": "code",
   "execution_count": 76,
   "metadata": {
    "colab": {},
    "colab_type": "code",
    "id": "oSP9eMGLSGe6"
   },
   "outputs": [],
   "source": [
    "# define model\n",
    "sentence_length = None\n",
    "lstm_size = 100\n",
    "n_class_labels = len(label_to_index)\n",
    "\n",
    "token_input = Input(shape=(None,), dtype='int32', name='token_input')\n",
    "token_embeddings = Embedding(input_length=sentence_length, weights = [embeddings], input_dim=embeddings.shape[0], output_dim=embeddings.shape[1], name=\"word_embeddings\")(token_input)\n",
    "lstm_layer = Bidirectional(LSTM(lstm_size, return_sequences=True), name='BiLSTM')(token_embeddings)\n",
    "output = TimeDistributed(Dense(n_class_labels, activation='softmax'), name='output_softmax')(lstm_layer)\n",
    "model = Model(inputs=token_input, outputs=output)\n",
    "opt = tf.keras.optimizers.Nadam(lr=0.002, beta_1=0.9, beta_2=0.999, epsilon=None, schedule_decay=0.004)\n",
    "model.compile(loss='sparse_categorical_crossentropy', optimizer=opt)"
   ]
  },
  {
   "cell_type": "code",
   "execution_count": 78,
   "metadata": {},
   "outputs": [
    {
     "name": "stdout",
     "output_type": "stream",
     "text": [
      "epoch 1\n",
      "train F1: 0.9760074534383141\n",
      "dev F1: 0.967805299732772\n",
      "epoch 2\n",
      "train F1: 0.9856060967733279\n",
      "dev F1: 0.9784618789877809\n",
      "epoch 3\n",
      "train F1: 0.9913688687508029\n",
      "dev F1: 0.983538998521265\n",
      "epoch 4\n",
      "train F1: 0.9942390004462792\n",
      "dev F1: 0.9831426082622818\n",
      "epoch 5\n",
      "train F1: 0.9948075286813102\n",
      "dev F1: 0.9825042316793384\n",
      "epoch 6\n",
      "train F1: 0.9976164772929389\n",
      "dev F1: 0.9844670216576327\n",
      "epoch 7\n",
      "train F1: 0.9985025481006765\n",
      "dev F1: 0.9840094021410872\n",
      "epoch 8\n",
      "train F1: 0.9981633735007299\n",
      "dev F1: 0.9840537796600327\n",
      "epoch 9\n",
      "train F1: 0.9990824392864771\n",
      "dev F1: 0.9833022686476892\n",
      "epoch 10\n",
      "train F1: 0.999388441976759\n",
      "dev F1: 0.9842877562463749\n",
      "epoch 11\n",
      "train F1: 0.999602512127444\n",
      "dev F1: 0.9837159383078236\n",
      "epoch 12\n",
      "train F1: 0.9995408971473675\n",
      "dev F1: 0.9831357600115094\n",
      "epoch 13\n",
      "train F1: 0.9999694076391074\n",
      "dev F1: 0.982302320922086\n",
      "epoch 14\n",
      "train F1: 1.0\n",
      "dev F1: 0.9832325382636611\n",
      "epoch 15\n",
      "train F1: 0.9999694076391074\n",
      "dev F1: 0.9832232715247797\n",
      "epoch 16\n",
      "train F1: 0.9999694246595793\n",
      "dev F1: 0.9831757533573684\n"
     ]
    }
   ],
   "source": [
    "# training loop\n",
    "max_epochs = 50\n",
    "batch_size = 4\n",
    "all_metrics = {}  # epoch as key, [train_metrics, dev_metrics] as value\n",
    "\n",
    "train_sentence_lengths = [len(sent['tokens']) for sent in train_sentences]  # for smart batching\n",
    "epochs_without_improvement = 0\n",
    "max_f1 = 0\n",
    "for epoch in range(1, max_epochs):\n",
    "    batch_generator = generate_batch_indices(batch_size, train_sentence_lengths)\n",
    "    for batch in batch_generator:\n",
    "        batch_sentences = [train_sentences[i] for i in batch]\n",
    "        features, labels = form_ner_batch_matrices(batch_sentences, token_to_index, label_to_index)\n",
    "        loss = model.train_on_batch(features, labels)\n",
    "    dev_metrics = evaluate_ner(model, dev_sentences, index_to_label)\n",
    "    dev_f1 = dev_metrics['weighted avg']['f1-score']\n",
    "    train_metrics = evaluate_ner(model, train_sentences, index_to_label)\n",
    "    train_f1 = train_metrics['weighted avg']['f1-score']\n",
    "    print(\"epoch {}\".format(epoch))\n",
    "    print(\"train F1: {}\".format(train_f1))\n",
    "    print(\"dev F1: {}\".format(dev_f1))\n",
    "    all_metrics[epoch] = [train_metrics, dev_metrics]\n",
    "    if dev_f1 > max_f1:\n",
    "        max_f1 = dev_f1\n",
    "        epochs_without_improvement = 0\n",
    "        model_path = model_base_name.format(epoch, dev_f1)\n",
    "        model.save(model_path)\n",
    "    else:\n",
    "        epochs_without_improvement += 1\n",
    "    if epochs_without_improvement >= 10:\n",
    "        break"
   ]
  },
  {
   "cell_type": "code",
   "execution_count": 79,
   "metadata": {
    "colab": {},
    "colab_type": "code",
    "id": "LZ5zkYc2opI9"
   },
   "outputs": [],
   "source": [
    "# log metrics\n",
    "with open(metrics_file, \"w\") as out:\n",
    "    out.write(json.dumps(all_metrics))"
   ]
  },
  {
   "cell_type": "code",
   "execution_count": null,
   "metadata": {},
   "outputs": [],
   "source": []
  }
 ],
 "metadata": {
  "accelerator": "GPU",
  "colab": {
   "collapsed_sections": [],
   "include_colab_link": true,
   "machine_shape": "hm",
   "name": "Copy of Copy of Train basic LSTM  model.ipynb",
   "private_outputs": true,
   "provenance": []
  },
  "kernelspec": {
   "display_name": "nlp",
   "language": "python",
   "name": "nlp"
  },
  "language_info": {
   "codemirror_mode": {
    "name": "ipython",
    "version": 3
   },
   "file_extension": ".py",
   "mimetype": "text/x-python",
   "name": "python",
   "nbconvert_exporter": "python",
   "pygments_lexer": "ipython3",
   "version": "3.6.5"
  }
 },
 "nbformat": 4,
 "nbformat_minor": 1
}
