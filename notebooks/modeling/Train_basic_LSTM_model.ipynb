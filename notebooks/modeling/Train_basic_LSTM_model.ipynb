{
  "nbformat": 4,
  "nbformat_minor": 0,
  "metadata": {
    "kernelspec": {
      "display_name": "Python [conda env:food] *",
      "language": "python",
      "name": "conda-env-food-py"
    },
    "language_info": {
      "codemirror_mode": {
        "name": "ipython",
        "version": 3
      },
      "file_extension": ".py",
      "mimetype": "text/x-python",
      "name": "python",
      "nbconvert_exporter": "python",
      "pygments_lexer": "ipython3",
      "version": "3.7.6"
    },
    "colab": {
      "name": "Copy of Train basic LSTM  model.ipynb",
      "provenance": [],
      "private_outputs": true,
      "collapsed_sections": [],
      "include_colab_link": true
    },
    "accelerator": "GPU"
  },
  "cells": [
    {
      "cell_type": "markdown",
      "metadata": {
        "id": "view-in-github",
        "colab_type": "text"
      },
      "source": [
        "<a href=\"https://colab.research.google.com/github/carolmanderson/food/blob/master/notebooks/modeling/Train_basic_LSTM_model.ipynb\" target=\"_parent\"><img src=\"https://colab.research.google.com/assets/colab-badge.svg\" alt=\"Open In Colab\"/></a>"
      ]
    },
    {
      "cell_type": "code",
      "metadata": {
        "id": "eMqeE7CmSGdm",
        "colab_type": "code",
        "colab": {}
      },
      "source": [
        "import numpy as np\n",
        "import tensorflow as tf\n",
        "from tensorflow.keras.layers import Input, Embedding, LSTM, Bidirectional, TimeDistributed, Dense\n",
        "from tensorflow.keras.models import Model\n",
        "from tensorflow.keras.utils import to_categorical"
      ],
      "execution_count": 0,
      "outputs": []
    },
    {
      "cell_type": "code",
      "metadata": {
        "id": "-LYCKdPLUm6T",
        "colab_type": "code",
        "colab": {}
      },
      "source": [
        "! python -m pip install git+https://github.com/carolmanderson/food.git#egg=food_tools-0.0"
      ],
      "execution_count": 0,
      "outputs": []
    },
    {
      "cell_type": "code",
      "metadata": {
        "id": "PdCrbgDISGd5",
        "colab_type": "code",
        "colab": {}
      },
      "source": [
        "from food_tools.training.dataset_utils import *\n",
        "from food_tools.training.train_utils import *"
      ],
      "execution_count": 0,
      "outputs": []
    },
    {
      "cell_type": "code",
      "metadata": {
        "id": "qNymbGlKSQ6k",
        "colab_type": "code",
        "colab": {}
      },
      "source": [
        "from google.colab import drive\n",
        "drive.mount('/content/drive')"
      ],
      "execution_count": 0,
      "outputs": []
    },
    {
      "cell_type": "code",
      "metadata": {
        "id": "Q6swvZvySGed",
        "colab_type": "code",
        "colab": {}
      },
      "source": [
        "train_datafile = \"/content/drive/My Drive/NLP_data/recipe_data/food_gold_train.conll\"\n",
        "label_column = 4  # column index holding the labels to be trained on"
      ],
      "execution_count": 0,
      "outputs": []
    },
    {
      "cell_type": "code",
      "metadata": {
        "id": "8fhqwAf-SGek",
        "colab_type": "code",
        "colab": {}
      },
      "source": [
        "# read data set\n",
        "train_dataset = read_conll_file(train_datafile)\n",
        "vocabulary = compile_vocabulary(train_dataset)\n",
        "label_to_index = make_label_map(train_dataset)"
      ],
      "execution_count": 0,
      "outputs": []
    },
    {
      "cell_type": "code",
      "metadata": {
        "id": "SQSqsAIGSGep",
        "colab_type": "code",
        "colab": {}
      },
      "source": [
        "# pull out the needed embeddings\n",
        "embeddings_file = \"/content/drive/My Drive/NLP_data/glove.6B.100d.txt\"\n",
        "embedding_dim = 100\n",
        "token_frequency_threshold = 5\n",
        "token_to_index, embeddings = get_token_embeddings(embeddings_file, embedding_dim, vocabulary, token_frequency_threshold)"
      ],
      "execution_count": 0,
      "outputs": []
    },
    {
      "cell_type": "code",
      "metadata": {
        "id": "4KsJs-0vSGex",
        "colab_type": "code",
        "colab": {}
      },
      "source": [
        "# map tokens in the data set to their indices\n",
        "train_sentences = examples_to_indices(train_dataset, label_to_index, token_to_index)"
      ],
      "execution_count": 0,
      "outputs": []
    },
    {
      "cell_type": "code",
      "metadata": {
        "id": "DBkrk22afnzK",
        "colab_type": "code",
        "colab": {}
      },
      "source": [
        "index_to_label = {v:k for k, v in label_to_index.items()}\n",
        "index_to_tokens = {v:k for k, v in token_to_index.items()}"
      ],
      "execution_count": 0,
      "outputs": []
    },
    {
      "cell_type": "code",
      "metadata": {
        "id": "Y2fXrz-RSGe3",
        "colab_type": "code",
        "colab": {}
      },
      "source": [
        "sentence_length = None\n",
        "lstm_size = 100\n",
        "n_class_labels = len(label_to_index)\n",
        "max_len = 30"
      ],
      "execution_count": 0,
      "outputs": []
    },
    {
      "cell_type": "code",
      "metadata": {
        "id": "oSP9eMGLSGe6",
        "colab_type": "code",
        "colab": {}
      },
      "source": [
        "token_input = Input(shape=(None,), dtype='int32', name='token_input')\n",
        "token_embeddings = Embedding(input_length=sentence_length, weights = [embeddings], input_dim=embeddings.shape[0], output_dim=embeddings.shape[1], name=\"word_embeddings\")(token_input)\n",
        "lstm_layer = Bidirectional(LSTM(lstm_size, return_sequences=True), name='BiLSTM')(token_embeddings)\n",
        "output = TimeDistributed(Dense(n_class_labels, activation='softmax'), name='output_softmax')(lstm_layer)\n",
        "model = Model(inputs=token_input, outputs=output)\n",
        "opt = tf.keras.optimizers.Nadam(lr=0.002, beta_1=0.9, beta_2=0.999, epsilon=None, schedule_decay=0.004)\n",
        "model.compile(loss='sparse_categorical_crossentropy', optimizer=opt)"
      ],
      "execution_count": 0,
      "outputs": []
    },
    {
      "cell_type": "code",
      "metadata": {
        "id": "AvZ8t348SGfB",
        "colab_type": "code",
        "colab": {}
      },
      "source": [
        "# tensorboard writer\n",
        "logdir = \"/content/drive/My Drive/NLP_data/tensorboard_logs/recipes\""
      ],
      "execution_count": 0,
      "outputs": []
    },
    {
      "cell_type": "code",
      "metadata": {
        "id": "Z7XHcCK2SGfE",
        "colab_type": "code",
        "colab": {}
      },
      "source": [
        "def form_matrices(sentence):\n",
        "    tokens = np.expand_dims(sentence['tokens'], axis=0)\n",
        "    labels = sentence['labels']\n",
        "    labels = np.expand_dims(labels, axis=0)\n",
        "    labels = np.expand_dims(labels, axis=-1)\n",
        "#     print(\"tokens:\", tokens)\n",
        "#     print(\"labels:\", labels)\n",
        "    return np.array(tokens), np.array(labels)\n"
      ],
      "execution_count": 0,
      "outputs": []
    },
    {
      "cell_type": "code",
      "metadata": {
        "id": "iGiyTatoSGfI",
        "colab_type": "code",
        "colab": {}
      },
      "source": [
        "writer = tf.summary.create_file_writer(logdir)\n",
        "with writer.as_default():\n",
        "\n",
        "    for epoch in range(20):\n",
        "        for sentence in train_sentences:\n",
        "            features, labels = form_matrices(sentence)\n",
        "            loss = model.train_on_batch(features, labels)\n",
        "            writer.flush()"
      ],
      "execution_count": 0,
      "outputs": []
    },
    {
      "cell_type": "code",
      "metadata": {
        "id": "XG8CZ0bOSGfM",
        "colab_type": "code",
        "colab": {}
      },
      "source": [
        "# predict on dev set\n",
        "dev_file = \"/content/drive/My Drive/NLP_data/recipe_data/food_gold_dev.conll\"\n",
        "label_column = 4  # column index holding the labels to be trained on\n",
        "dev_dataset = read_conll_file(dev_file)\n",
        "dev_sentences = examples_to_indices(dev_dataset, label_to_index, token_to_index)"
      ],
      "execution_count": 0,
      "outputs": []
    },
    {
      "cell_type": "code",
      "metadata": {
        "id": "uckOTd0UdLxe",
        "colab_type": "code",
        "colab": {}
      },
      "source": [
        "for sent in dev_sentences[:2]:\n",
        "  preds = model.predict_on_batch(form_matrices(sent))\n",
        "  preds = np.argmax(preds, axis=-1)\n",
        "  labels = [index_to_label[ind] for ind in preds[0]]\n",
        "  tokens = [index_to_tokens[tok] for tok in sent['tokens']]\n",
        "  print(tokens)\n",
        "  print(labels)\n",
        "\n"
      ],
      "execution_count": 0,
      "outputs": []
    },
    {
      "cell_type": "code",
      "metadata": {
        "id": "tNSol8Q8hsLN",
        "colab_type": "code",
        "colab": {}
      },
      "source": [
        "model_path = '/content/drive/My Drive/NLP_data/recipe_data/20200421_food_ner.h5'\n",
        "model.save(model_path)"
      ],
      "execution_count": 0,
      "outputs": []
    },
    {
      "cell_type": "code",
      "metadata": {
        "id": "eeb7JkzcsdZg",
        "colab_type": "code",
        "colab": {}
      },
      "source": [
        ""
      ],
      "execution_count": 0,
      "outputs": []
    }
  ]
}