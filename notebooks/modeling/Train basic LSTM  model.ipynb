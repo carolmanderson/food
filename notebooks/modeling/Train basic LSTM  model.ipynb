{
 "cells": [
  {
   "cell_type": "code",
   "execution_count": null,
   "metadata": {},
   "outputs": [],
   "source": [
    "import tensorflow as tf\n",
    "from tensorflow.keras.layers import Input, Embedding, LSTM, Bidirectional, TimeDistributed, Dense\n",
    "from tensorflow.keras.models import Model\n",
    "from tensorflow.keras.utils import to_categorical"
   ]
  },
  {
   "cell_type": "code",
   "execution_count": null,
   "metadata": {},
   "outputs": [],
   "source": [
    "import sys\n",
    "sys.path.append(\"../../src/training\")"
   ]
  },
  {
   "cell_type": "code",
   "execution_count": null,
   "metadata": {},
   "outputs": [],
   "source": [
    "from dataset_utils import *"
   ]
  },
  {
   "cell_type": "code",
   "execution_count": null,
   "metadata": {},
   "outputs": [],
   "source": [
    "from train_utils import *"
   ]
  },
  {
   "cell_type": "code",
   "execution_count": null,
   "metadata": {},
   "outputs": [],
   "source": [
    "datafile = \"/Users/Carol/Dropbox/Repos/NER-datasets/CONLL2003/tiny_train.txt\"\n",
    "label_column = 3  # column index holding the labels to be trained on"
   ]
  },
  {
   "cell_type": "code",
   "execution_count": null,
   "metadata": {},
   "outputs": [],
   "source": [
    "# read data set\n",
    "dataset = read_conll_file(datafile)\n",
    "vocabulary = compile_vocabulary(dataset)\n",
    "label_to_index = make_label_map(dataset)"
   ]
  },
  {
   "cell_type": "code",
   "execution_count": null,
   "metadata": {},
   "outputs": [],
   "source": [
    "# pull out the needed embeddings\n",
    "embeddings_file = \"/Users/Carol/Dropbox/Code/Glove/glove.6B.100d.txt\"\n",
    "embedding_dim = 100\n",
    "token_frequency_threshold = 5\n",
    "token_to_index, embeddings = get_token_embeddings(embeddings_file, embedding_dim, vocabulary, token_frequency_threshold)"
   ]
  },
  {
   "cell_type": "code",
   "execution_count": null,
   "metadata": {},
   "outputs": [],
   "source": [
    "# map tokens in the data set to their indices\n",
    "sentences = examples_to_indices(dataset, label_to_index, token_to_index)"
   ]
  },
  {
   "cell_type": "code",
   "execution_count": null,
   "metadata": {},
   "outputs": [],
   "source": [
    "sentence_length = None\n",
    "lstm_size = 100\n",
    "n_class_labels = len(label_to_index)\n",
    "max_len = 30"
   ]
  },
  {
   "cell_type": "code",
   "execution_count": null,
   "metadata": {},
   "outputs": [],
   "source": [
    "token_input = Input(shape=(None,), dtype='int32', name='token_input')\n",
    "token_embeddings = Embedding(input_length=sentence_length, weights = [embeddings], input_dim=embeddings.shape[0], output_dim=embeddings.shape[1], name=\"word_embeddings\")(token_input)\n",
    "lstm_layer = Bidirectional(LSTM(lstm_size, return_sequences=True), name='BiLSTM')(token_embeddings)\n",
    "output = TimeDistributed(Dense(n_class_labels, activation='softmax'), name='output_softmax')(lstm_layer)\n",
    "model = Model(inputs=token_input, outputs=output)\n",
    "opt = tf.keras.optimizers.Nadam(lr=0.002, beta_1=0.9, beta_2=0.999, epsilon=None, schedule_decay=0.004)\n",
    "model.compile(loss='sparse_categorical_crossentropy', optimizer=opt)"
   ]
  },
  {
   "cell_type": "code",
   "execution_count": null,
   "metadata": {},
   "outputs": [],
   "source": [
    "# tensorboard writer\n",
    "logdir = \"/Users/Carol/Dropbox/repos/ner/tensorboard_logs\""
   ]
  },
  {
   "cell_type": "code",
   "execution_count": null,
   "metadata": {},
   "outputs": [],
   "source": [
    "def form_matrices(sentence):\n",
    "    tokens = np.expand_dims(sentence['tokens'], axis=0)\n",
    "    labels = sentence['labels']\n",
    "    labels = np.expand_dims(labels, axis=0)\n",
    "    labels = np.expand_dims(labels, axis=-1)\n",
    "#     print(\"tokens:\", tokens)\n",
    "#     print(\"labels:\", labels)\n",
    "    return tokens, labels"
   ]
  },
  {
   "cell_type": "code",
   "execution_count": null,
   "metadata": {},
   "outputs": [],
   "source": [
    "writer = tf.summary.create_file_writer(logdir)\n",
    "with writer.as_default():\n",
    "\n",
    "    for epoch in range(20):\n",
    "        for sentence in sentences:\n",
    "            features, labels = form_matrices(sentence)\n",
    "            loss = model.train_on_batch(features, labels)\n",
    "            tf.summary.scalar(\"loss\", loss, step=epoch)\n",
    "    #         summary = tf.compat.v1.Summary(value=[tf.compat.v1.Summary.Value(tag=\"loss\", \n",
    "    #                                              simple_value=loss), ])\n",
    "    #         writer.add_summary(summary, global_step=epoch + 1)\n",
    "            writer.flush()\n",
    "\n"
   ]
  },
  {
   "cell_type": "code",
   "execution_count": null,
   "metadata": {},
   "outputs": [],
   "source": []
  }
 ],
 "metadata": {
  "kernelspec": {
   "display_name": "Python [conda env:food] *",
   "language": "python",
   "name": "conda-env-food-py"
  },
  "language_info": {
   "codemirror_mode": {
    "name": "ipython",
    "version": 3
   },
   "file_extension": ".py",
   "mimetype": "text/x-python",
   "name": "python",
   "nbconvert_exporter": "python",
   "pygments_lexer": "ipython3",
   "version": "3.7.6"
  }
 },
 "nbformat": 4,
 "nbformat_minor": 2
}
