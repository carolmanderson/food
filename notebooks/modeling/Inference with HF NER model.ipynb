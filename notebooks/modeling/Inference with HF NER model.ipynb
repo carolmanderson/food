{
 "cells": [
  {
   "cell_type": "code",
   "execution_count": 1,
   "id": "f6a91a7e",
   "metadata": {},
   "outputs": [],
   "source": [
    "import gradio as gr\n",
    "from transformers import AutoConfig, AutoTokenizer, AutoModelForTokenClassification\n",
    "from transformers import pipeline"
   ]
  },
  {
   "cell_type": "code",
   "execution_count": 2,
   "id": "f9412307",
   "metadata": {},
   "outputs": [],
   "source": [
    "def convert_hf_ents_to_gradio(hf_ents):\n",
    "    gradio_ents = []\n",
    "    for hf_ent in hf_ents:\n",
    "        gradio_ent = {\"start\" : hf_ent['start'], \"end\": hf_ent['end'], \"entity\": hf_ent['entity_group']}\n",
    "        gradio_ents.append(gradio_ent)\n",
    "    return gradio_ents"
   ]
  },
  {
   "cell_type": "code",
   "execution_count": 3,
   "id": "de2567cb",
   "metadata": {},
   "outputs": [],
   "source": [
    "model_ckpt = '/Users/carolanderson/Dropbox/Website/blog_posts/food-ner/updated_roberta/checkpoint-740'\n",
    "model_ckpt = \"carolanderson/roberta-base-food-ner\""
   ]
  },
  {
   "cell_type": "code",
   "execution_count": 4,
   "id": "86b14c22",
   "metadata": {},
   "outputs": [
    {
     "data": {
      "application/vnd.jupyter.widget-view+json": {
       "model_id": "9681ac20aef246098b2d6aac5105e296",
       "version_major": 2,
       "version_minor": 0
      },
      "text/plain": [
       "Downloading (…)lve/main/config.json:   0%|          | 0.00/896 [00:00<?, ?B/s]"
      ]
     },
     "metadata": {},
     "output_type": "display_data"
    },
    {
     "data": {
      "application/vnd.jupyter.widget-view+json": {
       "model_id": "02b94ba24a7c44bab55fbdd352c256e3",
       "version_major": 2,
       "version_minor": 0
      },
      "text/plain": [
       "Downloading pytorch_model.bin:   0%|          | 0.00/496M [00:00<?, ?B/s]"
      ]
     },
     "metadata": {},
     "output_type": "display_data"
    }
   ],
   "source": [
    "model = AutoModelForTokenClassification.from_pretrained(model_ckpt)"
   ]
  },
  {
   "cell_type": "code",
   "execution_count": 10,
   "id": "97efccac",
   "metadata": {},
   "outputs": [],
   "source": [
    "tokenizer = AutoTokenizer.from_pretrained(\"roberta-base\", add_prefix_space=True)\n",
    "# tokenizer = AutoTokenizer.from_pretrained(\"carolanderson/roberta-base-food-ner\", add_prefix_space=True)  # produces warning that tokenizer does not support real words"
   ]
  },
  {
   "cell_type": "code",
   "execution_count": 9,
   "id": "b64b2426",
   "metadata": {},
   "outputs": [
    {
     "name": "stdout",
     "output_type": "stream",
     "text": [
      "[{'entity_group': 'FOOD', 'score': 0.5307181, 'word': ' water', 'start': 9, 'end': 14}, {'entity_group': 'FOOD', 'score': 0.99536836, 'word': ' bread.', 'start': 30, 'end': 36}]\n"
     ]
    }
   ],
   "source": [
    "nlp = pipeline(\"ner\", model=model, tokenizer=tokenizer)\n",
    "example = \"Saute the onions in olive oil until browned.\"\n",
    "example = \"Add bourbon and sweet vermouth to the shaker.\"\n",
    "example = \"Salt the water and butter the bread.\"\n",
    "\n",
    "ner_results = nlp(example, aggregation_strategy=\"first\")\n",
    "# ner_results = nlp(example)\n",
    "\n",
    "print(ner_results)"
   ]
  },
  {
   "cell_type": "code",
   "execution_count": 7,
   "id": "f59f768f",
   "metadata": {},
   "outputs": [
    {
     "name": "stdout",
     "output_type": "stream",
     "text": [
      "Running on local URL:  http://127.0.0.1:7860\n",
      "\n",
      "To create a public link, set `share=True` in `launch()`.\n"
     ]
    },
    {
     "data": {
      "text/html": [
       "<div><iframe src=\"http://127.0.0.1:7860/\" width=\"100%\" height=\"500\" allow=\"autoplay; camera; microphone; clipboard-read; clipboard-write;\" frameborder=\"0\" allowfullscreen></iframe></div>"
      ],
      "text/plain": [
       "<IPython.core.display.HTML object>"
      ]
     },
     "metadata": {},
     "output_type": "display_data"
    },
    {
     "data": {
      "text/plain": []
     },
     "execution_count": 7,
     "metadata": {},
     "output_type": "execute_result"
    },
    {
     "name": "stderr",
     "output_type": "stream",
     "text": [
      "/Users/carolanderson/opt/anaconda3/envs/hf_space/lib/python3.9/site-packages/transformers/pipelines/token_classification.py:393: UserWarning: Tokenizer does not support real words, using fallback heuristic\n",
      "  warnings.warn(\n"
     ]
    }
   ],
   "source": [
    "def tag(text):\n",
    "    hf_ents = nlp(text, aggregation_strategy=\"first\")\n",
    "    gradio_ents = convert_hf_ents_to_gradio(hf_ents)\n",
    "    doc ={\"text\": text,\n",
    "    \"entities\": gradio_ents}\n",
    "    return doc\n",
    "\n",
    "demo = gr.Interface(tag,\n",
    "             gr.Textbox(placeholder=\"Enter text here...\"), \n",
    "             gr.HighlightedText(),\n",
    "              examples=[\n",
    "        [\"Saute the onions in olive oil until browned.\"],\n",
    "        [\"Add bourbon and sweet vermouth to the shaker.\"],\n",
    "        [\"Salt the water and butter the bread.\"],\n",
    "        [\"Add salt to the water and spread butter on the bread.\"]\n",
    "    ])\n",
    "\n",
    "\n",
    "demo.launch()"
   ]
  },
  {
   "cell_type": "code",
   "execution_count": null,
   "id": "81c67810",
   "metadata": {},
   "outputs": [],
   "source": []
  }
 ],
 "metadata": {
  "kernelspec": {
   "display_name": "Python [conda env:hf_space]",
   "language": "python",
   "name": "conda-env-hf_space-py"
  },
  "language_info": {
   "codemirror_mode": {
    "name": "ipython",
    "version": 3
   },
   "file_extension": ".py",
   "mimetype": "text/x-python",
   "name": "python",
   "nbconvert_exporter": "python",
   "pygments_lexer": "ipython3",
   "version": "3.9.16"
  }
 },
 "nbformat": 4,
 "nbformat_minor": 5
}
