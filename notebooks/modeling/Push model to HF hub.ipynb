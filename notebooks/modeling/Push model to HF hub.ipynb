{
 "cells": [
  {
   "cell_type": "code",
   "execution_count": 1,
   "id": "b686856c",
   "metadata": {},
   "outputs": [],
   "source": [
    "from transformers import AutoTokenizer, AutoModelForTokenClassification\n",
    "from huggingface_hub import notebook_login"
   ]
  },
  {
   "cell_type": "code",
   "execution_count": 2,
   "id": "f17315e8",
   "metadata": {},
   "outputs": [
    {
     "data": {
      "application/vnd.jupyter.widget-view+json": {
       "model_id": "98cc35fd040e486da7ed947e600d735f",
       "version_major": 2,
       "version_minor": 0
      },
      "text/plain": [
       "VBox(children=(HTML(value='<center> <img\\nsrc=https://huggingface.co/front/assets/huggingface_logo-noborder.sv…"
      ]
     },
     "metadata": {},
     "output_type": "display_data"
    }
   ],
   "source": [
    "notebook_login()"
   ]
  },
  {
   "cell_type": "code",
   "execution_count": 4,
   "id": "2fc3a862",
   "metadata": {},
   "outputs": [],
   "source": [
    "model_ckpt = '/Users/carolanderson/Dropbox/Website/blog_posts/food-ner/updated_roberta/checkpoint-740'\n",
    "model = AutoModelForTokenClassification.from_pretrained(model_ckpt)\n",
    "tokenizer = AutoTokenizer.from_pretrained(\"roberta-base\", add_prefix_space=True)"
   ]
  },
  {
   "cell_type": "code",
   "execution_count": 5,
   "id": "eff23ca7",
   "metadata": {},
   "outputs": [
    {
     "data": {
      "application/vnd.jupyter.widget-view+json": {
       "model_id": "afd4d79bd7f1440caf918384bc8bda3e",
       "version_major": 2,
       "version_minor": 0
      },
      "text/plain": [
       "pytorch_model.bin:   0%|          | 0.00/496M [00:00<?, ?B/s]"
      ]
     },
     "metadata": {},
     "output_type": "display_data"
    },
    {
     "data": {
      "application/vnd.jupyter.widget-view+json": {
       "model_id": "89df4793b8114b5f9d85aa8de3921b67",
       "version_major": 2,
       "version_minor": 0
      },
      "text/plain": [
       "Upload 1 LFS files:   0%|          | 0/1 [00:00<?, ?it/s]"
      ]
     },
     "metadata": {},
     "output_type": "display_data"
    },
    {
     "data": {
      "text/plain": [
       "CommitInfo(commit_url='https://huggingface.co/carolanderson/roberta-base-food-ner/commit/12307279624267cb1327a96ea80c9d4f50a95f48', commit_message='Upload RobertaForTokenClassification', commit_description='', oid='12307279624267cb1327a96ea80c9d4f50a95f48', pr_url=None, pr_revision=None, pr_num=None)"
      ]
     },
     "execution_count": 5,
     "metadata": {},
     "output_type": "execute_result"
    }
   ],
   "source": [
    "model.push_to_hub('roberta-base-food-ner')"
   ]
  },
  {
   "cell_type": "code",
   "execution_count": 6,
   "id": "f563fd0a",
   "metadata": {},
   "outputs": [
    {
     "data": {
      "text/plain": [
       "CommitInfo(commit_url='https://huggingface.co/carolanderson/roberta-base-food-ner/commit/b958905c5d5a59c32f554ac40c34a3bd50e07fbf', commit_message='Upload tokenizer', commit_description='', oid='b958905c5d5a59c32f554ac40c34a3bd50e07fbf', pr_url=None, pr_revision=None, pr_num=None)"
      ]
     },
     "execution_count": 6,
     "metadata": {},
     "output_type": "execute_result"
    }
   ],
   "source": [
    "tokenizer.push_to_hub('roberta-base-food-ner')"
   ]
  },
  {
   "cell_type": "code",
   "execution_count": null,
   "id": "be63dc30",
   "metadata": {},
   "outputs": [],
   "source": []
  }
 ],
 "metadata": {
  "kernelspec": {
   "display_name": "Python [conda env:hf_space]",
   "language": "python",
   "name": "conda-env-hf_space-py"
  },
  "language_info": {
   "codemirror_mode": {
    "name": "ipython",
    "version": 3
   },
   "file_extension": ".py",
   "mimetype": "text/x-python",
   "name": "python",
   "nbconvert_exporter": "python",
   "pygments_lexer": "ipython3",
   "version": "3.9.16"
  }
 },
 "nbformat": 4,
 "nbformat_minor": 5
}
