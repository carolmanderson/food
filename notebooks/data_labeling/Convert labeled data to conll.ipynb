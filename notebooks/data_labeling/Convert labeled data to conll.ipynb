{
 "cells": [
  {
   "cell_type": "markdown",
   "metadata": {},
   "source": [
    "# Export annotations from Prodigy"
   ]
  },
  {
   "cell_type": "code",
   "execution_count": 3,
   "metadata": {},
   "outputs": [],
   "source": [
    "from collections import defaultdict\n",
    "import copy\n",
    "import json\n",
    "import sys\n",
    "\n",
    "import pandas as pd\n",
    "\n",
    "sys.path.append(\"../..\")\n",
    "from src.data_prep.split_dataset import train_dev_test_split\n",
    "from src.data_prep.prodigy_to_conll import get_bio_tagged_spans_from_jsonl, write_conll"
   ]
  },
  {
   "cell_type": "raw",
   "metadata": {},
   "source": [
    "Export data on command line:\n",
    "\n",
    "prodigy db-out food_ner_gold /Users/Carol/Documents/epicurious-recipes-with-rating-and-nutrition/labeled_data "
   ]
  },
  {
   "cell_type": "code",
   "execution_count": 4,
   "metadata": {},
   "outputs": [],
   "source": [
    "db_file = \"/Users/Carol/Documents/epicurious-recipes-with-rating-and-nutrition/labeled_data/food_ner_gold_2.jsonl\""
   ]
  },
  {
   "cell_type": "raw",
   "metadata": {},
   "source": [
    "Exported database is newline-delimited json.\n",
    "Sample line:\n",
    "{\"text\":\"Combine all ingredients in large bowl; toss to blend. Season salsa to taste with salt and pepper. Cover salsa and refrigerate at least 2 hours and up to 1 day, tossing occasionally.\",\"meta\":{\"row\":17006,\"subpart\":1,\"score\":0.5,\"pattern\":1},\"_input_hash\":-1530680985,\"_task_hash\":693554954,\"spans\":[{\"text\":\"salt\",\"start\":81,\"end\":85,\"priority\":0.5,\"score\":0.5,\"pattern\":-686066741,\"label\":\"FOOD\"}],\"_session_id\":\"food_ner-default\",\"_view_id\":\"ner\",\"answer\":\"accept\"}"
   ]
  },
  {
   "cell_type": "markdown",
   "metadata": {},
   "source": [
    "## Count records and see if they're complete"
   ]
  },
  {
   "cell_type": "code",
   "execution_count": 10,
   "metadata": {},
   "outputs": [],
   "source": [
    "records = defaultdict(list)\n",
    "with open(db_file, 'r') as infile:\n",
    "    for line in infile:\n",
    "        record = json.loads(line)\n",
    "        num = record['meta']['row']\n",
    "        part = record['meta']['subpart']\n",
    "        records[num].append(part)"
   ]
  },
  {
   "cell_type": "code",
   "execution_count": 11,
   "metadata": {},
   "outputs": [],
   "source": [
    "# compare to input data\n",
    "orig_file = \"/Users/Carol/Documents/epicurious-recipes-with-rating-and-nutrition/use_directions.jsonl\"\n",
    "orig_records = defaultdict(list)\n",
    "with open(db_file, 'r') as infile:\n",
    "    for line in infile:\n",
    "        record = json.loads(line)\n",
    "        num = record['meta']['row']\n",
    "        part = record['meta']['subpart']\n",
    "        orig_records[num].append(part)"
   ]
  },
  {
   "cell_type": "code",
   "execution_count": 12,
   "metadata": {},
   "outputs": [],
   "source": [
    "for rec in records:\n",
    "    assert orig_records[rec] == records[rec]"
   ]
  },
  {
   "cell_type": "code",
   "execution_count": 13,
   "metadata": {},
   "outputs": [
    {
     "name": "stdout",
     "output_type": "stream",
     "text": [
      "301\n",
      "981\n"
     ]
    }
   ],
   "source": [
    "# count labeled records\n",
    "recipes = 0\n",
    "sentences = 0\n",
    "for rec in records:\n",
    "    recipes += 1\n",
    "    sentences += len(records[rec])\n",
    "print(recipes)\n",
    "print(sentences)"
   ]
  },
  {
   "cell_type": "markdown",
   "metadata": {},
   "source": [
    "# Convert to CoNLL format"
   ]
  },
  {
   "cell_type": "code",
   "execution_count": 5,
   "metadata": {},
   "outputs": [],
   "source": [
    "token_spans = get_bio_tagged_spans_from_jsonl(db_file)"
   ]
  },
  {
   "cell_type": "code",
   "execution_count": 6,
   "metadata": {},
   "outputs": [
    {
     "data": {
      "text/plain": [
       "981"
      ]
     },
     "execution_count": 6,
     "metadata": {},
     "output_type": "execute_result"
    }
   ],
   "source": [
    "len(token_spans)"
   ]
  },
  {
   "cell_type": "code",
   "execution_count": 7,
   "metadata": {},
   "outputs": [],
   "source": [
    "# write the whole dataset out to conll \n",
    "outfile = \"/Users/Carol/Documents/epicurious-recipes-with-rating-and-nutrition/food_gold.conll\"\n",
    "write_conll(token_spans, outfile)"
   ]
  },
  {
   "cell_type": "code",
   "execution_count": 36,
   "metadata": {},
   "outputs": [],
   "source": [
    "# split into training, dev, and test sets\n",
    "train, dev, test = train_dev_test_split(token_spans, 0.6, 0.2)"
   ]
  },
  {
   "cell_type": "code",
   "execution_count": 38,
   "metadata": {},
   "outputs": [
    {
     "name": "stdout",
     "output_type": "stream",
     "text": [
      "588 196 197\n"
     ]
    }
   ],
   "source": [
    "print(len(train), len(dev), len(test))"
   ]
  },
  {
   "cell_type": "code",
   "execution_count": 39,
   "metadata": {},
   "outputs": [],
   "source": [
    "# write out training, dev, and test sets to conll\n",
    "outfilestem = \"/Users/Carol/Documents/epicurious-recipes-with-rating-and-nutrition/food_gold_{}.conll\"\n",
    "for dataset, name in zip([train, dev, test], [\"train\", \"dev\", \"test\"]):\n",
    "    write_conll(dataset, outfilestem.format(name))   "
   ]
  },
  {
   "cell_type": "markdown",
   "metadata": {},
   "source": [
    "# To import back to Prodigy for visualization\n",
    "\n",
    "prodigy db-in [dataset] [in_file] [--loader] [--answer] [--overwrite] [--dry]\n"
   ]
  },
  {
   "cell_type": "code",
   "execution_count": null,
   "metadata": {},
   "outputs": [],
   "source": []
  }
 ],
 "metadata": {
  "kernelspec": {
   "display_name": "Python [conda env:prodigy]",
   "language": "python",
   "name": "conda-env-prodigy-py"
  },
  "language_info": {
   "codemirror_mode": {
    "name": "ipython",
    "version": 3
   },
   "file_extension": ".py",
   "mimetype": "text/x-python",
   "name": "python",
   "nbconvert_exporter": "python",
   "pygments_lexer": "ipython3",
   "version": "3.7.4"
  }
 },
 "nbformat": 4,
 "nbformat_minor": 2
}
