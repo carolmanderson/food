{
 "cells": [
  {
   "cell_type": "markdown",
   "metadata": {},
   "source": [
    "# Connect to Prodigy database on my machine to manipulate datasets"
   ]
  },
  {
   "cell_type": "code",
   "execution_count": 1,
   "metadata": {},
   "outputs": [],
   "source": [
    "from prodigy.components.db import connect   "
   ]
  },
  {
   "cell_type": "code",
   "execution_count": null,
   "metadata": {},
   "outputs": [],
   "source": [
    "# sample code from Prodigy docs\n",
    "db = connect()                              # uses the settings in your prodigy.json\n",
    "db.add_dataset('test_dataset')              # add a dataset\n",
    "assert 'test_dataset' in db                 # check that the dataset was added\n",
    "examples = [{'text': 'hello world', '_task_hash': 123, '_input_hash': 456}]\n",
    "db.add_examples(examples, ['test_dataset'])  # add examples to the dataset\n",
    "dataset = db.get_dataset('test_dataset')     # retrieve a dataset\n",
    "assert len(dataset) == 1                     # check that the examples were added"
   ]
  },
  {
   "cell_type": "code",
   "execution_count": 2,
   "metadata": {},
   "outputs": [
    {
     "data": {
      "text/plain": [
       "['food_ner', 'food_terms', 'food_ner_2', 'food_ner_gold', 'food_ner_gold_2']"
      ]
     },
     "execution_count": 2,
     "metadata": {},
     "output_type": "execute_result"
    }
   ],
   "source": [
    "db = connect()\n",
    "db.datasets"
   ]
  },
  {
   "cell_type": "code",
   "execution_count": 37,
   "metadata": {},
   "outputs": [
    {
     "data": {
      "text/plain": [
       "True"
      ]
     },
     "execution_count": 37,
     "metadata": {},
     "output_type": "execute_result"
    }
   ],
   "source": [
    "db.drop_dataset('food_ner_gold_2')"
   ]
  },
  {
   "cell_type": "code",
   "execution_count": 38,
   "metadata": {},
   "outputs": [
    {
     "data": {
      "text/plain": [
       "<prodigy.components.db.Dataset at 0x118cdcf50>"
      ]
     },
     "execution_count": 38,
     "metadata": {},
     "output_type": "execute_result"
    }
   ],
   "source": [
    "db.add_dataset('food_ner_gold_2')       "
   ]
  },
  {
   "cell_type": "code",
   "execution_count": 11,
   "metadata": {},
   "outputs": [
    {
     "data": {
      "text/plain": [
       "['food_ner']"
      ]
     },
     "execution_count": 11,
     "metadata": {},
     "output_type": "execute_result"
    }
   ],
   "source": [
    "db.datasets"
   ]
  },
  {
   "cell_type": "code",
   "execution_count": 34,
   "metadata": {},
   "outputs": [
    {
     "name": "stdout",
     "output_type": "stream",
     "text": [
      "food_ner-default\n",
      "EXAMPLE: \n",
      "{'text': 'Combine all ingredients in large bowl; toss to blend. Season salsa to taste with salt and pepper. Cover salsa and refrigerate at least 2 hours and up to 1 day, tossing occasionally.', 'meta': {'row': 17006, 'subpart': 1, 'score': 0.5, 'pattern': 1}, '_input_hash': -1530680985, '_task_hash': 693554954, 'spans': [{'text': 'salt', 'start': 81, 'end': 85, 'priority': 0.5, 'score': 0.5, 'pattern': -686066741, 'label': 'FOOD'}], '_session_id': 'food_ner-default', '_view_id': 'ner', 'answer': 'accept'}\n",
      "EXAMPLE: \n",
      "{'text': 'In a medium saucepan over medium heat, combine the milk, sugar, and salt, and stir until the sugar has dissolved. Continue to cook, stirring occasionally, until the mixture is hot to the touch (it should register about 140° F on an instant-read thermometer).', 'meta': {'row': 17425, 'subpart': 2, 'score': 0.5, 'pattern': 1}, '_input_hash': -1915023771, '_task_hash': -438660270, 'spans': [{'text': 'salt', 'start': 68, 'end': 72, 'priority': 0.5, 'score': 0.5, 'pattern': -686066741, 'label': 'FOOD'}], '_session_id': 'food_ner-default', '_view_id': 'ner', 'answer': 'accept'}\n",
      "EXAMPLE: \n",
      "{'text': \"Whisk in the lemon juice and zest, if using (if you are using the candied lemon peels, they will be added later), and churn in an ice cream maker according to the manufacturer's directions. If using the candied lemon peels, add them during the last minute of churning. If making the ice cream cake , immediately pack into the pan. Or store, tightly covered, in the freezer.\", 'meta': {'row': 17425, 'subpart': 6, 'score': 0.5, 'pattern': 10}, '_input_hash': 915347680, '_task_hash': -720706500, 'spans': [{'text': 'lemon juice', 'start': 13, 'end': 24, 'priority': 0.5, 'score': 0.5, 'pattern': 424328329, 'label': 'FOOD'}], '_session_id': 'food_ner-default', '_view_id': 'ner', 'answer': 'accept'}\n",
      "EXAMPLE: \n",
      "{'text': 'With machine running, drop garlic into processor and chop finely. Add walnuts and next 6 ingredients; using on/off turns, process until chunky puree forms, occasionally scraping down sides. Transfer to bowl. Mix in Parmesan cheese. Season to taste with salt and pepper. DO AHEAD: Pesto can be made 4 hours ahead. Cover and refrigerate.', 'meta': {'row': 9324, 'subpart': 1, 'score': 0.5, 'pattern': 1}, '_input_hash': 2120389965, '_task_hash': -1977189732, 'spans': [{'text': 'salt', 'start': 253, 'end': 257, 'priority': 0.5, 'score': 0.5, 'pattern': -686066741, 'label': 'FOOD'}], '_session_id': 'food_ner-default', '_view_id': 'ner', 'answer': 'accept'}\n",
      "EXAMPLE: \n",
      "{'text': 'Meanwhile, rinse turkey inside and out; pat dry. Slide hand under skin of turkey breast to loosen skin. Spread butter under skin over breast meat. Arrange 4 sage leaves under skin on each side of breast. If stuffing turkey, spoon stuffing loosely into main cavity. Tuck wing tips under turkey; tie legs together loosely. Rub turkey all over with 1 tablespoon oil; sprinkle with salt and pepper.', 'meta': {'row': 146, 'subpart': 2, 'score': 0.5, 'pattern': 0}, '_input_hash': 2016914549, '_task_hash': -1537420925, 'spans': [{'text': 'butter', 'start': 111, 'end': 117, 'priority': 0.5, 'score': 0.5, 'pattern': -1715323987, 'label': 'FOOD'}], '_session_id': 'food_ner-default', '_view_id': 'ner', 'answer': 'accept'}\n",
      "food_terms-default\n",
      "EXAMPLE: \n",
      "{'text': 'sauce', 'meta': {'score': 0.8071484412000001}, '_input_hash': -1900922377, '_task_hash': -894070320, '_session_id': 'food_terms-default', '_view_id': 'text', 'answer': 'accept'}\n",
      "EXAMPLE: \n",
      "{'text': 'onion', 'meta': {'score': 0.8070134811}, '_input_hash': -265948360, '_task_hash': -270466565, '_session_id': 'food_terms-default', '_view_id': 'text', 'answer': 'accept'}\n",
      "EXAMPLE: \n",
      "{'text': 'garlic', 'meta': {'score': 0.804686914}, '_input_hash': 1617336358, '_task_hash': -1044677119, '_session_id': 'food_terms-default', '_view_id': 'text', 'answer': 'accept'}\n",
      "EXAMPLE: \n",
      "{'text': 'onions', 'meta': {'score': 0.8030741073000001}, '_input_hash': -1320595452, '_task_hash': 2003436243, '_session_id': 'food_terms-default', '_view_id': 'text', 'answer': 'accept'}\n",
      "EXAMPLE: \n",
      "{'text': 'potato', 'meta': {'score': 0.8026904511}, '_input_hash': -25228177, '_task_hash': 1932672102, '_session_id': 'food_terms-default', '_view_id': 'text', 'answer': 'accept'}\n"
     ]
    }
   ],
   "source": [
    "for session in db.sessions:\n",
    "    # Remove session if it's empty – or implement your own\n",
    "    # custom logic here\n",
    "    print(session)\n",
    "#     if session in [\"ingredient_terms-default\", \"ingredient_ner-default\"]:\n",
    "#         db.drop_dataset(session)\n",
    "    examples = db.get_dataset(session)\n",
    "    for example in examples[:5]:\n",
    "        print(\"EXAMPLE: \")\n",
    "        print(example)\n",
    "#     if not examples:\n",
    "#         db.drop_dataset(session)"
   ]
  },
  {
   "cell_type": "code",
   "execution_count": 3,
   "metadata": {},
   "outputs": [
    {
     "name": "stdout",
     "output_type": "stream",
     "text": [
      "\n",
      "  ✨  Prodigy stats\n",
      "\n",
      "Version          1.8.3                         \n",
      "Location         /Users/Carol/anaconda/envs/prodigy/lib/python3.7/site-packages/prodigy\n",
      "Prodigy Home     /Users/Carol/.prodigy         \n",
      "Platform         Darwin-16.7.0-x86_64-i386-64bit\n",
      "Python Version   3.7.4                         \n",
      "Database Name    SQLite                        \n",
      "Database Id      sqlite                        \n",
      "Total Datasets   5                             \n",
      "Total Sessions   18                            \n",
      "\n",
      "\n",
      "  ✨  Datasets\n",
      "\n",
      "  food_ner, food_terms, food_ner_2, food_ner_gold, food_ner_gold_2\n",
      "\n",
      "\n",
      "  ✨  Sessions\n",
      "\n",
      "  food_ner-default, food_terms-default, 2019-08-17_16-04-02,\n",
      "  2019-08-17_16-17-30, 2019-08-17_16-22-13, food_ner_2-default,\n",
      "  2019-08-17_16-48-45, 2019-08-17_17-32-41, 2019-08-17_17-40-01,\n",
      "  food_ner_gold-default, 2019-08-17_18-36-26, 2019-08-22_22-05-18,\n",
      "  2019-08-22_22-08-41, 2019-08-22_22-10-01, 2019-08-22_22-13-20,\n",
      "  2019-08-22_22-20-32, food_ner_gold_2-default, 2019-09-07_10-40-13\n",
      "\n",
      "\n",
      "  ✨  Dataset 'food_ner_gold'\n",
      "\n",
      "Dataset       food_ner_gold      \n",
      "Created       2019-08-17 17:32:04\n",
      "Description   Recipe foods NER   \n",
      "Author        None               \n",
      "Annotations   981                \n",
      "Accept        981                \n",
      "Reject        0                  \n",
      "Ignore        0                  \n",
      "\n"
     ]
    }
   ],
   "source": [
    "# Inspect sessions \n",
    "!prodigy stats food_ner_gold -ls"
   ]
  },
  {
   "cell_type": "code",
   "execution_count": 4,
   "metadata": {},
   "outputs": [
    {
     "name": "stdout",
     "output_type": "stream",
     "text": [
      "\n",
      "  ✨  Prodigy stats\n",
      "\n",
      "Version          1.8.3                         \n",
      "Location         /Users/Carol/anaconda/envs/prodigy/lib/python3.7/site-packages/prodigy\n",
      "Prodigy Home     /Users/Carol/.prodigy         \n",
      "Platform         Darwin-16.7.0-x86_64-i386-64bit\n",
      "Python Version   3.7.4                         \n",
      "Database Name    SQLite                        \n",
      "Database Id      sqlite                        \n",
      "Total Datasets   5                             \n",
      "Total Sessions   18                            \n",
      "\n",
      "\n",
      "  ✨  Datasets\n",
      "\n",
      "  food_ner, food_terms, food_ner_2, food_ner_gold, food_ner_gold_2\n",
      "\n",
      "\n",
      "  ✨  Sessions\n",
      "\n",
      "  food_ner-default, food_terms-default, 2019-08-17_16-04-02,\n",
      "  2019-08-17_16-17-30, 2019-08-17_16-22-13, food_ner_2-default,\n",
      "  2019-08-17_16-48-45, 2019-08-17_17-32-41, 2019-08-17_17-40-01,\n",
      "  food_ner_gold-default, 2019-08-17_18-36-26, 2019-08-22_22-05-18,\n",
      "  2019-08-22_22-08-41, 2019-08-22_22-10-01, 2019-08-22_22-13-20,\n",
      "  2019-08-22_22-20-32, food_ner_gold_2-default, 2019-09-07_10-40-13\n",
      "\n",
      "\n",
      "  ✨  Dataset 'food_ner_gold'\n",
      "\n",
      "Dataset       food_ner_gold      \n",
      "Created       2019-08-17 17:32:04\n",
      "Description   Recipe foods NER   \n",
      "Author        None               \n",
      "Annotations   981                \n",
      "Accept        981                \n",
      "Reject        0                  \n",
      "Ignore        0                  \n",
      "\n"
     ]
    }
   ],
   "source": [
    "!prodigy stats food_ner_gold -ls"
   ]
  },
  {
   "cell_type": "code",
   "execution_count": null,
   "metadata": {},
   "outputs": [
    {
     "name": "stdout",
     "output_type": "stream",
     "text": [
      "Combine all ingredients in large bowl; toss to blend. Season \u001b[38;5;16;48;5;222m salsa \u001b[0m\u001b[38;5;16;48;5;77m FOOD \u001b[0m to ta\u001b[m\u001b[38;5;16;48;5;222m\u001b[0m\u001b[38;5;16;48;5;77m\u001b[0mste with \u001b[38;5;16;48;5;222m salt \u001b[0m\u001b[38;5;16;48;5;77m FOOD \u001b[0m and \u001b[38;5;16;48;5;222m pepper \u001b[0m\u001b[38;5;16;48;5;77m FOOD \u001b[0m. Cover \u001b[38;5;16;48;5;222m salsa \u001b[0m\u001b[38;5;16;48;5;77m FOOD \u001b[0m and refrigerate at\u001b[m\u001b[38;5;16;48;5;222m\u001b[0m\u001b[38;5;16;48;5;77m\u001b[0m\u001b[38;5;16;48;5;222m\u001b[0m\u001b[38;5;16;48;5;77m\u001b[0m\u001b[38;5;16;48;5;222m\u001b[0m\u001b[38;5;16;48;5;77m\u001b[0m\u001b[38;5;16;48;5;222m\u001b[0m\u001b[38;5;16;48;5;77m\u001b[0m least 2 hours and up to 1 day, tossing occasionally.\u001b[m\n",
      "\u001b[m\n",
      "\u001b[m\n",
      "In a small bowl, lightly beat the \u001b[38;5;16;48;5;222m egg \u001b[0m\u001b[38;5;16;48;5;77m FOOD \u001b[0m and \u001b[38;5;16;48;5;222m yolks \u001b[0m\u001b[38;5;16;48;5;77m FOOD \u001b[0m together. Have r\u001b[m\u001b[38;5;16;48;5;222m\u001b[0m\u001b[38;5;16;48;5;77m\u001b[0m\u001b[38;5;16;48;5;222m\u001b[0m\u001b[38;5;16;48;5;77m\u001b[0meady a fine mesh sieve suspended over a large heatproof bowl.\u001b[m\n",
      "\u001b[m\n",
      "\u001b[m\n",
      "In a medium saucepan over medium heat, combine the \u001b[38;5;16;48;5;222m milk \u001b[0m\u001b[38;5;16;48;5;77m FOOD \u001b[0m, \u001b[38;5;16;48;5;222m sugar \u001b[0m\u001b[38;5;16;48;5;77m FOOD \u001b[0m, \u001b[m\u001b[38;5;16;48;5;222m\u001b[0m\u001b[38;5;16;48;5;77m\u001b[0m\u001b[38;5;16;48;5;222m\u001b[0m\u001b[38;5;16;48;5;77m\u001b[0mand \u001b[38;5;16;48;5;222m salt \u001b[0m\u001b[38;5;16;48;5;77m FOOD \u001b[0m, and stir until the \u001b[38;5;16;48;5;222m sugar \u001b[0m\u001b[38;5;16;48;5;77m FOOD \u001b[0m has dissolved. Continue to co\u001b[m\u001b[38;5;16;48;5;222m\u001b[0m\u001b[38;5;16;48;5;77m\u001b[0m\u001b[38;5;16;48;5;222m\u001b[0m\u001b[38;5;16;48;5;77m\u001b[0m\u001b[38;5;16;48;5;222m\u001b[0m\u001b[38;5;16;48;5;77m\u001b[0m\u001b[38;5;16;48;5;222m\u001b[0m\u001b[38;5;16;48;5;77m\u001b[0mok, stirring occasionally, until the mixture is hot to the touch (it should regi\u001b[m\u001b[38;5;16;48;5;222m\u001b[0m\u001b[38;5;16;48;5;77m\u001b[0m\u001b[38;5;16;48;5;222m\u001b[0m\u001b[38;5;16;48;5;77m\u001b[0m\u001b[38;5;16;48;5;222m\u001b[0m\u001b[38;5;16;48;5;77m\u001b[0m\u001b[38;5;16;48;5;222m\u001b[0m\u001b[38;5;16;48;5;77m\u001b[0mster about 140° F on an instant-read thermometer).\u001b[m\n",
      "\u001b[m\n",
      "\u001b[m\n",
      "Whisking the \u001b[38;5;16;48;5;222m eggs \u001b[0m\u001b[38;5;16;48;5;77m FOOD \u001b[0m constantly, slowly whisk in about 1/4 cup of the hot \u001b[38;5;16;48;5;222m \u001b[m\u001b[38;5;16;48;5;222m\u001b[0m\u001b[38;5;16;48;5;77m\u001b[0m\u001b[38;5;16;48;5;222mmilk \u001b[0m\u001b[38;5;16;48;5;77m FOOD \u001b[0m. Slowly pour the \u001b[38;5;16;48;5;222m egg mixture \u001b[0m\u001b[38;5;16;48;5;77m FOOD \u001b[0m back into the saucepan, whiskin\u001b[m\u001b[38;5;16;48;5;222m\u001b[0m\u001b[38;5;16;48;5;77m\u001b[0m\u001b[38;5;16;48;5;222m\u001b[0m\u001b[38;5;16;48;5;77m\u001b[0m\u001b[38;5;16;48;5;222m\u001b[0m\u001b[38;5;16;48;5;77m\u001b[0mg the contents of the saucepan constantly.\u001b[m\n",
      "\u001b[m\n",
      "\u001b[m\n",
      "Continue to cook the \u001b[38;5;16;48;5;222m custard \u001b[0m\u001b[38;5;16;48;5;77m FOOD \u001b[0m over medium heat, stirring constantly, unti\u001b[m\u001b[38;5;16;48;5;222m\u001b[0m\u001b[38;5;16;48;5;77m\u001b[0ml it is thick enough to coat the back of a spoon (it should register 170° F on a\u001b[m\u001b[38;5;16;48;5;222m\u001b[0m\u001b[38;5;16;48;5;77m\u001b[0mn instant-read thermometer), 3 to 4 minutes. Immediately strain the \u001b[38;5;16;48;5;222m custard \u001b[0m\u001b[38;5;16;48;5;77m FO\u001b[m:\u001b[K"
     ]
    }
   ],
   "source": [
    "!prodigy ner.print-dataset food_ner_gold-default | less -R"
   ]
  },
  {
   "cell_type": "code",
   "execution_count": 22,
   "metadata": {},
   "outputs": [],
   "source": [
    "!prodigy db-out food_ner-default > '/Users/Carol/Documents/epicurious-recipes-with-rating-and-nutrition/session.jsonl'"
   ]
  },
  {
   "cell_type": "code",
   "execution_count": 21,
   "metadata": {},
   "outputs": [
    {
     "name": "stdout",
     "output_type": "stream",
     "text": [
      "{\"text\":\"Combine all ingredients in large bowl; toss to blend. Season salsa to taste with salt and pepper. Cover salsa and refrigerate at least 2 hours and up to 1 day, tossing occasionally.\",\"meta\":{\"row\":17006,\"subpart\":1,\"score\":0.5,\"pattern\":1},\"_input_hash\":-1530680985,\"_task_hash\":693554954,\"spans\":[{\"text\":\"salt\",\"start\":81,\"end\":85,\"priority\":0.5,\"score\":0.5,\"pattern\":-686066741,\"label\":\"FOOD\"}],\"_session_id\":\"food_ner-default\",\"_view_id\":\"ner\",\"answer\":\"accept\"}\n",
      "{\"text\":\"In a medium saucepan over medium heat, combine the milk, sugar, and salt, and stir until the sugar has dissolved. Continue to cook, stirring occasionally, until the mixture is hot to the touch (it should register about 140\\u00b0 F on an instant-read thermometer).\",\"meta\":{\"row\":17425,\"subpart\":2,\"score\":0.5,\"pattern\":1},\"_input_hash\":-1915023771,\"_task_hash\":-438660270,\"spans\":[{\"text\":\"salt\",\"start\":68,\"end\":72,\"priority\":0.5,\"score\":0.5,\"pattern\":-686066741,\"label\":\"FOOD\"}],\"_session_id\":\"food_ner-default\",\"_view_id\":\"ner\",\"answer\":\"accept\"}\n",
      "{\"text\":\"Whisk in the lemon juice and zest, if using (if you are using the candied lemon peels, they will be added later), and churn in an ice cream maker according to the manufacturer's directions. If using the candied lemon peels, add them during the last minute of churning. If making the ice cream cake , immediately pack into the pan. Or store, tightly covered, in the freezer.\",\"meta\":{\"row\":17425,\"subpart\":6,\"score\":0.5,\"pattern\":10},\"_input_hash\":915347680,\"_task_hash\":-720706500,\"spans\":[{\"text\":\"lemon juice\",\"start\":13,\"end\":24,\"priority\":0.5,\"score\":0.5,\"pattern\":424328329,\"label\":\"FOOD\"}],\"_session_id\":\"food_ner-default\",\"_view_id\":\"ner\",\"answer\":\"accept\"}\n",
      "\u001b[Kalnuts and next 6 ingredients; using on/off turns, process until chunky puree fo:\u001b[KTraceback (most recent call last):\n",
      "  File \"/Users/Carol/anaconda/envs/prodigy/lib/python3.7/runpy.py\", line 193, in _run_module_as_main\n",
      "    \"__main__\", mod_spec)\n",
      "  File \"/Users/Carol/anaconda/envs/prodigy/lib/python3.7/runpy.py\", line 85, in _run_code\n",
      "    exec(code, run_globals)\n",
      "  File \"/Users/Carol/anaconda/envs/prodigy/lib/python3.7/site-packages/prodigy/__main__.py\", line 372, in <module>\n",
      "    plac.call(commands[command], arglist=args, eager=False)\n",
      "  File \"/Users/Carol/anaconda/envs/prodigy/lib/python3.7/site-packages/plac_core.py\", line 328, in call\n",
      "    cmd, result = parser.consume(arglist)\n",
      "  File \"/Users/Carol/anaconda/envs/prodigy/lib/python3.7/site-packages/plac_core.py\", line 207, in consume\n",
      "    return cmd, self.func(*(args + varargs + extraopts), **kwargs)\n",
      "  File \"/Users/Carol/anaconda/envs/prodigy/lib/python3.7/site-packages/prodigy/__main__.py\", line 270, in db_out\n",
      "    print(srsly.json_dumps(eg))\n",
      "KeyboardInterrupt\n"
     ]
    }
   ],
   "source": [
    "!prodigy db-out food_ner-default | less"
   ]
  }
 ],
 "metadata": {
  "kernelspec": {
   "display_name": "Python [conda env:prodigy] *",
   "language": "python",
   "name": "conda-env-prodigy-py"
  },
  "language_info": {
   "codemirror_mode": {
    "name": "ipython",
    "version": 3
   },
   "file_extension": ".py",
   "mimetype": "text/x-python",
   "name": "python",
   "nbconvert_exporter": "python",
   "pygments_lexer": "ipython3",
   "version": "3.7.4"
  }
 },
 "nbformat": 4,
 "nbformat_minor": 2
}
