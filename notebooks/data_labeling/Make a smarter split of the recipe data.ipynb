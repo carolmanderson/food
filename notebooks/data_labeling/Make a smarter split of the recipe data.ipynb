{
 "cells": [
  {
   "cell_type": "markdown",
   "metadata": {},
   "source": [
    "# Previously I split the data into train, dev, and test sets without keeping sentences from the same recipe together.   \n",
    "\n",
    "## Now, make a new split where sentences from the same recipe are kept together."
   ]
  },
  {
   "cell_type": "code",
   "execution_count": 1,
   "metadata": {},
   "outputs": [],
   "source": [
    "from collections import defaultdict\n",
    "import json\n",
    "import sys\n",
    "\n",
    "sys.path.append(\"../..\")\n",
    "from src.data_prep.split_dataset import train_dev_test_split\n",
    "from src.data_prep.prodigy_to_conll import get_bio_tagged_spans_from_jsonl, write_conll"
   ]
  },
  {
   "cell_type": "code",
   "execution_count": 2,
   "metadata": {},
   "outputs": [],
   "source": [
    "# labeled data from Prodigy\n",
    "db_file = \"/Users/Carol/Dropbox/epicurious-recipes-with-rating-and-nutrition/labeled_data/food_ner_gold_2.jsonl\""
   ]
  },
  {
   "cell_type": "raw",
   "metadata": {},
   "source": [
    "Exported database is newline-delimited json.\n",
    "Sample line:\n",
    "{\"text\":\"Combine all ingredients in large bowl; toss to blend. Season salsa to taste with salt and pepper. Cover salsa and refrigerate at least 2 hours and up to 1 day, tossing occasionally.\",\"meta\":{\"row\":17006,\"subpart\":1,\"score\":0.5,\"pattern\":1},\"_input_hash\":-1530680985,\"_task_hash\":693554954,\"spans\":[{\"text\":\"salt\",\"start\":81,\"end\":85,\"priority\":0.5,\"score\":0.5,\"pattern\":-686066741,\"label\":\"FOOD\"}],\"_session_id\":\"food_ner-default\",\"_view_id\":\"ner\",\"answer\":\"accept\"}"
   ]
  },
  {
   "cell_type": "code",
   "execution_count": 3,
   "metadata": {},
   "outputs": [],
   "source": [
    "records = defaultdict(list)  # recipe num as key, list of sentences as value\n",
    "with open(db_file, 'r') as infile:\n",
    "    for line in infile:\n",
    "        record = json.loads(line)\n",
    "        num = record['meta']['row']\n",
    "        part = record['meta']['subpart']\n",
    "        records[num].append(part)"
   ]
  },
  {
   "cell_type": "code",
   "execution_count": 4,
   "metadata": {},
   "outputs": [
    {
     "data": {
      "text/plain": [
       "301"
      ]
     },
     "execution_count": 4,
     "metadata": {},
     "output_type": "execute_result"
    }
   ],
   "source": [
    "recipe_ids = list((records.keys()))\n",
    "len(recipe_ids)"
   ]
  },
  {
   "cell_type": "code",
   "execution_count": 5,
   "metadata": {},
   "outputs": [],
   "source": [
    "# choose recipe indices to put in train, dev, and test sets\n",
    "train, dev, test = train_dev_test_split(recipe_ids, 0.6, 0.2, random_seed=16)"
   ]
  },
  {
   "cell_type": "code",
   "execution_count": 6,
   "metadata": {},
   "outputs": [
    {
     "name": "stdout",
     "output_type": "stream",
     "text": [
      "Training set\n",
      "Total recipes:  180\n",
      "Total sentences:  592\n",
      "_________________\n",
      "Dev set\n",
      "Total recipes:  60\n",
      "Total sentences:  195\n",
      "_________________\n",
      "Test set\n",
      "Total recipes:  61\n",
      "Total sentences:  194\n",
      "_________________\n"
     ]
    }
   ],
   "source": [
    "# count the number of recipes and sentences in each split of the data\n",
    "for name, id_list in zip([\"Training\", \"Dev\", \"Test\"], [train, dev, test]):\n",
    "    print(\"{} set\".format(name))\n",
    "    print(\"Total recipes: \", len(id_list))\n",
    "    ctr = 0\n",
    "    for recipe_id in id_list:\n",
    "        ctr += len(records[recipe_id])\n",
    "    print(\"Total sentences: \", ctr)\n",
    "    print(\"_________________\")"
   ]
  },
  {
   "cell_type": "code",
   "execution_count": 7,
   "metadata": {},
   "outputs": [],
   "source": [
    "token_spans = get_bio_tagged_spans_from_jsonl(db_file)"
   ]
  },
  {
   "cell_type": "code",
   "execution_count": 8,
   "metadata": {},
   "outputs": [
    {
     "data": {
      "text/plain": [
       "981"
      ]
     },
     "execution_count": 8,
     "metadata": {},
     "output_type": "execute_result"
    }
   ],
   "source": [
    "len(token_spans)"
   ]
  },
  {
   "cell_type": "code",
   "execution_count": 9,
   "metadata": {},
   "outputs": [
    {
     "data": {
      "text/plain": [
       "[{'text': 'Combine',\n",
       "  'start': 0,\n",
       "  'end': 7,\n",
       "  'id': 0,\n",
       "  'record_id': '17006_1',\n",
       "  'bio-tag': 'O'},\n",
       " {'text': 'all',\n",
       "  'start': 8,\n",
       "  'end': 11,\n",
       "  'id': 1,\n",
       "  'record_id': '17006_1',\n",
       "  'bio-tag': 'O'},\n",
       " {'text': 'ingredients',\n",
       "  'start': 12,\n",
       "  'end': 23,\n",
       "  'id': 2,\n",
       "  'record_id': '17006_1',\n",
       "  'bio-tag': 'O'},\n",
       " {'text': 'in',\n",
       "  'start': 24,\n",
       "  'end': 26,\n",
       "  'id': 3,\n",
       "  'record_id': '17006_1',\n",
       "  'bio-tag': 'O'},\n",
       " {'text': 'large',\n",
       "  'start': 27,\n",
       "  'end': 32,\n",
       "  'id': 4,\n",
       "  'record_id': '17006_1',\n",
       "  'bio-tag': 'O'},\n",
       " {'text': 'bowl',\n",
       "  'start': 33,\n",
       "  'end': 37,\n",
       "  'id': 5,\n",
       "  'record_id': '17006_1',\n",
       "  'bio-tag': 'O'},\n",
       " {'text': ';',\n",
       "  'start': 37,\n",
       "  'end': 38,\n",
       "  'id': 6,\n",
       "  'record_id': '17006_1',\n",
       "  'bio-tag': 'O'},\n",
       " {'text': 'toss',\n",
       "  'start': 39,\n",
       "  'end': 43,\n",
       "  'id': 7,\n",
       "  'record_id': '17006_1',\n",
       "  'bio-tag': 'O'},\n",
       " {'text': 'to',\n",
       "  'start': 44,\n",
       "  'end': 46,\n",
       "  'id': 8,\n",
       "  'record_id': '17006_1',\n",
       "  'bio-tag': 'O'},\n",
       " {'text': 'blend',\n",
       "  'start': 47,\n",
       "  'end': 52,\n",
       "  'id': 9,\n",
       "  'record_id': '17006_1',\n",
       "  'bio-tag': 'O'},\n",
       " {'text': '.',\n",
       "  'start': 52,\n",
       "  'end': 53,\n",
       "  'id': 10,\n",
       "  'record_id': '17006_1',\n",
       "  'bio-tag': 'O'},\n",
       " {'text': 'Season',\n",
       "  'start': 54,\n",
       "  'end': 60,\n",
       "  'id': 11,\n",
       "  'record_id': '17006_1',\n",
       "  'bio-tag': 'O'},\n",
       " {'text': 'salsa',\n",
       "  'start': 61,\n",
       "  'end': 66,\n",
       "  'id': 12,\n",
       "  'label': 'FOOD',\n",
       "  'record_id': '17006_1',\n",
       "  'bio-tag': 'B-FOOD'},\n",
       " {'text': 'to',\n",
       "  'start': 67,\n",
       "  'end': 69,\n",
       "  'id': 13,\n",
       "  'record_id': '17006_1',\n",
       "  'bio-tag': 'O'},\n",
       " {'text': 'taste',\n",
       "  'start': 70,\n",
       "  'end': 75,\n",
       "  'id': 14,\n",
       "  'record_id': '17006_1',\n",
       "  'bio-tag': 'O'},\n",
       " {'text': 'with',\n",
       "  'start': 76,\n",
       "  'end': 80,\n",
       "  'id': 15,\n",
       "  'record_id': '17006_1',\n",
       "  'bio-tag': 'O'},\n",
       " {'text': 'salt',\n",
       "  'start': 81,\n",
       "  'end': 85,\n",
       "  'id': 16,\n",
       "  'label': 'FOOD',\n",
       "  'record_id': '17006_1',\n",
       "  'bio-tag': 'B-FOOD'},\n",
       " {'text': 'and',\n",
       "  'start': 86,\n",
       "  'end': 89,\n",
       "  'id': 17,\n",
       "  'record_id': '17006_1',\n",
       "  'bio-tag': 'O'},\n",
       " {'text': 'pepper',\n",
       "  'start': 90,\n",
       "  'end': 96,\n",
       "  'id': 18,\n",
       "  'label': 'FOOD',\n",
       "  'record_id': '17006_1',\n",
       "  'bio-tag': 'B-FOOD'},\n",
       " {'text': '.',\n",
       "  'start': 96,\n",
       "  'end': 97,\n",
       "  'id': 19,\n",
       "  'record_id': '17006_1',\n",
       "  'bio-tag': 'O'},\n",
       " {'text': 'Cover',\n",
       "  'start': 98,\n",
       "  'end': 103,\n",
       "  'id': 20,\n",
       "  'record_id': '17006_1',\n",
       "  'bio-tag': 'O'},\n",
       " {'text': 'salsa',\n",
       "  'start': 104,\n",
       "  'end': 109,\n",
       "  'id': 21,\n",
       "  'label': 'FOOD',\n",
       "  'record_id': '17006_1',\n",
       "  'bio-tag': 'B-FOOD'},\n",
       " {'text': 'and',\n",
       "  'start': 110,\n",
       "  'end': 113,\n",
       "  'id': 22,\n",
       "  'record_id': '17006_1',\n",
       "  'bio-tag': 'O'},\n",
       " {'text': 'refrigerate',\n",
       "  'start': 114,\n",
       "  'end': 125,\n",
       "  'id': 23,\n",
       "  'record_id': '17006_1',\n",
       "  'bio-tag': 'O'},\n",
       " {'text': 'at',\n",
       "  'start': 126,\n",
       "  'end': 128,\n",
       "  'id': 24,\n",
       "  'record_id': '17006_1',\n",
       "  'bio-tag': 'O'},\n",
       " {'text': 'least',\n",
       "  'start': 129,\n",
       "  'end': 134,\n",
       "  'id': 25,\n",
       "  'record_id': '17006_1',\n",
       "  'bio-tag': 'O'},\n",
       " {'text': '2',\n",
       "  'start': 135,\n",
       "  'end': 136,\n",
       "  'id': 26,\n",
       "  'record_id': '17006_1',\n",
       "  'bio-tag': 'O'},\n",
       " {'text': 'hours',\n",
       "  'start': 137,\n",
       "  'end': 142,\n",
       "  'id': 27,\n",
       "  'record_id': '17006_1',\n",
       "  'bio-tag': 'O'},\n",
       " {'text': 'and',\n",
       "  'start': 143,\n",
       "  'end': 146,\n",
       "  'id': 28,\n",
       "  'record_id': '17006_1',\n",
       "  'bio-tag': 'O'},\n",
       " {'text': 'up',\n",
       "  'start': 147,\n",
       "  'end': 149,\n",
       "  'id': 29,\n",
       "  'record_id': '17006_1',\n",
       "  'bio-tag': 'O'},\n",
       " {'text': 'to',\n",
       "  'start': 150,\n",
       "  'end': 152,\n",
       "  'id': 30,\n",
       "  'record_id': '17006_1',\n",
       "  'bio-tag': 'O'},\n",
       " {'text': '1',\n",
       "  'start': 153,\n",
       "  'end': 154,\n",
       "  'id': 31,\n",
       "  'record_id': '17006_1',\n",
       "  'bio-tag': 'O'},\n",
       " {'text': 'day',\n",
       "  'start': 155,\n",
       "  'end': 158,\n",
       "  'id': 32,\n",
       "  'record_id': '17006_1',\n",
       "  'bio-tag': 'O'},\n",
       " {'text': ',',\n",
       "  'start': 158,\n",
       "  'end': 159,\n",
       "  'id': 33,\n",
       "  'record_id': '17006_1',\n",
       "  'bio-tag': 'O'},\n",
       " {'text': 'tossing',\n",
       "  'start': 160,\n",
       "  'end': 167,\n",
       "  'id': 34,\n",
       "  'record_id': '17006_1',\n",
       "  'bio-tag': 'O'},\n",
       " {'text': 'occasionally',\n",
       "  'start': 168,\n",
       "  'end': 180,\n",
       "  'id': 35,\n",
       "  'record_id': '17006_1',\n",
       "  'bio-tag': 'O'},\n",
       " {'text': '.',\n",
       "  'start': 180,\n",
       "  'end': 181,\n",
       "  'id': 36,\n",
       "  'record_id': '17006_1',\n",
       "  'bio-tag': 'O'}]"
      ]
     },
     "execution_count": 9,
     "metadata": {},
     "output_type": "execute_result"
    }
   ],
   "source": [
    "token_spans[0]"
   ]
  },
  {
   "cell_type": "code",
   "execution_count": 10,
   "metadata": {},
   "outputs": [],
   "source": [
    "# make separate token span lists for train, dev, and test\n",
    "train_docs = []\n",
    "dev_docs = []\n",
    "test_docs = []\n",
    "\n",
    "for doc in token_spans:\n",
    "    record_id = doc[0]['record_id']\n",
    "    recipe_id = int(record_id.split(\"_\")[0])\n",
    "    if recipe_id in train:\n",
    "        train_docs.append(doc)\n",
    "    elif recipe_id in dev:\n",
    "        dev_docs.append(doc)\n",
    "    elif recipe_id in test:\n",
    "        test_docs.append(doc)\n",
    "    else:\n",
    "        raise Exception(\"Couldn't find recipe id {} in train, dev, or test!\".format(recipe_id))\n",
    "    "
   ]
  },
  {
   "cell_type": "code",
   "execution_count": 11,
   "metadata": {},
   "outputs": [
    {
     "data": {
      "text/plain": [
       "592"
      ]
     },
     "execution_count": 11,
     "metadata": {},
     "output_type": "execute_result"
    }
   ],
   "source": [
    "len(train_docs)"
   ]
  },
  {
   "cell_type": "code",
   "execution_count": 12,
   "metadata": {},
   "outputs": [
    {
     "data": {
      "text/plain": [
       "195"
      ]
     },
     "execution_count": 12,
     "metadata": {},
     "output_type": "execute_result"
    }
   ],
   "source": [
    "len(dev_docs)"
   ]
  },
  {
   "cell_type": "code",
   "execution_count": 13,
   "metadata": {},
   "outputs": [
    {
     "data": {
      "text/plain": [
       "194"
      ]
     },
     "execution_count": 13,
     "metadata": {},
     "output_type": "execute_result"
    }
   ],
   "source": [
    "len(test_docs)"
   ]
  },
  {
   "cell_type": "markdown",
   "metadata": {},
   "source": [
    "# Convert to CoNLL format"
   ]
  },
  {
   "cell_type": "code",
   "execution_count": 14,
   "metadata": {},
   "outputs": [],
   "source": [
    "# write out training, dev, and test sets to conll\n",
    "outfilestem = \"/Users/Carol/Dropbox/epicurious-recipes-with-rating-and-nutrition/20200523_food_gold_{}.conll\"\n",
    "for dataset, name in zip([train_docs, dev_docs, test_docs], [\"train\", \"dev\", \"test\"]):\n",
    "    write_conll(dataset, outfilestem.format(name))   "
   ]
  }
 ],
 "metadata": {
  "kernelspec": {
   "display_name": "Python [conda env:prodigy]",
   "language": "python",
   "name": "conda-env-prodigy-py"
  },
  "language_info": {
   "codemirror_mode": {
    "name": "ipython",
    "version": 3
   },
   "file_extension": ".py",
   "mimetype": "text/x-python",
   "name": "python",
   "nbconvert_exporter": "python",
   "pygments_lexer": "ipython3",
   "version": "3.7.4"
  }
 },
 "nbformat": 4,
 "nbformat_minor": 2
}
